{
  "nbformat": 4,
  "nbformat_minor": 5,
  "metadata": {
    "kernelspec": {
      "display_name": "Python 3",
      "language": "python",
      "name": "python3"
    },
    "language_info": {
      "codemirror_mode": {
        "name": "ipython",
        "version": 3
      },
      "file_extension": ".py",
      "mimetype": "text/x-python",
      "name": "python",
      "nbconvert_exporter": "python",
      "pygments_lexer": "ipython3",
      "version": "3.7.10"
    },
    "toc-autonumbering": false,
    "colab": {
      "name": "SWAE_LSTM_Predict.ipynb",
      "provenance": [],
      "include_colab_link": true
    },
    "accelerator": "GPU"
  },
  "cells": [
    {
      "cell_type": "markdown",
      "metadata": {
        "id": "view-in-github",
        "colab_type": "text"
      },
      "source": [
        "<a href=\"https://colab.research.google.com/github/ganjiron/ganpython/blob/master/SWAE_LSTM_Predict.ipynb\" target=\"_parent\"><img src=\"https://colab.research.google.com/assets/colab-badge.svg\" alt=\"Open In Colab\"/></a>"
      ]
    },
    {
      "cell_type": "code",
      "metadata": {
        "id": "hybrid-toner"
      },
      "source": [
        "# 변수의 shape, type, value 확인\n",
        "def p(var) :\n",
        "    if type(var)!=type([]):\n",
        "        try: \n",
        "            print(f'Shape:{var.shape}')\n",
        "        except : \n",
        "            pass\n",
        "    print(f'Type: {type(var)}')\n",
        "    print(f'Values: {var}')\n",
        "\n",
        "def pst(_x,_name=\"\"):\n",
        "    print(f'[{_name}] Shape{_x.shape}, {type(_x)}')\n",
        "def ps(_x,_name=\"\"):\n",
        "    print(f'[{_name}] Shape{_x.shape}')"
      ],
      "id": "hybrid-toner",
      "execution_count": 8,
      "outputs": []
    },
    {
      "cell_type": "markdown",
      "metadata": {
        "id": "cathedral-gather"
      },
      "source": [
        "# LSTM AutoEncoder : WSAE-LSTM\n",
        "ref : https://github.com/ivan-ivy/ECBM4040-final-project-WSAE-LSTM "
      ],
      "id": "cathedral-gather"
    },
    {
      "cell_type": "markdown",
      "metadata": {
        "id": "disturbed-rover"
      },
      "source": [
        "## Wavelet Transform coding \n"
      ],
      "id": "disturbed-rover"
    },
    {
      "cell_type": "markdown",
      "metadata": {
        "id": "defensive-consortium"
      },
      "source": [
        "### **Import Module**"
      ],
      "id": "defensive-consortium"
    },
    {
      "cell_type": "code",
      "metadata": {
        "id": "willing-punch"
      },
      "source": [
        "#!pip install PyWavelets"
      ],
      "id": "willing-punch",
      "execution_count": null,
      "outputs": []
    },
    {
      "cell_type": "code",
      "metadata": {
        "colab": {
          "base_uri": "https://localhost:8080/",
          "height": 71
        },
        "id": "fifth-coffee",
        "outputId": "208c9097-fafc-4786-bb83-faf87b78328a"
      },
      "source": [
        "import tensorflow as tf\n",
        "import tensorflow.keras as keras\n",
        "\n",
        "import numpy as np\n",
        "import pandas as pd\n",
        "import matplotlib.pyplot as plt\n",
        "import pywt as pywt \n",
        "from statsmodels.robust import mad\n",
        "tf.__version__"
      ],
      "id": "fifth-coffee",
      "execution_count": 9,
      "outputs": [
        {
          "output_type": "stream",
          "name": "stderr",
          "text": [
            "/usr/local/lib/python3.7/dist-packages/statsmodels/tools/_testing.py:19: FutureWarning: pandas.util.testing is deprecated. Use the functions in the public API at pandas.testing instead.\n",
            "  import pandas.util.testing as tm\n"
          ]
        },
        {
          "output_type": "execute_result",
          "data": {
            "application/vnd.google.colaboratory.intrinsic+json": {
              "type": "string"
            },
            "text/plain": [
              "'2.7.0'"
            ]
          },
          "metadata": {},
          "execution_count": 9
        }
      ]
    },
    {
      "cell_type": "code",
      "source": [
        "tf.__version__"
      ],
      "metadata": {
        "colab": {
          "base_uri": "https://localhost:8080/",
          "height": 36
        },
        "id": "b7MWY_FNp2wT",
        "outputId": "e65b4f38-66d0-420e-bd15-b175a7f2b398"
      },
      "id": "b7MWY_FNp2wT",
      "execution_count": null,
      "outputs": [
        {
          "output_type": "execute_result",
          "data": {
            "application/vnd.google.colaboratory.intrinsic+json": {
              "type": "string"
            },
            "text/plain": [
              "'2.7.0'"
            ]
          },
          "metadata": {},
          "execution_count": 2
        }
      ]
    },
    {
      "cell_type": "code",
      "source": [
        "pip --version"
      ],
      "metadata": {
        "colab": {
          "base_uri": "https://localhost:8080/"
        },
        "id": "KOf97wKwxCsy",
        "outputId": "efa17019-aed8-4ca0-f26c-a649a96677a3"
      },
      "id": "KOf97wKwxCsy",
      "execution_count": 57,
      "outputs": [
        {
          "output_type": "stream",
          "name": "stdout",
          "text": [
            "pip 21.1.3 from /usr/local/lib/python3.7/dist-packages/pip (python 3.7)\n"
          ]
        }
      ]
    },
    {
      "cell_type": "markdown",
      "metadata": {
        "id": "civic-navigator"
      },
      "source": [
        "### **DataSet Load**"
      ],
      "id": "civic-navigator"
    },
    {
      "cell_type": "markdown",
      "metadata": {
        "id": "opponent-alexandria"
      },
      "source": [
        "https://github.com/FinanceData/FinanceDataReader"
      ],
      "id": "opponent-alexandria"
    },
    {
      "cell_type": "code",
      "metadata": {
        "colab": {
          "base_uri": "https://localhost:8080/"
        },
        "id": "burning-marriage",
        "outputId": "80fb0de7-8b37-4c14-a630-f3bfa3ad1c98"
      },
      "source": [
        "!pip install finance-datareader"
      ],
      "id": "burning-marriage",
      "execution_count": 2,
      "outputs": [
        {
          "output_type": "stream",
          "name": "stdout",
          "text": [
            "Collecting finance-datareader\n",
            "  Downloading finance_datareader-0.9.31-py3-none-any.whl (17 kB)\n",
            "Requirement already satisfied: pandas>=0.19.2 in /usr/local/lib/python3.7/dist-packages (from finance-datareader) (1.1.5)\n",
            "Collecting requests-file\n",
            "  Downloading requests_file-1.5.1-py2.py3-none-any.whl (3.7 kB)\n",
            "Requirement already satisfied: tqdm in /usr/local/lib/python3.7/dist-packages (from finance-datareader) (4.62.3)\n",
            "Requirement already satisfied: lxml in /usr/local/lib/python3.7/dist-packages (from finance-datareader) (4.2.6)\n",
            "Requirement already satisfied: requests>=2.3.0 in /usr/local/lib/python3.7/dist-packages (from finance-datareader) (2.23.0)\n",
            "Requirement already satisfied: pytz>=2017.2 in /usr/local/lib/python3.7/dist-packages (from pandas>=0.19.2->finance-datareader) (2018.9)\n",
            "Requirement already satisfied: python-dateutil>=2.7.3 in /usr/local/lib/python3.7/dist-packages (from pandas>=0.19.2->finance-datareader) (2.8.2)\n",
            "Requirement already satisfied: numpy>=1.15.4 in /usr/local/lib/python3.7/dist-packages (from pandas>=0.19.2->finance-datareader) (1.19.5)\n",
            "Requirement already satisfied: six>=1.5 in /usr/local/lib/python3.7/dist-packages (from python-dateutil>=2.7.3->pandas>=0.19.2->finance-datareader) (1.15.0)\n",
            "Requirement already satisfied: certifi>=2017.4.17 in /usr/local/lib/python3.7/dist-packages (from requests>=2.3.0->finance-datareader) (2021.10.8)\n",
            "Requirement already satisfied: chardet<4,>=3.0.2 in /usr/local/lib/python3.7/dist-packages (from requests>=2.3.0->finance-datareader) (3.0.4)\n",
            "Requirement already satisfied: urllib3!=1.25.0,!=1.25.1,<1.26,>=1.21.1 in /usr/local/lib/python3.7/dist-packages (from requests>=2.3.0->finance-datareader) (1.24.3)\n",
            "Requirement already satisfied: idna<3,>=2.5 in /usr/local/lib/python3.7/dist-packages (from requests>=2.3.0->finance-datareader) (2.10)\n",
            "Installing collected packages: requests-file, finance-datareader\n",
            "Successfully installed finance-datareader-0.9.31 requests-file-1.5.1\n"
          ]
        }
      ]
    },
    {
      "cell_type": "code",
      "metadata": {
        "id": "numerous-lesbian"
      },
      "source": [
        "#!pip install beautifulsoup4 "
      ],
      "id": "numerous-lesbian",
      "execution_count": 3,
      "outputs": []
    },
    {
      "cell_type": "code",
      "metadata": {
        "id": "extreme-simulation"
      },
      "source": [
        "import FinanceDataReader as fdr"
      ],
      "id": "extreme-simulation",
      "execution_count": 4,
      "outputs": []
    },
    {
      "cell_type": "code",
      "metadata": {
        "tags": [],
        "id": "second-driving"
      },
      "source": [
        "# Samsung(005930), 1992-01-01 ~ 2018-10-31\n",
        "df = fdr.DataReader('005930', '2000-01-01')"
      ],
      "id": "second-driving",
      "execution_count": 5,
      "outputs": []
    },
    {
      "cell_type": "code",
      "metadata": {
        "colab": {
          "base_uri": "https://localhost:8080/"
        },
        "id": "allied-george",
        "outputId": "d3d11251-5e1c-4e98-aab6-7b0dedb45be5"
      },
      "source": [
        "df.head(),df.tail()"
      ],
      "id": "allied-george",
      "execution_count": 6,
      "outputs": [
        {
          "output_type": "execute_result",
          "data": {
            "text/plain": [
              "(            Open  High   Low  Close   Volume    Change\n",
              " Date                                                  \n",
              " 2000-01-04  6000  6110  5660   6110  1483967  0.148496\n",
              " 2000-01-05  5800  6060  5520   5580  1493604 -0.086743\n",
              " 2000-01-06  5750  5780  5580   5620  1087810  0.007168\n",
              " 2000-01-07  5560  5670  5360   5540   806195 -0.014235\n",
              " 2000-01-10  5600  5770  5580   5770   937615  0.041516,\n",
              "              Open   High    Low  Close    Volume    Change\n",
              " Date                                                      \n",
              " 2021-12-29  80200  80200  78500  78800  19794795 -0.018680\n",
              " 2021-12-30  78900  79500  78100  78300  14236700 -0.006345\n",
              " 2022-01-03  79400  79800  78200  78600  13502112  0.003831\n",
              " 2022-01-04  78800  79200  78300  78700  12427416  0.001272\n",
              " 2022-01-05  78800  79000  76400  77400  25329387 -0.016518)"
            ]
          },
          "metadata": {},
          "execution_count": 6
        }
      ]
    },
    {
      "cell_type": "code",
      "metadata": {
        "id": "adult-lending"
      },
      "source": [
        "np_data = np.array(df) #np <- pandas data format "
      ],
      "id": "adult-lending",
      "execution_count": 10,
      "outputs": []
    },
    {
      "cell_type": "code",
      "source": [
        "np_data[:,0]"
      ],
      "metadata": {
        "colab": {
          "base_uri": "https://localhost:8080/"
        },
        "id": "zgvGYmdEuRWn",
        "outputId": "904a2e65-dc0e-4919-c48a-489a24828ebf"
      },
      "id": "zgvGYmdEuRWn",
      "execution_count": 14,
      "outputs": [
        {
          "output_type": "execute_result",
          "data": {
            "text/plain": [
              "array([ 6000.,  5800.,  5750., ..., 79400., 78800., 78800.])"
            ]
          },
          "metadata": {},
          "execution_count": 14
        }
      ]
    },
    {
      "cell_type": "code",
      "metadata": {
        "colab": {
          "base_uri": "https://localhost:8080/",
          "height": 282
        },
        "id": "dressed-subsection",
        "outputId": "c133121f-105b-4d11-f605-439f2b64cae0"
      },
      "source": [
        "plt.plot(np_data[:,3]) "
      ],
      "id": "dressed-subsection",
      "execution_count": 11,
      "outputs": [
        {
          "output_type": "execute_result",
          "data": {
            "text/plain": [
              "[<matplotlib.lines.Line2D at 0x7fca8bda8450>]"
            ]
          },
          "metadata": {},
          "execution_count": 11
        },
        {
          "output_type": "display_data",
          "data": {
            "image/png": "[encoded data removed]",
            "text/plain": [
              "<Figure size 432x288 with 1 Axes>"
            ]
          },
          "metadata": {
            "needs_background": "light"
          }
        }
      ]
    },
    {
      "cell_type": "code",
      "metadata": {
        "id": "important-consumer"
      },
      "source": [
        "# 최대,최소값으로 정규화 하기\n",
        "def MinMaxScaler(data):\n",
        "    numerator = data - np.min(data, 0)\n",
        "    denominator = (np.max(data, 0) - np.min(data, 0)) + 1e-7\n",
        "    return numerator/denominator"
      ],
      "id": "important-consumer",
      "execution_count": 15,
      "outputs": []
    },
    {
      "cell_type": "code",
      "metadata": {
        "colab": {
          "base_uri": "https://localhost:8080/"
        },
        "id": "daily-summary",
        "outputId": "bc107c65-231e-4f36-cd9c-b5d276b33687"
      },
      "source": [
        "len(np_data)"
      ],
      "id": "daily-summary",
      "execution_count": 16,
      "outputs": [
        {
          "output_type": "execute_result",
          "data": {
            "text/plain": [
              "5435"
            ]
          },
          "metadata": {},
          "execution_count": 16
        }
      ]
    },
    {
      "cell_type": "code",
      "metadata": {
        "colab": {
          "base_uri": "https://localhost:8080/"
        },
        "id": "emotional-portable",
        "outputId": "1296565d-1d61-4836-a976-7a23692ddc5b"
      },
      "source": [
        "## Normalize & input, output split \n",
        "if (len(np_data)%2) == 0 :  ## for even dataset\n",
        "    np_data = np_data[1:,...]\n",
        "\n",
        "xy = MinMaxScaler(np_data)# minmax 정규화\n",
        "X = xy[0:-1]              # input data( Open,High.Low,Close,Volume,Change)\n",
        "Y = xy[1: , 3]            # 다음날 종가 slicing -> target data\n",
        "\n",
        "# data type 확인\n",
        "ps(X,\"X\")\n",
        "ps(Y,\"Y\")"
      ],
      "id": "emotional-portable",
      "execution_count": 17,
      "outputs": [
        {
          "output_type": "stream",
          "name": "stdout",
          "text": [
            "[X] Shape(5434, 6)\n",
            "[Y] Shape(5434,)\n"
          ]
        }
      ]
    },
    {
      "cell_type": "code",
      "metadata": {
        "id": "offensive-button"
      },
      "source": [
        "def plot_diff(x1,x2,s,e):\n",
        "    in_data = x1[s:e]\n",
        "    out_data = x2[s:e]\n",
        "    plt.figure(figsize=(8,4))\n",
        "    plt.plot( in_data, color=\"b\", alpha=0.5, linewidth=2) \n",
        "    plt.plot( out_data, color=\"r\")\n",
        "    plt.grid('True')"
      ],
      "id": "offensive-button",
      "execution_count": 18,
      "outputs": []
    },
    {
      "cell_type": "code",
      "metadata": {
        "colab": {
          "base_uri": "https://localhost:8080/",
          "height": 265
        },
        "id": "interim-contest",
        "outputId": "a15ff696-1820-4a05-b8ad-a10436eaee33"
      },
      "source": [
        "# 다음날 가격, 하루 앞서서 보임\n",
        "s_p = 0\n",
        "e_p = 100\n",
        "plot_diff(X[:,3],Y,s_p,e_p) # Close"
      ],
      "id": "interim-contest",
      "execution_count": 19,
      "outputs": [
        {
          "output_type": "display_data",
          "data": {
            "image/png": "[encoded data removed]",
            "text/plain": [
              "<Figure size 576x288 with 1 Axes>"
            ]
          },
          "metadata": {
            "needs_background": "light"
          }
        }
      ]
    },
    {
      "cell_type": "code",
      "metadata": {
        "id": "thermal-singing"
      },
      "source": [
        "## Train, Test data split \n",
        "s_rate = 0.9  #train 90%\n",
        "\n",
        "train_size = int(len(X) * s_rate)\n",
        "if train_size%2 == 1 :     # for evne \n",
        "    train_size -= 1\n",
        "test_size  = len(X) - train_size\n",
        "x_train = np.array(X[0:train_size])\n",
        "y_train = np.array(Y[0:train_size])\n",
        "x_test  = np.array(X[train_size:len(X)])\n",
        "y_test  = np.array(Y[train_size:len(Y)])"
      ],
      "id": "thermal-singing",
      "execution_count": 20,
      "outputs": []
    },
    {
      "cell_type": "code",
      "metadata": {
        "colab": {
          "base_uri": "https://localhost:8080/"
        },
        "id": "running-publicity",
        "outputId": "36280f76-2eaf-4729-b379-fef4c5fc3bb1"
      },
      "source": [
        "ps(x_train,'x_train')\n",
        "ps(y_train,'y_train')\n",
        "ps(x_test,'x_test')\n",
        "ps(y_test,'y_test')"
      ],
      "id": "running-publicity",
      "execution_count": 21,
      "outputs": [
        {
          "output_type": "stream",
          "name": "stdout",
          "text": [
            "[x_train] Shape(4890, 6)\n",
            "[y_train] Shape(4890,)\n",
            "[x_test] Shape(544, 6)\n",
            "[y_test] Shape(544,)\n"
          ]
        }
      ]
    },
    {
      "cell_type": "code",
      "metadata": {
        "colab": {
          "base_uri": "https://localhost:8080/",
          "height": 265
        },
        "id": "given-jimmy",
        "outputId": "b8645b5b-cdee-4b60-a1e6-6968a813445e"
      },
      "source": [
        "# split 결과 확인 \n",
        "s_p = -300\n",
        "e_p = -200\n",
        "plot_diff(x_test[:,3],y_test,s_p,e_p) # Close"
      ],
      "id": "given-jimmy",
      "execution_count": 22,
      "outputs": [
        {
          "output_type": "display_data",
          "data": {
            "image/png": "[encoded data removed]",
            "text/plain": [
              "<Figure size 576x288 with 1 Axes>"
            ]
          },
          "metadata": {
            "needs_background": "light"
          }
        }
      ]
    },
    {
      "cell_type": "markdown",
      "metadata": {
        "id": "warming-strategy"
      },
      "source": [
        "### Wavelet Transform"
      ],
      "id": "warming-strategy"
    },
    {
      "cell_type": "markdown",
      "metadata": {
        "id": "provincial-jamaica"
      },
      "source": [
        "#### Decomposition, Reconstruction Test"
      ],
      "id": "provincial-jamaica"
    },
    {
      "cell_type": "markdown",
      "metadata": {
        "id": "roman-essence"
      },
      "source": [
        "**Coding : Decomposition** "
      ],
      "id": "roman-essence"
    },
    {
      "cell_type": "markdown",
      "metadata": {
        "id": "settled-window"
      },
      "source": [
        "---\n",
        "```python\n",
        "# Multilevel decomposition methode\n",
        "pywt.wavedec(data, wavelet, level=None, mode='symmetric', axis=-1)\n",
        "```\n",
        "---"
      ],
      "id": "settled-window"
    },
    {
      "cell_type": "code",
      "metadata": {
        "id": "regulated-scale"
      },
      "source": [
        "#import pywt as pywt \n",
        "w = pywt.Wavelet('haar') # \"dmey\"\n",
        "coeffs = pywt.wavedec(x_train, w, level=2, mode='per', axis=0) #'per':periodic padding"
      ],
      "id": "regulated-scale",
      "execution_count": 23,
      "outputs": []
    },
    {
      "cell_type": "markdown",
      "metadata": {
        "id": "labeled-express"
      },
      "source": [
        "**Decoding : Reconstruction**"
      ],
      "id": "labeled-express"
    },
    {
      "cell_type": "code",
      "metadata": {
        "tags": [],
        "colab": {
          "base_uri": "https://localhost:8080/",
          "height": 282
        },
        "id": "sealed-herald",
        "outputId": "1a21fc06-f33a-42d4-f6f0-955ec0a04b44"
      },
      "source": [
        "reconstructed_signal = pywt.waverec(coeffs, 'haar', mode='per', axis=0)\n",
        "plt.plot(reconstructed_signal[:,3])"
      ],
      "id": "sealed-herald",
      "execution_count": 24,
      "outputs": [
        {
          "output_type": "execute_result",
          "data": {
            "text/plain": [
              "[<matplotlib.lines.Line2D at 0x7fca8b75fbd0>]"
            ]
          },
          "metadata": {},
          "execution_count": 24
        },
        {
          "output_type": "display_data",
          "data": {
            "image/png": "[encoded data removed]",
            "text/plain": [
              "<Figure size 432x288 with 1 Axes>"
            ]
          },
          "metadata": {
            "needs_background": "light"
          }
        }
      ]
    },
    {
      "cell_type": "markdown",
      "metadata": {
        "id": "iraqi-fashion"
      },
      "source": [
        "**Coefficient : Sn,Dn,Dn-1,...D1** "
      ],
      "id": "iraqi-fashion"
    },
    {
      "cell_type": "code",
      "metadata": {
        "colab": {
          "base_uri": "https://localhost:8080/"
        },
        "id": "serial-morrison",
        "outputId": "1682a3a0-bb5d-46fe-f277-3239d03534d9"
      },
      "source": [
        "w = pywt.Wavelet('haar')\n",
        "coeffs2 = pywt.wavedec(x_train, w, level=2, mode='per', axis=0)\n",
        "s2,d2,d1 = coeffs\n",
        "ps(s2),ps(d2),ps(d1)"
      ],
      "id": "serial-morrison",
      "execution_count": 25,
      "outputs": [
        {
          "output_type": "stream",
          "name": "stdout",
          "text": [
            "[] Shape(1223, 6)\n",
            "[] Shape(1223, 6)\n",
            "[] Shape(2445, 6)\n"
          ]
        },
        {
          "output_type": "execute_result",
          "data": {
            "text/plain": [
              "(None, None, None)"
            ]
          },
          "metadata": {},
          "execution_count": 25
        }
      ]
    },
    {
      "cell_type": "markdown",
      "metadata": {
        "id": "protective-coalition"
      },
      "source": [
        "#### Wavelet Layer processing"
      ],
      "id": "protective-coalition"
    },
    {
      "cell_type": "markdown",
      "metadata": {
        "id": "tired-party"
      },
      "source": [
        "---\n",
        "```python\n",
        "# coefficients reduce by thresholding function\n",
        "threshold : data/np.abs(data) * np.maximum(np.abs(data) - value, 0)\n",
        "```\n",
        "---"
      ],
      "id": "tired-party"
    },
    {
      "cell_type": "code",
      "metadata": {
        "id": "equipped-longitude"
      },
      "source": [
        "# http://connor-johnson.com/2016/01/24/using-pywavelets-to-remove-high-frequency-noise/\n",
        "def waveletSmooth( x, wavelet=\"haar\", level=2, declevel=2, sm=1):\n",
        "\n",
        "    # calculate the wavelet coefficients\n",
        "    coeff = pywt.wavedec( x, wavelet, mode=\"per\",level=declevel,axis=0 )\n",
        "\n",
        "    # calculate a threshold\n",
        "    sigma = mad(coeff[-level])\n",
        "    if len(x.shape)==1 :\n",
        "        print(f'Coeff d2 mean : {np.mean(coeff[1])}')\n",
        "        print(f'Coeff d1 mean : {np.mean(coeff[2])}')\n",
        "    uthresh = sigma * np.sqrt( 2*np.log(len(x))) * sm\n",
        "    coeff[1:] = ( pywt.threshold( i, value=uthresh, mode=\"hard\" ) for i in coeff[1:] )\n",
        "    if len(x.shape)==1 :\n",
        "        print(f'Tresohold value : {float(uthresh):02f}')\n",
        "        print(f'Coeff d2 mean : {np.mean(coeff[1])}')\n",
        "        print(f'Coeff d1 mean : {np.mean(coeff[2])}')\n",
        "    # reconstruct \n",
        "    y = pywt.waverec( coeff, wavelet, mode=\"per\",axis=0 )\n",
        "    return y"
      ],
      "id": "equipped-longitude",
      "execution_count": 26,
      "outputs": []
    },
    {
      "cell_type": "code",
      "metadata": {
        "colab": {
          "base_uri": "https://localhost:8080/"
        },
        "id": "usual-grocery",
        "outputId": "e83016ee-daec-4c6d-fe3b-a08d11cbd829"
      },
      "source": [
        "## coeff meam 값의 변화를 확인 \n",
        "temp = waveletSmooth(y_train) # for Coeff. test \n",
        "#temp = waveletSmooth(y_train,sm=2) # smoothing factor 변화 "
      ],
      "id": "usual-grocery",
      "execution_count": 27,
      "outputs": [
        {
          "output_type": "stream",
          "name": "stdout",
          "text": [
            "Coeff d2 mean : -0.00026149975994422034\n",
            "Coeff d1 mean : -8.83309497318378e-05\n",
            "Tresohold value : 0.016962\n",
            "Coeff d2 mean : -4.103591698735023e-05\n",
            "Coeff d1 mean : 1.4416030371664928e-05\n"
          ]
        }
      ]
    },
    {
      "cell_type": "markdown",
      "metadata": {
        "id": "agricultural-college"
      },
      "source": [
        "```\n",
        "sm = 2 인 경우 : d2,d1이 많이 줄어들어 '0'이 될 수 있음 \n",
        "Coeff d2 mean : -0.00024918333345430864\n",
        "Coeff d1 mean : -9.578574475368267e-05\n",
        "Tresohold value : 0.033363\n",
        "Coeff d2 mean : 2.7282846728573883e-05\n",
        "Coeff d1 mean : 0.0\n",
        "```"
      ],
      "id": "agricultural-college"
    },
    {
      "cell_type": "code",
      "metadata": {
        "colab": {
          "base_uri": "https://localhost:8080/"
        },
        "id": "academic-bidder",
        "outputId": "875fd7b4-fdf2-4c46-bd6f-f483e78d7889"
      },
      "source": [
        "## x_train, x_test data noise제거 \n",
        "w_x_train = waveletSmooth(x_train)\n",
        "w_x_test = waveletSmooth(x_test)\n",
        "len(x_train),len(w_x_train),len(x_test),len(w_x_test)"
      ],
      "id": "academic-bidder",
      "execution_count": 28,
      "outputs": [
        {
          "output_type": "execute_result",
          "data": {
            "text/plain": [
              "(4890, 4890, 544, 544)"
            ]
          },
          "metadata": {},
          "execution_count": 28
        }
      ]
    },
    {
      "cell_type": "code",
      "metadata": {
        "colab": {
          "base_uri": "https://localhost:8080/",
          "height": 265
        },
        "id": "metropolitan-identification",
        "outputId": "6fa8a5ee-0e1d-44a3-e316-7f33c8967b92"
      },
      "source": [
        "## noise reduction 확인 \n",
        "s_p = 0\n",
        "e_p = 300\n",
        "plot_diff(x_train[:,3],w_x_train[:,3],s_p,e_p) # Train_Close\n",
        "#plot_diff(x_test[:,3],w_x_test[:,3],s_p,e_p)  # Test_Close"
      ],
      "id": "metropolitan-identification",
      "execution_count": 29,
      "outputs": [
        {
          "output_type": "display_data",
          "data": {
            "image/png": "[encoded data removed]",
            "text/plain": [
              "<Figure size 576x288 with 1 Axes>"
            ]
          },
          "metadata": {
            "needs_background": "light"
          }
        }
      ]
    },
    {
      "cell_type": "markdown",
      "metadata": {
        "id": "vocal-dream"
      },
      "source": [
        "---"
      ],
      "id": "vocal-dream"
    },
    {
      "cell_type": "markdown",
      "metadata": {
        "id": "public-louisiana"
      },
      "source": [
        "## Stacked AutoEncoder"
      ],
      "id": "public-louisiana"
    },
    {
      "cell_type": "code",
      "metadata": {
        "id": "national-shower"
      },
      "source": [
        "# import numpy as np\n",
        "# import tensorflow as tf\n",
        "# import tensorflow.keras as keras\n",
        "\n",
        "# import matplotlib.pyplot as plt"
      ],
      "id": "national-shower",
      "execution_count": 30,
      "outputs": []
    },
    {
      "cell_type": "markdown",
      "metadata": {
        "id": "fabulous-science"
      },
      "source": [
        "### Sparsity loss "
      ],
      "id": "fabulous-science"
    },
    {
      "cell_type": "code",
      "metadata": {
        "colab": {
          "base_uri": "https://localhost:8080/",
          "height": 296
        },
        "id": "powerful-apple",
        "outputId": "009592cd-642c-42fb-a8a2-383241c0a932"
      },
      "source": [
        "#ref : https://github.com/ageron/handson-ml\n",
        "## Sparsity Loss \n",
        "pp = 0.1\n",
        "qq = np.linspace(0.001, 0.999, 500)\n",
        "# p * np.log(p / q): left slop \n",
        "# (1 - p) * np.log((1 - p) / (1 - q)) : right slop \n",
        "kl_div = pp * np.log(pp / qq) + (1 - pp) * np.log((1 - pp) / (1 - qq))\n",
        "\n",
        "mse = (pp - qq)**2\n",
        "plt.plot([pp, pp], [0, 0.3], \"k:\")\n",
        "plt.text(0.05, 0.32, \"Target\\nsparsity\", fontsize=14)\n",
        "plt.plot(qq, kl_div, \"b-\", label=\"KL divergence\")\n",
        "plt.plot(qq, mse, \"r--\", label=\"MSE\")\n",
        "plt.legend(loc=\"upper left\")\n",
        "plt.xlabel(\"Actual sparsity\")\n",
        "plt.ylabel(\"Cost\", rotation=0)\n",
        "plt.axis([0, 1, 0, 0.95])"
      ],
      "id": "powerful-apple",
      "execution_count": 31,
      "outputs": [
        {
          "output_type": "execute_result",
          "data": {
            "text/plain": [
              "(0.0, 1.0, 0.0, 0.95)"
            ]
          },
          "metadata": {},
          "execution_count": 31
        },
        {
          "output_type": "display_data",
          "data": {
            "image/png": "[encoded data removed]",
            "text/plain": [
              "<Figure size 432x288 with 1 Axes>"
            ]
          },
          "metadata": {
            "needs_background": "light"
          }
        }
      ]
    },
    {
      "cell_type": "markdown",
      "metadata": {
        "id": "ready-milwaukee"
      },
      "source": [
        "### Single AutoEncoder Layer"
      ],
      "id": "ready-milwaukee"
    },
    {
      "cell_type": "code",
      "metadata": {
        "id": "productive-parks"
      },
      "source": [
        "class Encoder(keras.layers.Layer):\n",
        "    def __init__(self, h_units=10, name='encoder', sparsity_weight=1e-2, sparsity_target=0.5, l2_reg=1e-3): \n",
        "        super().__init__(name=name)\n",
        "        self.dense = keras.layers.Dense(units=h_units, activation='sigmoid',\n",
        "                            kernel_regularizer=keras.regularizers.l2(l=l2_reg))\n",
        "        self.sparsity_target = sparsity_target \n",
        "        self.sparsity_weight = sparsity_weight\n",
        "\n",
        "    def call(self, inputs):\n",
        "        h = self.dense(inputs)\n",
        "        self.add_loss(self.sparsity_loss(h))\n",
        "        return h\n",
        "\n",
        "    def sparsity_loss(self, h):\n",
        "        mean_activation = tf.reduce_mean(h, axis=0)\n",
        "        kl_loss = (keras.losses.KLD(self.sparsity_target, mean_activation) +\n",
        "                  keras.losses.KLD(1 - self.sparsity_target, 1 - mean_activation))\n",
        "        return self.sparsity_weight * kl_loss"
      ],
      "id": "productive-parks",
      "execution_count": 32,
      "outputs": []
    },
    {
      "cell_type": "code",
      "metadata": {
        "id": "infrared-right"
      },
      "source": [
        "class Decoder(keras.layers.Layer):\n",
        "    def __init__(self, original_dim, name='decoder', l2_reg=1e-3):\n",
        "        super().__init__(name=name)\n",
        "        self.outputs = keras.layers.Dense(units=original_dim, activation='sigmoid',\n",
        "                              kernel_regularizer=keras.regularizers.l2(l=l2_reg))\n",
        "    def call(self, inputs):\n",
        "        x = self.outputs(inputs)\n",
        "        return x"
      ],
      "id": "infrared-right",
      "execution_count": 33,
      "outputs": []
    },
    {
      "cell_type": "code",
      "metadata": {
        "id": "favorite-booking"
      },
      "source": [
        "class AutoEncoder(keras.Model):\n",
        "    def __init__(self, original_dim, h_units, l2_reg=1e-3, sparsity_weight=1e-2, sparsity_target=0.5):\n",
        "        super().__init__()\n",
        "        self.encoder = Encoder(h_units=h_units,\n",
        "                               sparsity_weight=sparsity_weight,\n",
        "                               sparsity_target=sparsity_target,\n",
        "                               l2_reg=l2_reg)\n",
        "        self.decoder = Decoder(original_dim=original_dim,\n",
        "                               l2_reg=l2_reg)\n",
        "    def call(self, inputs):\n",
        "        x = self.encoder(inputs)\n",
        "        x = self.decoder(x)\n",
        "        return x"
      ],
      "id": "favorite-booking",
      "execution_count": 34,
      "outputs": []
    },
    {
      "cell_type": "markdown",
      "metadata": {
        "id": "dedicated-insert"
      },
      "source": [
        "### Stacked AutoEncoer"
      ],
      "id": "dedicated-insert"
    },
    {
      "cell_type": "code",
      "metadata": {
        "id": "meaningful-upset"
      },
      "source": [
        "class StackedAutoEncoder():\n",
        "    def __init__(self, layers, original_dim, h_units, l2_reg=1e-3, sparsity_weight=1e-2, sparsity_target=0.5):\n",
        "        # 1st AE\n",
        "        self.ae = [AutoEncoder(original_dim, h_units, l2_reg, sparsity_weight, sparsity_target)]\n",
        "        # Stacking AE\n",
        "        for k in range(layers - 1): \n",
        "            self.ae.append(AutoEncoder(h_units, h_units, l2_reg, sparsity_weight, sparsity_target))\n",
        "            \n",
        "    def train_one_ae(self, model, inputs, learning_rate=0.01, n_epochs=20, batch_size=128 ):\n",
        "        optimizer = keras.optimizers.Adam(learning_rate=learning_rate)\n",
        "        num_train = inputs.shape[0]\n",
        "        n_batches = int(num_train / batch_size)\n",
        "\n",
        "        loss_lst = []\n",
        "        for epoch in range(n_epochs):\n",
        "            total_loss = 0\n",
        "            for i in range(n_batches):\n",
        "                sample_idxs = np.random.choice(num_train, batch_size)#(128,) \n",
        "                x_batch = inputs[sample_idxs, :]                     #(128,6)\n",
        "                with tf.GradientTape() as tape:\n",
        "                    x_rec = model(x_batch)                           #single AE\n",
        "                    regularization_loss = tf.add_n(model.losses)\n",
        "                    loss = 0.5 * tf.reduce_sum(tf.square(x_rec - x_batch)) + regularization_loss\n",
        "                grads = tape.gradient(loss, model.variables)\n",
        "                optimizer.apply_gradients(grads_and_vars=zip(grads, model.variables))\n",
        "                loss_lst.append(loss.numpy())\n",
        "                total_loss += loss.numpy()\n",
        "            print(f'Total loss[{epoch}] : {total_loss}')\n",
        "\n",
        "    def train_stacked_ae(self, inputs, learning_rate=0.01, n_epochs=20, batch_size=128):\n",
        "        print(f'AE_1') \n",
        "        self.train_one_ae(self.ae[0], inputs, learning_rate, n_epochs, batch_size)\n",
        "        h = inputs \n",
        "        for i in range(1, len(self.ae)):\n",
        "            h = self.ae[i - 1].encoder(h).numpy()#이전 AE의 Encoder만 사용\n",
        "            print(f'AE_{i+1}')\n",
        "            self.train_one_ae(self.ae[i], h, learning_rate, n_epochs, batch_size)\n",
        "            \n",
        "    def encode(self, x_input):\n",
        "        h = x_input\n",
        "        for ae in self.ae:\n",
        "            h = ae.encoder(h).numpy()\n",
        "        return h                    "
      ],
      "id": "meaningful-upset",
      "execution_count": 35,
      "outputs": []
    },
    {
      "cell_type": "markdown",
      "metadata": {
        "id": "military-briefing"
      },
      "source": [
        "### Training Data "
      ],
      "id": "military-briefing"
    },
    {
      "cell_type": "code",
      "metadata": {
        "colab": {
          "base_uri": "https://localhost:8080/"
        },
        "id": "baking-cancellation",
        "outputId": "007e7737-7b80-422d-9d08-931d96218449"
      },
      "source": [
        "## SAE input data 확인 \n",
        "pst(w_x_train),pst(w_x_test)"
      ],
      "id": "baking-cancellation",
      "execution_count": 36,
      "outputs": [
        {
          "output_type": "stream",
          "name": "stdout",
          "text": [
            "[] Shape(4890, 6), <class 'numpy.ndarray'>\n",
            "[] Shape(544, 6), <class 'numpy.ndarray'>\n"
          ]
        },
        {
          "output_type": "execute_result",
          "data": {
            "text/plain": [
              "(None, None)"
            ]
          },
          "metadata": {},
          "execution_count": 36
        }
      ]
    },
    {
      "cell_type": "markdown",
      "metadata": {
        "id": "visible-psychology"
      },
      "source": [
        "### SAE model Instantiation"
      ],
      "id": "visible-psychology"
    },
    {
      "cell_type": "code",
      "metadata": {
        "id": "inappropriate-integral"
      },
      "source": [
        "## SAE = StackedAutoEncoder(layers=5, original_dim=18, h_units=10)\n",
        "layers= 3\n",
        "original_dim = w_x_train.shape[1] # 6\n",
        "h_units = 3\n",
        "\n",
        "SAE = StackedAutoEncoder(layers=layers, original_dim=original_dim, h_units=h_units)"
      ],
      "id": "inappropriate-integral",
      "execution_count": 37,
      "outputs": []
    },
    {
      "cell_type": "markdown",
      "metadata": {
        "id": "original-variety"
      },
      "source": [
        "### SAE Training"
      ],
      "id": "original-variety"
    },
    {
      "cell_type": "code",
      "metadata": {
        "colab": {
          "base_uri": "https://localhost:8080/"
        },
        "id": "amended-passage",
        "outputId": "01db1487-ecbe-4f49-9ecc-4a272530ddd2"
      },
      "source": [
        "SAE.train_stacked_ae(w_x_train, learning_rate=0.01, n_epochs=50, batch_size=128) # n_epochs=50"
      ],
      "id": "amended-passage",
      "execution_count": 38,
      "outputs": [
        {
          "output_type": "stream",
          "name": "stdout",
          "text": [
            "AE_1\n",
            "Total loss[0] : 1105.6257276535034\n",
            "Total loss[1] : 416.45769119262695\n",
            "Total loss[2] : 253.77262592315674\n",
            "Total loss[3] : 198.2180666923523\n",
            "Total loss[4] : 168.00145506858826\n",
            "Total loss[5] : 132.7949321269989\n",
            "Total loss[6] : 106.54282093048096\n",
            "Total loss[7] : 82.31932854652405\n",
            "Total loss[8] : 66.9113552570343\n",
            "Total loss[9] : 56.269619822502136\n",
            "Total loss[10] : 48.35092616081238\n",
            "Total loss[11] : 40.732097864151\n",
            "Total loss[12] : 34.52235198020935\n",
            "Total loss[13] : 29.74996840953827\n",
            "Total loss[14] : 26.342022866010666\n",
            "Total loss[15] : 24.11375194787979\n",
            "Total loss[16] : 21.61614739894867\n",
            "Total loss[17] : 19.24110385775566\n",
            "Total loss[18] : 18.71501913666725\n",
            "Total loss[19] : 17.849960178136826\n",
            "Total loss[20] : 17.549261301755905\n",
            "Total loss[21] : 17.507718324661255\n",
            "Total loss[22] : 16.01087462902069\n",
            "Total loss[23] : 16.52541959285736\n",
            "Total loss[24] : 16.18345594406128\n",
            "Total loss[25] : 14.932217746973038\n",
            "Total loss[26] : 15.454165130853653\n",
            "Total loss[27] : 16.05915129184723\n",
            "Total loss[28] : 15.490357756614685\n",
            "Total loss[29] : 16.30121698975563\n",
            "Total loss[30] : 14.729499340057373\n",
            "Total loss[31] : 15.082813501358032\n",
            "Total loss[32] : 15.762501895427704\n",
            "Total loss[33] : 15.015741050243378\n",
            "Total loss[34] : 14.01717609167099\n",
            "Total loss[35] : 13.551647245883942\n",
            "Total loss[36] : 14.671100407838821\n",
            "Total loss[37] : 14.329025030136108\n",
            "Total loss[38] : 14.112720429897308\n",
            "Total loss[39] : 13.90140625834465\n",
            "Total loss[40] : 14.24690094590187\n",
            "Total loss[41] : 13.745163828134537\n",
            "Total loss[42] : 14.251075506210327\n",
            "Total loss[43] : 14.148134797811508\n",
            "Total loss[44] : 13.561463296413422\n",
            "Total loss[45] : 13.977650433778763\n",
            "Total loss[46] : 13.659390181303024\n",
            "Total loss[47] : 12.57730981707573\n",
            "Total loss[48] : 13.885900318622589\n",
            "Total loss[49] : 12.815182238817215\n",
            "AE_2\n",
            "Total loss[0] : 373.4767622947693\n",
            "Total loss[1] : 256.434850692749\n",
            "Total loss[2] : 238.83358478546143\n",
            "Total loss[3] : 187.4179985523224\n",
            "Total loss[4] : 124.48175144195557\n",
            "Total loss[5] : 59.0054829120636\n",
            "Total loss[6] : 24.458805978298187\n",
            "Total loss[7] : 11.96175166964531\n",
            "Total loss[8] : 8.572979345917702\n",
            "Total loss[9] : 7.094497114419937\n",
            "Total loss[10] : 6.840214893221855\n",
            "Total loss[11] : 6.484085842967033\n",
            "Total loss[12] : 6.156607910990715\n",
            "Total loss[13] : 5.933977738022804\n",
            "Total loss[14] : 5.767223507165909\n",
            "Total loss[15] : 5.499377191066742\n",
            "Total loss[16] : 5.557927906513214\n",
            "Total loss[17] : 5.2998895943164825\n",
            "Total loss[18] : 5.31473308801651\n",
            "Total loss[19] : 5.091267690062523\n",
            "Total loss[20] : 5.078363969922066\n",
            "Total loss[21] : 5.030154779553413\n",
            "Total loss[22] : 5.0003296956419945\n",
            "Total loss[23] : 4.974671110510826\n",
            "Total loss[24] : 4.966182753443718\n",
            "Total loss[25] : 4.897429972887039\n",
            "Total loss[26] : 4.810589984059334\n",
            "Total loss[27] : 4.799114502966404\n",
            "Total loss[28] : 4.68749063462019\n",
            "Total loss[29] : 4.780237592756748\n",
            "Total loss[30] : 4.703477427363396\n",
            "Total loss[31] : 4.725986078381538\n",
            "Total loss[32] : 4.689157463610172\n",
            "Total loss[33] : 4.583833262324333\n",
            "Total loss[34] : 4.570053495466709\n",
            "Total loss[35] : 4.550332427024841\n",
            "Total loss[36] : 4.52052603662014\n",
            "Total loss[37] : 4.558172047138214\n",
            "Total loss[38] : 4.452376812696457\n",
            "Total loss[39] : 4.493975780904293\n",
            "Total loss[40] : 4.432843066751957\n",
            "Total loss[41] : 4.455374963581562\n",
            "Total loss[42] : 4.394690595567226\n",
            "Total loss[43] : 4.368165656924248\n",
            "Total loss[44] : 4.331533320248127\n",
            "Total loss[45] : 4.394251525402069\n",
            "Total loss[46] : 4.258726634085178\n",
            "Total loss[47] : 4.409396298229694\n",
            "Total loss[48] : 4.313468523323536\n",
            "Total loss[49] : 4.327100902795792\n",
            "AE_3\n",
            "Total loss[0] : 430.65587043762207\n",
            "Total loss[1] : 218.42779207229614\n",
            "Total loss[2] : 187.72966766357422\n",
            "Total loss[3] : 181.837730884552\n",
            "Total loss[4] : 166.83254885673523\n",
            "Total loss[5] : 137.82447123527527\n",
            "Total loss[6] : 105.75831365585327\n",
            "Total loss[7] : 71.6254518032074\n",
            "Total loss[8] : 42.58817183971405\n",
            "Total loss[9] : 22.606191843748093\n",
            "Total loss[10] : 12.539909452199936\n",
            "Total loss[11] : 7.582161158323288\n",
            "Total loss[12] : 5.367985963821411\n",
            "Total loss[13] : 4.422232620418072\n",
            "Total loss[14] : 4.090001106262207\n",
            "Total loss[15] : 3.8042156398296356\n",
            "Total loss[16] : 3.7001748830080032\n",
            "Total loss[17] : 3.5526124835014343\n",
            "Total loss[18] : 3.458206221461296\n",
            "Total loss[19] : 3.4444459676742554\n",
            "Total loss[20] : 3.377354398369789\n",
            "Total loss[21] : 3.31173025816679\n",
            "Total loss[22] : 3.236474096775055\n",
            "Total loss[23] : 3.1679471507668495\n",
            "Total loss[24] : 3.1716744527220726\n",
            "Total loss[25] : 3.0972453132271767\n",
            "Total loss[26] : 3.055579997599125\n",
            "Total loss[27] : 3.041154034435749\n",
            "Total loss[28] : 3.0118245258927345\n",
            "Total loss[29] : 2.953107476234436\n",
            "Total loss[30] : 2.934360310435295\n",
            "Total loss[31] : 2.88434037566185\n",
            "Total loss[32] : 2.853128097951412\n",
            "Total loss[33] : 2.852847971022129\n",
            "Total loss[34] : 2.8224746137857437\n",
            "Total loss[35] : 2.7682740166783333\n",
            "Total loss[36] : 2.7393891513347626\n",
            "Total loss[37] : 2.7280349731445312\n",
            "Total loss[38] : 2.6983473747968674\n",
            "Total loss[39] : 2.6805873289704323\n",
            "Total loss[40] : 2.6606552973389626\n",
            "Total loss[41] : 2.6476075500249863\n",
            "Total loss[42] : 2.6269278079271317\n",
            "Total loss[43] : 2.6007659435272217\n",
            "Total loss[44] : 2.599702298641205\n",
            "Total loss[45] : 2.5755290538072586\n",
            "Total loss[46] : 2.5473181679844856\n",
            "Total loss[47] : 2.518829323351383\n",
            "Total loss[48] : 2.4961042515933514\n",
            "Total loss[49] : 2.4722869507968426\n"
          ]
        }
      ]
    },
    {
      "cell_type": "markdown",
      "metadata": {
        "id": "qualified-focus"
      },
      "source": [
        "### SAE 학습결과를 w_x_train, w_x_test에 적용 "
      ],
      "id": "qualified-focus"
    },
    {
      "cell_type": "code",
      "metadata": {
        "colab": {
          "base_uri": "https://localhost:8080/"
        },
        "id": "demanding-surname",
        "outputId": "548cd2fc-6be9-4fe9-a63a-3ba64c04d5e1"
      },
      "source": [
        "## 학습된 SAE에 train data적용 \n",
        "sae_x_train = SAE.encode(w_x_train)\n",
        "\n",
        "## 학습된 SAE에 test data 적용 \n",
        "sae_x_test = SAE.encode(w_x_test)\n",
        "\n",
        "ps(sae_x_train),ps(sae_x_test)"
      ],
      "id": "demanding-surname",
      "execution_count": 39,
      "outputs": [
        {
          "output_type": "stream",
          "name": "stdout",
          "text": [
            "[] Shape(4890, 3)\n",
            "[] Shape(544, 3)\n"
          ]
        },
        {
          "output_type": "execute_result",
          "data": {
            "text/plain": [
              "(None, None)"
            ]
          },
          "metadata": {},
          "execution_count": 39
        }
      ]
    },
    {
      "cell_type": "markdown",
      "metadata": {
        "id": "deluxe-catch"
      },
      "source": [
        "**SAE 입력과 출력 비교**"
      ],
      "id": "deluxe-catch"
    },
    {
      "cell_type": "code",
      "metadata": {
        "colab": {
          "base_uri": "https://localhost:8080/",
          "height": 265
        },
        "id": "final-heath",
        "outputId": "e5fc3327-9cbe-4714-f007-0ff771b2d812"
      },
      "source": [
        "## SAE input데이터와 output(LSTM입력) 비교 \n",
        "s_p = 0\n",
        "e_p = -1\n",
        "plot_diff(w_x_train[:,:],sae_x_train[:,:],s_p,e_p) # Train_Close"
      ],
      "id": "final-heath",
      "execution_count": 40,
      "outputs": [
        {
          "output_type": "display_data",
          "data": {
            "image/png": "[encoded data removed]",
            "text/plain": [
              "<Figure size 576x288 with 1 Axes>"
            ]
          },
          "metadata": {
            "needs_background": "light"
          }
        }
      ]
    },
    {
      "cell_type": "markdown",
      "metadata": {
        "id": "deadly-ceremony"
      },
      "source": [
        "## LSTM "
      ],
      "id": "deadly-ceremony"
    },
    {
      "cell_type": "markdown",
      "metadata": {
        "id": "unusual-blair"
      },
      "source": [
        "### Import Module"
      ],
      "id": "unusual-blair"
    },
    {
      "cell_type": "code",
      "metadata": {
        "id": "hispanic-ghost"
      },
      "source": [
        "# import numpy as np\n",
        "# import tensorflow as tf\n",
        "# import tensorflow.keras as keras\n",
        "# import tensorflow_probability as tfp\n",
        "\n",
        "\n",
        "#from .metrics import MeanAbsolutePercentageError, TheilU, LinearCorrelation\n",
        "#https://github.com/ivan-ivy/ECBM4040-final-project-WSAE-LSTM "
      ],
      "id": "hispanic-ghost",
      "execution_count": 41,
      "outputs": []
    },
    {
      "cell_type": "markdown",
      "metadata": {
        "id": "naughty-holder"
      },
      "source": [
        "### LSTM model define"
      ],
      "id": "naughty-holder"
    },
    {
      "cell_type": "code",
      "metadata": {
        "id": "selective-gabriel"
      },
      "source": [
        "#def build_lstm_model(inputs_shape, layers=5, units=64, learning_rate=0.05):\n",
        "def build_lstm_model(inputs_shape, layers=3, units=16, learning_rate=0.001):\n",
        "\n",
        "    model = keras.Sequential()\n",
        "    # ad layers using loop\n",
        "    model.add(keras.layers.Input(shape=inputs_shape))\n",
        "    model.add(keras.layers.LSTM(units=units, return_sequences=True))\n",
        "    for i in range(1, layers-1):\n",
        "        model.add(keras.layers.LSTM(units=units, return_sequences=True))\n",
        "    model.add(keras.layers.LSTM(units=units))\n",
        "    model.add(keras.layers.Dense(1))\n",
        "\n",
        "    model.compile(loss='mse',\n",
        "                  optimizer=keras.optimizers.Adam(learning_rate=learning_rate),\n",
        "                  metrics=[keras.metrics.MeanAbsolutePercentageError(),\n",
        "# LinearCorrelation() --> tfp.stats.correlation( )\n",
        "# Theil_U()\n",
        "                      ]\n",
        "                  )\n",
        "    return model"
      ],
      "id": "selective-gabriel",
      "execution_count": 42,
      "outputs": []
    },
    {
      "cell_type": "markdown",
      "metadata": {
        "id": "invisible-asbestos"
      },
      "source": [
        "### Prepare Sequence dataset for training "
      ],
      "id": "invisible-asbestos"
    },
    {
      "cell_type": "code",
      "metadata": {
        "id": "joint-piano"
      },
      "source": [
        "# x_l = x_train    \n",
        "# x_l = w_x_train  #\n",
        "l_x_train = sae_x_train  # SAE 통과한 x_train\n",
        "l_y_train = y_train      # target data\n",
        "\n",
        "l_x_test = sae_x_test    # for validation\n",
        "l_y_test = y_test "
      ],
      "id": "joint-piano",
      "execution_count": 43,
      "outputs": []
    },
    {
      "cell_type": "code",
      "metadata": {
        "colab": {
          "base_uri": "https://localhost:8080/"
        },
        "id": "reverse-movement",
        "outputId": "a47b3cf7-8c6d-4575-abc8-7190ac111ddf"
      },
      "source": [
        "len(l_x_train),len(l_y_train),len(l_x_test),len(l_y_test)"
      ],
      "id": "reverse-movement",
      "execution_count": 44,
      "outputs": [
        {
          "output_type": "execute_result",
          "data": {
            "text/plain": [
              "(4890, 4890, 544, 544)"
            ]
          },
          "metadata": {},
          "execution_count": 44
        }
      ]
    },
    {
      "cell_type": "code",
      "metadata": {
        "id": "robust-application"
      },
      "source": [
        "# sequence generator\n",
        "## x:4일치 데이터, y:5일차 종가\n",
        "timesteps = seq_length = 4\n",
        "def sequence_gen(data,length):\n",
        "    seqX = []\n",
        "    for i in range(0, len(data)-length+1):\n",
        "        _x = data[i:i + length] # Sequence(timesetp,feature) \n",
        "        seqX.append(_x)\n",
        "    return seqX\n",
        "        \n",
        "seq_x_train = np.array(sequence_gen(l_x_train,timesteps))\n",
        "seq_y_train = y_train[timesteps-1:]\n",
        "\n",
        "seq_x_test = np.array(sequence_gen(l_x_test,timesteps))\n",
        "seq_y_test = y_test[timesteps-1:]"
      ],
      "id": "robust-application",
      "execution_count": 45,
      "outputs": []
    },
    {
      "cell_type": "code",
      "metadata": {
        "colab": {
          "base_uri": "https://localhost:8080/"
        },
        "id": "recreational-balloon",
        "outputId": "8f6340e0-6b24-46bd-bc6b-2ef9ca07fdf5"
      },
      "source": [
        "pst(seq_x_train),pst(seq_y_train),pst(seq_x_test),pst(seq_y_test)"
      ],
      "id": "recreational-balloon",
      "execution_count": 46,
      "outputs": [
        {
          "output_type": "stream",
          "name": "stdout",
          "text": [
            "[] Shape(4887, 4, 3), <class 'numpy.ndarray'>\n",
            "[] Shape(4887,), <class 'numpy.ndarray'>\n",
            "[] Shape(541, 4, 3), <class 'numpy.ndarray'>\n",
            "[] Shape(541,), <class 'numpy.ndarray'>\n"
          ]
        },
        {
          "output_type": "execute_result",
          "data": {
            "text/plain": [
              "(None, None, None, None)"
            ]
          },
          "metadata": {},
          "execution_count": 46
        }
      ]
    },
    {
      "cell_type": "code",
      "metadata": {
        "colab": {
          "base_uri": "https://localhost:8080/",
          "height": 265
        },
        "id": "together-impression",
        "outputId": "4cb6b700-5a0c-4c25-e75f-18394d81891d"
      },
      "source": [
        "## Sequnce input과 target 확인\n",
        "s_p = -450\n",
        "e_p = -200\n",
        "plot_diff(seq_y_train,seq_x_train[:,0,:],s_p,e_p) # Close\n",
        "#plot_diff(X[:,4],w_data_x[:,4],s_p,e_p) # Chage"
      ],
      "id": "together-impression",
      "execution_count": 47,
      "outputs": [
        {
          "output_type": "display_data",
          "data": {
            "image/png": "[encoded data removed]",
            "text/plain": [
              "<Figure size 576x288 with 1 Axes>"
            ]
          },
          "metadata": {
            "needs_background": "light"
          }
        }
      ]
    },
    {
      "cell_type": "markdown",
      "metadata": {
        "id": "clean-harvey"
      },
      "source": [
        "### Model Build"
      ],
      "id": "clean-harvey"
    },
    {
      "cell_type": "code",
      "metadata": {
        "colab": {
          "base_uri": "https://localhost:8080/"
        },
        "id": "stable-effect",
        "outputId": "62f2fac9-1a61-4d94-b3ba-a2fd7f949c07"
      },
      "source": [
        "LSTM = build_lstm_model(inputs_shape=(seq_x_train.shape[1],seq_x_train.shape[2]))\n",
        "LSTM.summary()"
      ],
      "id": "stable-effect",
      "execution_count": 48,
      "outputs": [
        {
          "output_type": "stream",
          "name": "stdout",
          "text": [
            "Model: \"sequential\"\n",
            "_________________________________________________________________\n",
            " Layer (type)                Output Shape              Param #   \n",
            "=================================================================\n",
            " lstm (LSTM)                 (None, 4, 16)             1280      \n",
            "                                                                 \n",
            " lstm_1 (LSTM)               (None, 4, 16)             2112      \n",
            "                                                                 \n",
            " lstm_2 (LSTM)               (None, 16)                2112      \n",
            "                                                                 \n",
            " dense_6 (Dense)             (None, 1)                 17        \n",
            "                                                                 \n",
            "=================================================================\n",
            "Total params: 5,521\n",
            "Trainable params: 5,521\n",
            "Non-trainable params: 0\n",
            "_________________________________________________________________\n"
          ]
        }
      ]
    },
    {
      "cell_type": "markdown",
      "metadata": {
        "id": "adult-spain"
      },
      "source": [
        "### LSTM Training"
      ],
      "id": "adult-spain"
    },
    {
      "cell_type": "code",
      "metadata": {
        "colab": {
          "base_uri": "https://localhost:8080/"
        },
        "id": "medieval-engineering",
        "outputId": "13f409cb-d8bf-4fc1-e91f-00ee6c2c020c"
      },
      "source": [
        "%%time\n",
        "# model traing\n",
        "history = LSTM.fit(seq_x_train, seq_y_train, \n",
        "                      validation_data=(seq_x_test, seq_y_test),\n",
        "                      epochs = 50, batch_size = 64)"
      ],
      "id": "medieval-engineering",
      "execution_count": 49,
      "outputs": [
        {
          "output_type": "stream",
          "name": "stdout",
          "text": [
            "Epoch 1/50\n",
            "77/77 [==============================] - 7s 26ms/step - loss: 0.0150 - mean_absolute_percentage_error: 10160.8525 - val_loss: 0.0567 - val_mean_absolute_percentage_error: 24.4451\n",
            "Epoch 2/50\n",
            "77/77 [==============================] - 1s 10ms/step - loss: 7.3638e-04 - mean_absolute_percentage_error: 8359.8311 - val_loss: 0.0688 - val_mean_absolute_percentage_error: 28.3975\n",
            "Epoch 3/50\n",
            "77/77 [==============================] - 1s 9ms/step - loss: 6.5517e-04 - mean_absolute_percentage_error: 9155.2188 - val_loss: 0.0600 - val_mean_absolute_percentage_error: 25.6908\n",
            "Epoch 4/50\n",
            "77/77 [==============================] - 1s 10ms/step - loss: 6.2980e-04 - mean_absolute_percentage_error: 9890.3037 - val_loss: 0.0596 - val_mean_absolute_percentage_error: 25.6056\n",
            "Epoch 5/50\n",
            "77/77 [==============================] - 1s 10ms/step - loss: 6.1675e-04 - mean_absolute_percentage_error: 10054.2988 - val_loss: 0.0608 - val_mean_absolute_percentage_error: 26.0691\n",
            "Epoch 6/50\n",
            "77/77 [==============================] - 1s 10ms/step - loss: 6.0607e-04 - mean_absolute_percentage_error: 10464.8398 - val_loss: 0.0550 - val_mean_absolute_percentage_error: 24.1208\n",
            "Epoch 7/50\n",
            "77/77 [==============================] - 1s 10ms/step - loss: 6.1040e-04 - mean_absolute_percentage_error: 10289.3594 - val_loss: 0.0560 - val_mean_absolute_percentage_error: 24.5412\n",
            "Epoch 8/50\n",
            "77/77 [==============================] - 1s 10ms/step - loss: 6.0208e-04 - mean_absolute_percentage_error: 11023.1895 - val_loss: 0.0622 - val_mean_absolute_percentage_error: 26.6305\n",
            "Epoch 9/50\n",
            "77/77 [==============================] - 1s 10ms/step - loss: 5.9620e-04 - mean_absolute_percentage_error: 10931.6641 - val_loss: 0.0580 - val_mean_absolute_percentage_error: 25.2483\n",
            "Epoch 10/50\n",
            "77/77 [==============================] - 1s 10ms/step - loss: 6.0388e-04 - mean_absolute_percentage_error: 10826.1807 - val_loss: 0.0520 - val_mean_absolute_percentage_error: 23.1890\n",
            "Epoch 11/50\n",
            "77/77 [==============================] - 1s 10ms/step - loss: 5.8842e-04 - mean_absolute_percentage_error: 10498.0156 - val_loss: 0.0670 - val_mean_absolute_percentage_error: 28.1856\n",
            "Epoch 12/50\n",
            "77/77 [==============================] - 1s 10ms/step - loss: 5.6387e-04 - mean_absolute_percentage_error: 10348.3643 - val_loss: 0.0551 - val_mean_absolute_percentage_error: 24.3172\n",
            "Epoch 13/50\n",
            "77/77 [==============================] - 1s 9ms/step - loss: 5.4512e-04 - mean_absolute_percentage_error: 9785.6289 - val_loss: 0.0567 - val_mean_absolute_percentage_error: 24.9224\n",
            "Epoch 14/50\n",
            "77/77 [==============================] - 1s 10ms/step - loss: 5.4060e-04 - mean_absolute_percentage_error: 9450.6709 - val_loss: 0.0546 - val_mean_absolute_percentage_error: 24.2330\n",
            "Epoch 15/50\n",
            "77/77 [==============================] - 1s 10ms/step - loss: 5.2823e-04 - mean_absolute_percentage_error: 9625.7676 - val_loss: 0.0567 - val_mean_absolute_percentage_error: 25.0316\n",
            "Epoch 16/50\n",
            "77/77 [==============================] - 1s 10ms/step - loss: 5.1548e-04 - mean_absolute_percentage_error: 10023.0293 - val_loss: 0.0545 - val_mean_absolute_percentage_error: 24.2974\n",
            "Epoch 17/50\n",
            "77/77 [==============================] - 1s 10ms/step - loss: 4.9328e-04 - mean_absolute_percentage_error: 9805.2168 - val_loss: 0.0473 - val_mean_absolute_percentage_error: 21.7895\n",
            "Epoch 18/50\n",
            "77/77 [==============================] - 1s 10ms/step - loss: 4.5848e-04 - mean_absolute_percentage_error: 7494.2290 - val_loss: 0.0449 - val_mean_absolute_percentage_error: 21.0951\n",
            "Epoch 19/50\n",
            "77/77 [==============================] - 1s 9ms/step - loss: 4.1819e-04 - mean_absolute_percentage_error: 8736.6553 - val_loss: 0.0447 - val_mean_absolute_percentage_error: 21.1782\n",
            "Epoch 20/50\n",
            "77/77 [==============================] - 1s 10ms/step - loss: 3.6914e-04 - mean_absolute_percentage_error: 7604.2251 - val_loss: 0.0381 - val_mean_absolute_percentage_error: 18.9564\n",
            "Epoch 21/50\n",
            "77/77 [==============================] - 1s 10ms/step - loss: 3.2527e-04 - mean_absolute_percentage_error: 7311.8394 - val_loss: 0.0412 - val_mean_absolute_percentage_error: 20.4288\n",
            "Epoch 22/50\n",
            "77/77 [==============================] - 1s 10ms/step - loss: 2.4959e-04 - mean_absolute_percentage_error: 6221.8730 - val_loss: 0.0307 - val_mean_absolute_percentage_error: 16.7293\n",
            "Epoch 23/50\n",
            "77/77 [==============================] - 1s 11ms/step - loss: 2.0376e-04 - mean_absolute_percentage_error: 5646.5547 - val_loss: 0.0276 - val_mean_absolute_percentage_error: 15.6424\n",
            "Epoch 24/50\n",
            "77/77 [==============================] - 1s 11ms/step - loss: 1.9642e-04 - mean_absolute_percentage_error: 3319.2400 - val_loss: 0.0290 - val_mean_absolute_percentage_error: 16.3676\n",
            "Epoch 25/50\n",
            "77/77 [==============================] - 1s 10ms/step - loss: 1.8639e-04 - mean_absolute_percentage_error: 3190.8142 - val_loss: 0.0243 - val_mean_absolute_percentage_error: 14.3453\n",
            "Epoch 26/50\n",
            "77/77 [==============================] - 1s 10ms/step - loss: 1.9881e-04 - mean_absolute_percentage_error: 4571.7803 - val_loss: 0.0301 - val_mean_absolute_percentage_error: 16.8421\n",
            "Epoch 27/50\n",
            "77/77 [==============================] - 1s 9ms/step - loss: 1.8499e-04 - mean_absolute_percentage_error: 3823.8010 - val_loss: 0.0293 - val_mean_absolute_percentage_error: 16.4343\n",
            "Epoch 28/50\n",
            "77/77 [==============================] - 1s 10ms/step - loss: 1.7792e-04 - mean_absolute_percentage_error: 3116.1201 - val_loss: 0.0262 - val_mean_absolute_percentage_error: 15.1253\n",
            "Epoch 29/50\n",
            "77/77 [==============================] - 1s 9ms/step - loss: 1.7406e-04 - mean_absolute_percentage_error: 3371.8950 - val_loss: 0.0251 - val_mean_absolute_percentage_error: 14.6517\n",
            "Epoch 30/50\n",
            "77/77 [==============================] - 1s 10ms/step - loss: 1.7979e-04 - mean_absolute_percentage_error: 1795.3522 - val_loss: 0.0273 - val_mean_absolute_percentage_error: 15.5879\n",
            "Epoch 31/50\n",
            "77/77 [==============================] - 1s 9ms/step - loss: 1.7650e-04 - mean_absolute_percentage_error: 3109.7585 - val_loss: 0.0313 - val_mean_absolute_percentage_error: 17.2429\n",
            "Epoch 32/50\n",
            "77/77 [==============================] - 1s 10ms/step - loss: 1.7409e-04 - mean_absolute_percentage_error: 2529.4495 - val_loss: 0.0284 - val_mean_absolute_percentage_error: 15.9549\n",
            "Epoch 33/50\n",
            "77/77 [==============================] - 1s 9ms/step - loss: 1.7853e-04 - mean_absolute_percentage_error: 3916.5022 - val_loss: 0.0288 - val_mean_absolute_percentage_error: 16.1743\n",
            "Epoch 34/50\n",
            "77/77 [==============================] - 1s 9ms/step - loss: 1.8076e-04 - mean_absolute_percentage_error: 2460.7908 - val_loss: 0.0371 - val_mean_absolute_percentage_error: 19.7267\n",
            "Epoch 35/50\n",
            "77/77 [==============================] - 1s 10ms/step - loss: 1.8776e-04 - mean_absolute_percentage_error: 3188.9612 - val_loss: 0.0335 - val_mean_absolute_percentage_error: 18.1936\n",
            "Epoch 36/50\n",
            "77/77 [==============================] - 1s 9ms/step - loss: 1.8561e-04 - mean_absolute_percentage_error: 1871.4744 - val_loss: 0.0323 - val_mean_absolute_percentage_error: 17.7250\n",
            "Epoch 37/50\n",
            "77/77 [==============================] - 1s 9ms/step - loss: 1.7375e-04 - mean_absolute_percentage_error: 3334.5771 - val_loss: 0.0281 - val_mean_absolute_percentage_error: 15.8351\n",
            "Epoch 38/50\n",
            "77/77 [==============================] - 1s 10ms/step - loss: 1.7711e-04 - mean_absolute_percentage_error: 1948.7513 - val_loss: 0.0283 - val_mean_absolute_percentage_error: 15.9208\n",
            "Epoch 39/50\n",
            "77/77 [==============================] - 1s 9ms/step - loss: 1.8086e-04 - mean_absolute_percentage_error: 1248.6058 - val_loss: 0.0313 - val_mean_absolute_percentage_error: 17.2586\n",
            "Epoch 40/50\n",
            "77/77 [==============================] - 1s 10ms/step - loss: 1.8275e-04 - mean_absolute_percentage_error: 3128.4958 - val_loss: 0.0287 - val_mean_absolute_percentage_error: 16.1982\n",
            "Epoch 41/50\n",
            "77/77 [==============================] - 1s 10ms/step - loss: 1.7211e-04 - mean_absolute_percentage_error: 2255.2112 - val_loss: 0.0303 - val_mean_absolute_percentage_error: 16.8295\n",
            "Epoch 42/50\n",
            "77/77 [==============================] - 1s 10ms/step - loss: 1.6774e-04 - mean_absolute_percentage_error: 2419.7275 - val_loss: 0.0315 - val_mean_absolute_percentage_error: 17.3993\n",
            "Epoch 43/50\n",
            "77/77 [==============================] - 1s 10ms/step - loss: 1.6570e-04 - mean_absolute_percentage_error: 2999.5593 - val_loss: 0.0251 - val_mean_absolute_percentage_error: 14.6773\n",
            "Epoch 44/50\n",
            "77/77 [==============================] - 1s 10ms/step - loss: 1.7654e-04 - mean_absolute_percentage_error: 1053.3834 - val_loss: 0.0304 - val_mean_absolute_percentage_error: 16.9557\n",
            "Epoch 45/50\n",
            "77/77 [==============================] - 1s 10ms/step - loss: 1.7276e-04 - mean_absolute_percentage_error: 3008.7209 - val_loss: 0.0278 - val_mean_absolute_percentage_error: 15.8098\n",
            "Epoch 46/50\n",
            "77/77 [==============================] - 1s 10ms/step - loss: 1.8147e-04 - mean_absolute_percentage_error: 1323.3097 - val_loss: 0.0307 - val_mean_absolute_percentage_error: 17.0355\n",
            "Epoch 47/50\n",
            "77/77 [==============================] - 1s 9ms/step - loss: 1.7144e-04 - mean_absolute_percentage_error: 3107.2529 - val_loss: 0.0268 - val_mean_absolute_percentage_error: 15.4524\n",
            "Epoch 48/50\n",
            "77/77 [==============================] - 1s 9ms/step - loss: 1.7977e-04 - mean_absolute_percentage_error: 3243.0286 - val_loss: 0.0258 - val_mean_absolute_percentage_error: 14.9513\n",
            "Epoch 49/50\n",
            "77/77 [==============================] - 1s 10ms/step - loss: 1.6661e-04 - mean_absolute_percentage_error: 2432.2778 - val_loss: 0.0305 - val_mean_absolute_percentage_error: 17.0435\n",
            "Epoch 50/50\n",
            "77/77 [==============================] - 1s 10ms/step - loss: 1.6845e-04 - mean_absolute_percentage_error: 1555.6400 - val_loss: 0.0277 - val_mean_absolute_percentage_error: 15.7478\n",
            "CPU times: user 59.4 s, sys: 2.8 s, total: 1min 2s\n",
            "Wall time: 44.8 s\n"
          ]
        }
      ]
    },
    {
      "cell_type": "markdown",
      "metadata": {
        "id": "private-gathering"
      },
      "source": [
        "#### Metic Plot"
      ],
      "id": "private-gathering"
    },
    {
      "cell_type": "code",
      "metadata": {
        "colab": {
          "base_uri": "https://localhost:8080/"
        },
        "id": "micro-century",
        "outputId": "a2fb3140-659a-4b65-e058-37830841fcf5"
      },
      "source": [
        "history.history.keys()   # check logs.key"
      ],
      "id": "micro-century",
      "execution_count": 50,
      "outputs": [
        {
          "output_type": "execute_result",
          "data": {
            "text/plain": [
              "dict_keys(['loss', 'mean_absolute_percentage_error', 'val_loss', 'val_mean_absolute_percentage_error'])"
            ]
          },
          "metadata": {},
          "execution_count": 50
        }
      ]
    },
    {
      "cell_type": "code",
      "metadata": {
        "colab": {
          "base_uri": "https://localhost:8080/",
          "height": 281
        },
        "id": "local-robinson",
        "outputId": "fcb0369f-e0e6-4ed5-99c2-e2b739ca1601"
      },
      "source": [
        "plt.plot(history.history['loss'], label='loss')\n",
        "plt.plot(history.history['val_loss'], label='val_loss')\n",
        "\n",
        "plt.title(\"Training loss\")\n",
        "plt.semilogy()  # y축에 log scale적용\n",
        "plt.grid(True)\n",
        "plt.legend(loc='best')\n",
        "plt.show()  "
      ],
      "id": "local-robinson",
      "execution_count": 51,
      "outputs": [
        {
          "output_type": "display_data",
          "data": {
            "image/png": "[encoded data removed]",
            "text/plain": [
              "<Figure size 432x288 with 1 Axes>"
            ]
          },
          "metadata": {
            "needs_background": "light"
          }
        }
      ]
    },
    {
      "cell_type": "code",
      "metadata": {
        "colab": {
          "base_uri": "https://localhost:8080/",
          "height": 281
        },
        "id": "unlike-carrier",
        "outputId": "e2f95fa7-2048-4152-ef0a-08d062d9172e"
      },
      "source": [
        "plt.plot(history.history['mean_absolute_percentage_error'], label='MAPE')\n",
        "plt.plot(history.history['val_mean_absolute_percentage_error'], label='val_MAPE')\n",
        "\n",
        "plt.title(\"Training MAPE\")\n",
        "plt.semilogy()  # y축에 log scale적용\n",
        "plt.grid(True)\n",
        "plt.legend(loc='best')\n",
        "plt.show()  "
      ],
      "id": "unlike-carrier",
      "execution_count": 52,
      "outputs": [
        {
          "output_type": "display_data",
          "data": {
            "image/png": "[encoded data removed]",
            "text/plain": [
              "<Figure size 432x288 with 1 Axes>"
            ]
          },
          "metadata": {
            "needs_background": "light"
          }
        }
      ]
    },
    {
      "cell_type": "markdown",
      "metadata": {
        "id": "moved-authentication"
      },
      "source": [
        "### Predict the stock price"
      ],
      "id": "moved-authentication"
    },
    {
      "cell_type": "code",
      "metadata": {
        "id": "committed-landing"
      },
      "source": [
        "s_p = 0\n",
        "e_p = 200\n",
        "X = seq_x_test[s_p:e_p]\n",
        "Y = seq_y_test[s_p:e_p]\n",
        "predicted_stock_price = LSTM.predict(X)"
      ],
      "id": "committed-landing",
      "execution_count": 53,
      "outputs": []
    },
    {
      "cell_type": "code",
      "metadata": {
        "colab": {
          "base_uri": "https://localhost:8080/",
          "height": 388
        },
        "id": "breeding-beijing",
        "outputId": "de7617ca-1ae9-43f2-f839-efad20970a4f"
      },
      "source": [
        "plt.figure(figsize=(10, 6))\n",
        "plt.plot(Y, color = 'green', label = 'Stock Price')\n",
        "plt.plot(predicted_stock_price, color = 'blue',label = 'Predicted Stock Price_B')\n",
        "# \n",
        "plt.xlabel('days')\n",
        "plt.ylabel('Normalized Stock Price')\n",
        "plt.legend()\n",
        "plt.grid(True)\n",
        "plt.show()"
      ],
      "id": "breeding-beijing",
      "execution_count": 54,
      "outputs": [
        {
          "output_type": "display_data",
          "data": {
            "image/png": "[encoded data removed]",
            "text/plain": [
              "<Figure size 720x432 with 1 Axes>"
            ]
          },
          "metadata": {
            "needs_background": "light"
          }
        }
      ]
    },
    {
      "cell_type": "markdown",
      "metadata": {
        "id": "endangered-strain"
      },
      "source": [
        "![image.png](attachment:3cb0e963-371d-43b3-941a-502229ca06b8.png) "
      ],
      "id": "endangered-strain"
    }
  ]
}