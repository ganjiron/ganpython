{
 "cells": [
  {
   "cell_type": "code",
   "execution_count": 1,
   "metadata": {},
   "outputs": [],
   "source": [
    "from random import *\n",
    "import numpy as np"
   ]
  },
  {
   "cell_type": "code",
   "execution_count": 2,
   "metadata": {},
   "outputs": [],
   "source": [
    "from sklearn import linear_model"
   ]
  },
  {
   "cell_type": "code",
   "execution_count": 28,
   "metadata": {},
   "outputs": [],
   "source": [
    "import matplotlib.pyplot as plt\n",
    "import pandas as pd\n"
   ]
  },
  {
   "cell_type": "code",
   "execution_count": 9,
   "metadata": {},
   "outputs": [],
   "source": [
    "length = 10\n",
    "x = []\n",
    "y = []\n",
    "for i in range(length):\n",
    "    x.append([i])\n",
    "    y.append([random()*10])\n"
   ]
  },
  {
   "cell_type": "code",
   "execution_count": 18,
   "metadata": {},
   "outputs": [
    {
     "data": {
      "text/plain": [
       "<matplotlib.legend.Legend at 0x1af58a66e80>"
      ]
     },
     "execution_count": 18,
     "metadata": {},
     "output_type": "execute_result"
    },
    {
     "data": {
      "image/png": "[encoded data removed]",
      "text/plain": [
       "<Figure size 432x288 with 1 Axes>"
      ]
     },
     "metadata": {},
     "output_type": "display_data"
    }
   ],
   "source": [
    "regr = linear_model.LinearRegression()\n",
    "regr.fit(x,y)\n",
    "plt.scatter(x,y,color='black')\n",
    "z = regr.predict(x) \n",
    "plt.plot(x,z, color='blue' , linewidth=3)\n",
    "plt.legend(('LR' , 'point'))"
   ]
  },
  {
   "cell_type": "code",
   "execution_count": 25,
   "metadata": {},
   "outputs": [],
   "source": [
    "length = 10\n",
    "x = np.array(range(0,length)).reshape(length,1)\n",
    "y = np.array([random()*10 for i in range(length)]).reshape(length , 1)"
   ]
  },
  {
   "cell_type": "code",
   "execution_count": 27,
   "metadata": {},
   "outputs": [
    {
     "data": {
      "text/plain": [
       "<matplotlib.legend.Legend at 0x1af58ae1d68>"
      ]
     },
     "execution_count": 27,
     "metadata": {},
     "output_type": "execute_result"
    },
    {
     "data": {
      "image/png": "[encoded data removed]",
      "text/plain": [
       "<Figure size 432x288 with 1 Axes>"
      ]
     },
     "metadata": {},
     "output_type": "display_data"
    }
   ],
   "source": [
    "regr = linear_model.LinearRegression()\n",
    "regr.fit(x,y)\n",
    "plt.scatter(x,y,color='black')\n",
    "z = regr.predict(x) \n",
    "plt.plot(x,z, color='blue' , linewidth=3)\n",
    "plt.legend(('LR' , 'point'))"
   ]
  },
  {
   "cell_type": "code",
   "execution_count": 25,
   "metadata": {},
   "outputs": [],
   "source": [
    "length = 10\n",
    "x = np.array(range(0,length)).reshape(length,1)\n",
    "y = np.array([random()*10 for i in range(length)]).reshape(length , 1)"
   ]
  },
  {
   "cell_type": "code",
   "execution_count": 29,
   "metadata": {},
   "outputs": [],
   "source": [
    "xy_data = np.concatenate((x,y) ,axis=1)"
   ]
  },
  {
   "cell_type": "code",
   "execution_count": 30,
   "metadata": {},
   "outputs": [
    {
     "data": {
      "text/plain": [
       "array([[0.        , 8.37148909],\n",
       "       [1.        , 6.69881461],\n",
       "       [2.        , 0.5251332 ],\n",
       "       [3.        , 6.99487288],\n",
       "       [4.        , 6.03965694],\n",
       "       [5.        , 6.12633441],\n",
       "       [6.        , 8.68948767],\n",
       "       [7.        , 1.53810908],\n",
       "       [8.        , 6.3657574 ],\n",
       "       [9.        , 5.17170503]])"
      ]
     },
     "execution_count": 30,
     "metadata": {},
     "output_type": "execute_result"
    }
   ],
   "source": [
    "xy_data\n"
   ]
  },
  {
   "cell_type": "code",
   "execution_count": 31,
   "metadata": {},
   "outputs": [],
   "source": [
    "p_data = pd.DataFrame(data = xy_data , columns=('x' , 'y'))"
   ]
  },
  {
   "cell_type": "code",
   "execution_count": 32,
   "metadata": {},
   "outputs": [
    {
     "data": {
      "text/html": [
       "<div>\n",
       "<style scoped>\n",
       "    .dataframe tbody tr th:only-of-type {\n",
       "        vertical-align: middle;\n",
       "    }\n",
       "\n",
       "    .dataframe tbody tr th {\n",
       "        vertical-align: top;\n",
       "    }\n",
       "\n",
       "    .dataframe thead th {\n",
       "        text-align: right;\n",
       "    }\n",
       "</style>\n",
       "<table border=\"1\" class=\"dataframe\">\n",
       "  <thead>\n",
       "    <tr style=\"text-align: right;\">\n",
       "      <th></th>\n",
       "      <th>x</th>\n",
       "      <th>y</th>\n",
       "    </tr>\n",
       "  </thead>\n",
       "  <tbody>\n",
       "    <tr>\n",
       "      <th>0</th>\n",
       "      <td>0.0</td>\n",
       "      <td>8.371489</td>\n",
       "    </tr>\n",
       "    <tr>\n",
       "      <th>1</th>\n",
       "      <td>1.0</td>\n",
       "      <td>6.698815</td>\n",
       "    </tr>\n",
       "    <tr>\n",
       "      <th>2</th>\n",
       "      <td>2.0</td>\n",
       "      <td>0.525133</td>\n",
       "    </tr>\n",
       "    <tr>\n",
       "      <th>3</th>\n",
       "      <td>3.0</td>\n",
       "      <td>6.994873</td>\n",
       "    </tr>\n",
       "    <tr>\n",
       "      <th>4</th>\n",
       "      <td>4.0</td>\n",
       "      <td>6.039657</td>\n",
       "    </tr>\n",
       "    <tr>\n",
       "      <th>5</th>\n",
       "      <td>5.0</td>\n",
       "      <td>6.126334</td>\n",
       "    </tr>\n",
       "    <tr>\n",
       "      <th>6</th>\n",
       "      <td>6.0</td>\n",
       "      <td>8.689488</td>\n",
       "    </tr>\n",
       "    <tr>\n",
       "      <th>7</th>\n",
       "      <td>7.0</td>\n",
       "      <td>1.538109</td>\n",
       "    </tr>\n",
       "    <tr>\n",
       "      <th>8</th>\n",
       "      <td>8.0</td>\n",
       "      <td>6.365757</td>\n",
       "    </tr>\n",
       "    <tr>\n",
       "      <th>9</th>\n",
       "      <td>9.0</td>\n",
       "      <td>5.171705</td>\n",
       "    </tr>\n",
       "  </tbody>\n",
       "</table>\n",
       "</div>"
      ],
      "text/plain": [
       "     x         y\n",
       "0  0.0  8.371489\n",
       "1  1.0  6.698815\n",
       "2  2.0  0.525133\n",
       "3  3.0  6.994873\n",
       "4  4.0  6.039657\n",
       "5  5.0  6.126334\n",
       "6  6.0  8.689488\n",
       "7  7.0  1.538109\n",
       "8  8.0  6.365757\n",
       "9  9.0  5.171705"
      ]
     },
     "execution_count": 32,
     "metadata": {},
     "output_type": "execute_result"
    }
   ],
   "source": [
    "p_data"
   ]
  },
  {
   "cell_type": "code",
   "execution_count": 36,
   "metadata": {},
   "outputs": [
    {
     "data": {
      "text/plain": [
       "LinearRegression(copy_X=True, fit_intercept=True, n_jobs=1, normalize=False)"
      ]
     },
     "execution_count": 36,
     "metadata": {},
     "output_type": "execute_result"
    }
   ],
   "source": [
    "regr = linear_model.LinearRegression()\n",
    "regr.fit(p_data.x.values.reshape(length,1) , p_data.y.values.reshape(length,1))"
   ]
  },
  {
   "cell_type": "code",
   "execution_count": 37,
   "metadata": {},
   "outputs": [
    {
     "data": {
      "text/plain": [
       "<matplotlib.legend.Legend at 0x1af58dbfe80>"
      ]
     },
     "execution_count": 37,
     "metadata": {},
     "output_type": "execute_result"
    },
    {
     "data": {
      "image/png": "[encoded data removed]",
      "text/plain": [
       "<Figure size 432x288 with 1 Axes>"
      ]
     },
     "metadata": {},
     "output_type": "display_data"
    }
   ],
   "source": [
    "plt.scatter(x,y,color='black')\n",
    "z = regr.predict(x) \n",
    "plt.plot(x,z, color='blue' , linewidth=3)\n",
    "plt.legend(('LR' , 'point'))"
   ]
  },
  {
   "cell_type": "code",
   "execution_count": 41,
   "metadata": {},
   "outputs": [],
   "source": [
    "from sklearn import datasets , linear_model"
   ]
  },
  {
   "cell_type": "code",
   "execution_count": 42,
   "metadata": {},
   "outputs": [],
   "source": [
    "diabetes = datasets.load_diabetes()"
   ]
  },
  {
   "cell_type": "code",
   "execution_count": 44,
   "metadata": {},
   "outputs": [
    {
     "data": {
      "text/plain": [
       "{'data': array([[ 0.03807591,  0.05068012,  0.06169621, ..., -0.00259226,\n",
       "          0.01990842, -0.01764613],\n",
       "        [-0.00188202, -0.04464164, -0.05147406, ..., -0.03949338,\n",
       "         -0.06832974, -0.09220405],\n",
       "        [ 0.08529891,  0.05068012,  0.04445121, ..., -0.00259226,\n",
       "          0.00286377, -0.02593034],\n",
       "        ...,\n",
       "        [ 0.04170844,  0.05068012, -0.01590626, ..., -0.01107952,\n",
       "         -0.04687948,  0.01549073],\n",
       "        [-0.04547248, -0.04464164,  0.03906215, ...,  0.02655962,\n",
       "          0.04452837, -0.02593034],\n",
       "        [-0.04547248, -0.04464164, -0.0730303 , ..., -0.03949338,\n",
       "         -0.00421986,  0.00306441]]),\n",
       " 'target': array([151.,  75., 141., 206., 135.,  97., 138.,  63., 110., 310., 101.,\n",
       "         69., 179., 185., 118., 171., 166., 144.,  97., 168.,  68.,  49.,\n",
       "         68., 245., 184., 202., 137.,  85., 131., 283., 129.,  59., 341.,\n",
       "         87.,  65., 102., 265., 276., 252.,  90., 100.,  55.,  61.,  92.,\n",
       "        259.,  53., 190., 142.,  75., 142., 155., 225.,  59., 104., 182.,\n",
       "        128.,  52.,  37., 170., 170.,  61., 144.,  52., 128.,  71., 163.,\n",
       "        150.,  97., 160., 178.,  48., 270., 202., 111.,  85.,  42., 170.,\n",
       "        200., 252., 113., 143.,  51.,  52., 210.,  65., 141.,  55., 134.,\n",
       "         42., 111.,  98., 164.,  48.,  96.,  90., 162., 150., 279.,  92.,\n",
       "         83., 128., 102., 302., 198.,  95.,  53., 134., 144., 232.,  81.,\n",
       "        104.,  59., 246., 297., 258., 229., 275., 281., 179., 200., 200.,\n",
       "        173., 180.,  84., 121., 161.,  99., 109., 115., 268., 274., 158.,\n",
       "        107.,  83., 103., 272.,  85., 280., 336., 281., 118., 317., 235.,\n",
       "         60., 174., 259., 178., 128.,  96., 126., 288.,  88., 292.,  71.,\n",
       "        197., 186.,  25.,  84.,  96., 195.,  53., 217., 172., 131., 214.,\n",
       "         59.,  70., 220., 268., 152.,  47.,  74., 295., 101., 151., 127.,\n",
       "        237., 225.,  81., 151., 107.,  64., 138., 185., 265., 101., 137.,\n",
       "        143., 141.,  79., 292., 178.,  91., 116.,  86., 122.,  72., 129.,\n",
       "        142.,  90., 158.,  39., 196., 222., 277.,  99., 196., 202., 155.,\n",
       "         77., 191.,  70.,  73.,  49.,  65., 263., 248., 296., 214., 185.,\n",
       "         78.,  93., 252., 150.,  77., 208.,  77., 108., 160.,  53., 220.,\n",
       "        154., 259.,  90., 246., 124.,  67.,  72., 257., 262., 275., 177.,\n",
       "         71.,  47., 187., 125.,  78.,  51., 258., 215., 303., 243.,  91.,\n",
       "        150., 310., 153., 346.,  63.,  89.,  50.,  39., 103., 308., 116.,\n",
       "        145.,  74.,  45., 115., 264.,  87., 202., 127., 182., 241.,  66.,\n",
       "         94., 283.,  64., 102., 200., 265.,  94., 230., 181., 156., 233.,\n",
       "         60., 219.,  80.,  68., 332., 248.,  84., 200.,  55.,  85.,  89.,\n",
       "         31., 129.,  83., 275.,  65., 198., 236., 253., 124.,  44., 172.,\n",
       "        114., 142., 109., 180., 144., 163., 147.,  97., 220., 190., 109.,\n",
       "        191., 122., 230., 242., 248., 249., 192., 131., 237.,  78., 135.,\n",
       "        244., 199., 270., 164.,  72.,  96., 306.,  91., 214.,  95., 216.,\n",
       "        263., 178., 113., 200., 139., 139.,  88., 148.,  88., 243.,  71.,\n",
       "         77., 109., 272.,  60.,  54., 221.,  90., 311., 281., 182., 321.,\n",
       "         58., 262., 206., 233., 242., 123., 167.,  63., 197.,  71., 168.,\n",
       "        140., 217., 121., 235., 245.,  40.,  52., 104., 132.,  88.,  69.,\n",
       "        219.,  72., 201., 110.,  51., 277.,  63., 118.,  69., 273., 258.,\n",
       "         43., 198., 242., 232., 175.,  93., 168., 275., 293., 281.,  72.,\n",
       "        140., 189., 181., 209., 136., 261., 113., 131., 174., 257.,  55.,\n",
       "         84.,  42., 146., 212., 233.,  91., 111., 152., 120.,  67., 310.,\n",
       "         94., 183.,  66., 173.,  72.,  49.,  64.,  48., 178., 104., 132.,\n",
       "        220.,  57.]),\n",
       " 'DESCR': 'Diabetes dataset\\n================\\n\\nNotes\\n-----\\n\\nTen baseline variables, age, sex, body mass index, average blood\\npressure, and six blood serum measurements were obtained for each of n =\\n442 diabetes patients, as well as the response of interest, a\\nquantitative measure of disease progression one year after baseline.\\n\\nData Set Characteristics:\\n\\n  :Number of Instances: 442\\n\\n  :Number of Attributes: First 10 columns are numeric predictive values\\n\\n  :Target: Column 11 is a quantitative measure of disease progression one year after baseline\\n\\n  :Attributes:\\n    :Age:\\n    :Sex:\\n    :Body mass index:\\n    :Average blood pressure:\\n    :S1:\\n    :S2:\\n    :S3:\\n    :S4:\\n    :S5:\\n    :S6:\\n\\nNote: Each of these 10 feature variables have been mean centered and scaled by the standard deviation times `n_samples` (i.e. the sum of squares of each column totals 1).\\n\\nSource URL:\\nhttp://www4.stat.ncsu.edu/~boos/var.select/diabetes.html\\n\\nFor more information see:\\nBradley Efron, Trevor Hastie, Iain Johnstone and Robert Tibshirani (2004) \"Least Angle Regression,\" Annals of Statistics (with discussion), 407-499.\\n(http://web.stanford.edu/~hastie/Papers/LARS/LeastAngle_2002.pdf)\\n',\n",
       " 'feature_names': ['age',\n",
       "  'sex',\n",
       "  'bmi',\n",
       "  'bp',\n",
       "  's1',\n",
       "  's2',\n",
       "  's3',\n",
       "  's4',\n",
       "  's5',\n",
       "  's6']}"
      ]
     },
     "execution_count": 44,
     "metadata": {},
     "output_type": "execute_result"
    }
   ],
   "source": [
    "diabetes"
   ]
  },
  {
   "cell_type": "code",
   "execution_count": 57,
   "metadata": {},
   "outputs": [],
   "source": [
    "dia_x = diabetes.data[:,2 , np.newaxis]"
   ]
  },
  {
   "cell_type": "code",
   "execution_count": 58,
   "metadata": {},
   "outputs": [],
   "source": [
    "dia_x_train = dia_x[:-20]\n",
    "dia_x_test = dia_x[-20:]\n",
    "dia_y_train = diabetes.target[:-20]\n",
    "dia_y_test = diabetes.target[-20:]"
   ]
  },
  {
   "cell_type": "code",
   "execution_count": 59,
   "metadata": {},
   "outputs": [
    {
     "data": {
      "text/plain": [
       "(array([[ 0.07786339],\n",
       "        [-0.03961813],\n",
       "        [ 0.01103904],\n",
       "        [-0.04069594],\n",
       "        [-0.03422907],\n",
       "        [ 0.00564998],\n",
       "        [ 0.08864151],\n",
       "        [-0.03315126],\n",
       "        [-0.05686312],\n",
       "        [-0.03099563],\n",
       "        [ 0.05522933],\n",
       "        [-0.06009656],\n",
       "        [ 0.00133873],\n",
       "        [-0.02345095],\n",
       "        [-0.07410811],\n",
       "        [ 0.01966154],\n",
       "        [-0.01590626],\n",
       "        [-0.01590626],\n",
       "        [ 0.03906215],\n",
       "        [-0.0730303 ]]), array([[ 0.06169621],\n",
       "        [-0.05147406],\n",
       "        [ 0.04445121],\n",
       "        [-0.01159501],\n",
       "        [-0.03638469],\n",
       "        [-0.04069594],\n",
       "        [-0.04716281],\n",
       "        [-0.00189471],\n",
       "        [ 0.06169621],\n",
       "        [ 0.03906215],\n",
       "        [-0.08380842],\n",
       "        [ 0.01750591],\n",
       "        [-0.02884001],\n",
       "        [-0.00189471],\n",
       "        [-0.02560657],\n",
       "        [-0.01806189],\n",
       "        [ 0.04229559],\n",
       "        [ 0.01211685],\n",
       "        [-0.0105172 ],\n",
       "        [-0.01806189],\n",
       "        [-0.05686312],\n",
       "        [-0.02237314],\n",
       "        [-0.00405033],\n",
       "        [ 0.06061839],\n",
       "        [ 0.03582872],\n",
       "        [-0.01267283],\n",
       "        [-0.07734155],\n",
       "        [ 0.05954058],\n",
       "        [-0.02129532],\n",
       "        [-0.00620595],\n",
       "        [ 0.04445121],\n",
       "        [-0.06548562],\n",
       "        [ 0.12528712],\n",
       "        [-0.05039625],\n",
       "        [-0.06332999],\n",
       "        [-0.03099563],\n",
       "        [ 0.02289497],\n",
       "        [ 0.01103904],\n",
       "        [ 0.07139652],\n",
       "        [ 0.01427248],\n",
       "        [-0.00836158],\n",
       "        [-0.06764124],\n",
       "        [-0.0105172 ],\n",
       "        [-0.02345095],\n",
       "        [ 0.06816308],\n",
       "        [-0.03530688],\n",
       "        [-0.01159501],\n",
       "        [-0.0730303 ],\n",
       "        [-0.04177375],\n",
       "        [ 0.01427248],\n",
       "        [-0.00728377],\n",
       "        [ 0.0164281 ],\n",
       "        [-0.00943939],\n",
       "        [-0.01590626],\n",
       "        [ 0.0250506 ],\n",
       "        [-0.04931844],\n",
       "        [ 0.04121778],\n",
       "        [-0.06332999],\n",
       "        [-0.06440781],\n",
       "        [-0.02560657],\n",
       "        [-0.00405033],\n",
       "        [ 0.00457217],\n",
       "        [-0.00728377],\n",
       "        [-0.0374625 ],\n",
       "        [-0.02560657],\n",
       "        [-0.02452876],\n",
       "        [-0.01806189],\n",
       "        [-0.01482845],\n",
       "        [-0.02991782],\n",
       "        [-0.046085  ],\n",
       "        [-0.06979687],\n",
       "        [ 0.03367309],\n",
       "        [-0.00405033],\n",
       "        [-0.02021751],\n",
       "        [ 0.00241654],\n",
       "        [-0.03099563],\n",
       "        [ 0.02828403],\n",
       "        [-0.03638469],\n",
       "        [-0.05794093],\n",
       "        [-0.0374625 ],\n",
       "        [ 0.01211685],\n",
       "        [-0.02237314],\n",
       "        [-0.03530688],\n",
       "        [ 0.00996123],\n",
       "        [-0.03961813],\n",
       "        [ 0.07139652],\n",
       "        [-0.07518593],\n",
       "        [-0.00620595],\n",
       "        [-0.04069594],\n",
       "        [-0.04824063],\n",
       "        [-0.02560657],\n",
       "        [ 0.0519959 ],\n",
       "        [ 0.00457217],\n",
       "        [-0.06440781],\n",
       "        [-0.01698407],\n",
       "        [-0.05794093],\n",
       "        [ 0.00996123],\n",
       "        [ 0.08864151],\n",
       "        [-0.00512814],\n",
       "        [-0.06440781],\n",
       "        [ 0.01750591],\n",
       "        [-0.04500719],\n",
       "        [ 0.02828403],\n",
       "        [ 0.04121778],\n",
       "        [ 0.06492964],\n",
       "        [-0.03207344],\n",
       "        [-0.07626374],\n",
       "        [ 0.04984027],\n",
       "        [ 0.04552903],\n",
       "        [-0.00943939],\n",
       "        [-0.03207344],\n",
       "        [ 0.00457217],\n",
       "        [ 0.02073935],\n",
       "        [ 0.01427248],\n",
       "        [ 0.11019775],\n",
       "        [ 0.00133873],\n",
       "        [ 0.05846277],\n",
       "        [-0.02129532],\n",
       "        [-0.0105172 ],\n",
       "        [-0.04716281],\n",
       "        [ 0.00457217],\n",
       "        [ 0.01750591],\n",
       "        [ 0.08109682],\n",
       "        [ 0.0347509 ],\n",
       "        [ 0.02397278],\n",
       "        [-0.00836158],\n",
       "        [-0.06117437],\n",
       "        [-0.00189471],\n",
       "        [-0.06225218],\n",
       "        [ 0.0164281 ],\n",
       "        [ 0.09618619],\n",
       "        [-0.06979687],\n",
       "        [-0.02129532],\n",
       "        [-0.05362969],\n",
       "        [ 0.0433734 ],\n",
       "        [ 0.05630715],\n",
       "        [-0.0816528 ],\n",
       "        [ 0.04984027],\n",
       "        [ 0.11127556],\n",
       "        [ 0.06169621],\n",
       "        [ 0.01427248],\n",
       "        [ 0.04768465],\n",
       "        [ 0.01211685],\n",
       "        [ 0.00564998],\n",
       "        [ 0.04660684],\n",
       "        [ 0.12852056],\n",
       "        [ 0.05954058],\n",
       "        [ 0.09295276],\n",
       "        [ 0.01535029],\n",
       "        [-0.00512814],\n",
       "        [ 0.0703187 ],\n",
       "        [-0.00405033],\n",
       "        [-0.00081689],\n",
       "        [-0.04392938],\n",
       "        [ 0.02073935],\n",
       "        [ 0.06061839],\n",
       "        [-0.0105172 ],\n",
       "        [-0.03315126],\n",
       "        [-0.06548562],\n",
       "        [ 0.0433734 ],\n",
       "        [-0.06225218],\n",
       "        [ 0.06385183],\n",
       "        [ 0.03043966],\n",
       "        [ 0.07247433],\n",
       "        [-0.0191397 ],\n",
       "        [-0.06656343],\n",
       "        [-0.06009656],\n",
       "        [ 0.06924089],\n",
       "        [ 0.05954058],\n",
       "        [-0.02668438],\n",
       "        [-0.02021751],\n",
       "        [-0.046085  ],\n",
       "        [ 0.07139652],\n",
       "        [-0.07949718],\n",
       "        [ 0.00996123],\n",
       "        [-0.03854032],\n",
       "        [ 0.01966154],\n",
       "        [ 0.02720622],\n",
       "        [-0.00836158],\n",
       "        [-0.01590626],\n",
       "        [ 0.00457217],\n",
       "        [-0.04285156],\n",
       "        [ 0.00564998],\n",
       "        [-0.03530688],\n",
       "        [ 0.02397278],\n",
       "        [-0.01806189],\n",
       "        [ 0.04229559],\n",
       "        [-0.0547075 ],\n",
       "        [-0.00297252],\n",
       "        [-0.06656343],\n",
       "        [-0.01267283],\n",
       "        [-0.04177375],\n",
       "        [-0.03099563],\n",
       "        [-0.00512814],\n",
       "        [-0.05901875],\n",
       "        [ 0.0250506 ],\n",
       "        [-0.046085  ],\n",
       "        [ 0.00349435],\n",
       "        [ 0.05415152],\n",
       "        [-0.04500719],\n",
       "        [-0.05794093],\n",
       "        [-0.05578531],\n",
       "        [ 0.00133873],\n",
       "        [ 0.03043966],\n",
       "        [ 0.00672779],\n",
       "        [ 0.04660684],\n",
       "        [ 0.02612841],\n",
       "        [ 0.04552903],\n",
       "        [ 0.04013997],\n",
       "        [-0.01806189],\n",
       "        [ 0.01427248],\n",
       "        [ 0.03690653],\n",
       "        [ 0.00349435],\n",
       "        [-0.07087468],\n",
       "        [-0.03315126],\n",
       "        [ 0.09403057],\n",
       "        [ 0.03582872],\n",
       "        [ 0.03151747],\n",
       "        [-0.06548562],\n",
       "        [-0.04177375],\n",
       "        [-0.03961813],\n",
       "        [-0.03854032],\n",
       "        [-0.02560657],\n",
       "        [-0.02345095],\n",
       "        [-0.06656343],\n",
       "        [ 0.03259528],\n",
       "        [-0.046085  ],\n",
       "        [-0.02991782],\n",
       "        [-0.01267283],\n",
       "        [-0.01590626],\n",
       "        [ 0.07139652],\n",
       "        [-0.03099563],\n",
       "        [ 0.00026092],\n",
       "        [ 0.03690653],\n",
       "        [ 0.03906215],\n",
       "        [-0.01482845],\n",
       "        [ 0.00672779],\n",
       "        [-0.06871905],\n",
       "        [-0.00943939],\n",
       "        [ 0.01966154],\n",
       "        [ 0.07462995],\n",
       "        [-0.00836158],\n",
       "        [-0.02345095],\n",
       "        [-0.046085  ],\n",
       "        [ 0.05415152],\n",
       "        [-0.03530688],\n",
       "        [-0.03207344],\n",
       "        [-0.0816528 ],\n",
       "        [ 0.04768465],\n",
       "        [ 0.06061839],\n",
       "        [ 0.05630715],\n",
       "        [ 0.09834182],\n",
       "        [ 0.05954058],\n",
       "        [ 0.03367309],\n",
       "        [ 0.05630715],\n",
       "        [-0.06548562],\n",
       "        [ 0.16085492],\n",
       "        [-0.05578531],\n",
       "        [-0.02452876],\n",
       "        [-0.03638469],\n",
       "        [-0.00836158],\n",
       "        [-0.04177375],\n",
       "        [ 0.12744274],\n",
       "        [-0.07734155],\n",
       "        [ 0.02828403],\n",
       "        [-0.02560657],\n",
       "        [-0.06225218],\n",
       "        [-0.00081689],\n",
       "        [ 0.08864151],\n",
       "        [-0.03207344],\n",
       "        [ 0.03043966],\n",
       "        [ 0.00888341],\n",
       "        [ 0.00672779],\n",
       "        [-0.02021751],\n",
       "        [-0.02452876],\n",
       "        [-0.01159501],\n",
       "        [ 0.02612841],\n",
       "        [-0.05901875],\n",
       "        [-0.03638469],\n",
       "        [-0.02452876],\n",
       "        [ 0.01858372],\n",
       "        [-0.0902753 ],\n",
       "        [-0.00512814],\n",
       "        [-0.05255187],\n",
       "        [-0.02237314],\n",
       "        [-0.02021751],\n",
       "        [-0.0547075 ],\n",
       "        [-0.00620595],\n",
       "        [-0.01698407],\n",
       "        [ 0.05522933],\n",
       "        [ 0.07678558],\n",
       "        [ 0.01858372],\n",
       "        [-0.02237314],\n",
       "        [ 0.09295276],\n",
       "        [-0.03099563],\n",
       "        [ 0.03906215],\n",
       "        [-0.06117437],\n",
       "        [-0.00836158],\n",
       "        [-0.0374625 ],\n",
       "        [-0.01375064],\n",
       "        [ 0.07355214],\n",
       "        [-0.02452876],\n",
       "        [ 0.03367309],\n",
       "        [ 0.0347509 ],\n",
       "        [-0.03854032],\n",
       "        [-0.03961813],\n",
       "        [-0.00189471],\n",
       "        [-0.03099563],\n",
       "        [-0.046085  ],\n",
       "        [ 0.00133873],\n",
       "        [ 0.06492964],\n",
       "        [ 0.04013997],\n",
       "        [-0.02345095],\n",
       "        [ 0.05307371],\n",
       "        [ 0.04013997],\n",
       "        [-0.02021751],\n",
       "        [ 0.01427248],\n",
       "        [-0.03422907],\n",
       "        [ 0.00672779],\n",
       "        [ 0.00457217],\n",
       "        [ 0.03043966],\n",
       "        [ 0.0519959 ],\n",
       "        [ 0.06169621],\n",
       "        [-0.00728377],\n",
       "        [ 0.00564998],\n",
       "        [ 0.05415152],\n",
       "        [-0.00836158],\n",
       "        [ 0.114509  ],\n",
       "        [ 0.06708527],\n",
       "        [-0.05578531],\n",
       "        [ 0.03043966],\n",
       "        [-0.02560657],\n",
       "        [ 0.10480869],\n",
       "        [-0.00620595],\n",
       "        [-0.04716281],\n",
       "        [-0.04824063],\n",
       "        [ 0.08540807],\n",
       "        [-0.01267283],\n",
       "        [-0.03315126],\n",
       "        [-0.00728377],\n",
       "        [-0.01375064],\n",
       "        [ 0.05954058],\n",
       "        [ 0.02181716],\n",
       "        [ 0.01858372],\n",
       "        [-0.01159501],\n",
       "        [-0.00297252],\n",
       "        [ 0.01750591],\n",
       "        [-0.02991782],\n",
       "        [-0.02021751],\n",
       "        [-0.05794093],\n",
       "        [ 0.06061839],\n",
       "        [-0.04069594],\n",
       "        [-0.07195249],\n",
       "        [-0.05578531],\n",
       "        [ 0.04552903],\n",
       "        [-0.00943939],\n",
       "        [-0.03315126],\n",
       "        [ 0.04984027],\n",
       "        [-0.08488624],\n",
       "        [ 0.00564998],\n",
       "        [ 0.02073935],\n",
       "        [-0.00728377],\n",
       "        [ 0.10480869],\n",
       "        [-0.02452876],\n",
       "        [-0.00620595],\n",
       "        [-0.03854032],\n",
       "        [ 0.13714305],\n",
       "        [ 0.17055523],\n",
       "        [ 0.00241654],\n",
       "        [ 0.03798434],\n",
       "        [-0.05794093],\n",
       "        [-0.00943939],\n",
       "        [-0.02345095],\n",
       "        [-0.0105172 ],\n",
       "        [-0.03422907],\n",
       "        [-0.00297252],\n",
       "        [ 0.06816308],\n",
       "        [ 0.00996123],\n",
       "        [ 0.00241654],\n",
       "        [-0.03854032],\n",
       "        [ 0.02612841],\n",
       "        [-0.08919748],\n",
       "        [ 0.06061839],\n",
       "        [-0.02884001],\n",
       "        [-0.02991782],\n",
       "        [-0.0191397 ],\n",
       "        [-0.04069594],\n",
       "        [ 0.01535029],\n",
       "        [-0.02452876],\n",
       "        [ 0.00133873],\n",
       "        [ 0.06924089],\n",
       "        [-0.06979687],\n",
       "        [-0.02991782],\n",
       "        [-0.046085  ],\n",
       "        [ 0.01858372],\n",
       "        [ 0.00133873],\n",
       "        [-0.03099563],\n",
       "        [-0.00405033],\n",
       "        [ 0.01535029],\n",
       "        [ 0.02289497],\n",
       "        [ 0.04552903],\n",
       "        [-0.04500719],\n",
       "        [-0.03315126],\n",
       "        [ 0.097264  ],\n",
       "        [ 0.05415152],\n",
       "        [ 0.12313149],\n",
       "        [-0.08057499],\n",
       "        [ 0.09295276],\n",
       "        [-0.05039625],\n",
       "        [-0.01159501],\n",
       "        [-0.0277622 ],\n",
       "        [ 0.05846277],\n",
       "        [ 0.08540807],\n",
       "        [-0.00081689],\n",
       "        [ 0.00672779],\n",
       "        [ 0.00888341],\n",
       "        [ 0.08001901],\n",
       "        [ 0.07139652],\n",
       "        [-0.02452876],\n",
       "        [-0.0547075 ],\n",
       "        [-0.03638469],\n",
       "        [ 0.0164281 ]]), array([151.,  75., 141., 206., 135.,  97., 138.,  63., 110., 310., 101.,\n",
       "         69., 179., 185., 118., 171., 166., 144.,  97., 168.,  68.,  49.,\n",
       "         68., 245., 184., 202., 137.,  85., 131., 283., 129.,  59., 341.,\n",
       "         87.,  65., 102., 265., 276., 252.,  90., 100.,  55.,  61.,  92.,\n",
       "        259.,  53., 190., 142.,  75., 142., 155., 225.,  59., 104., 182.,\n",
       "        128.,  52.,  37., 170., 170.,  61., 144.,  52., 128.,  71., 163.,\n",
       "        150.,  97., 160., 178.,  48., 270., 202., 111.,  85.,  42., 170.,\n",
       "        200., 252., 113., 143.,  51.,  52., 210.,  65., 141.,  55., 134.,\n",
       "         42., 111.,  98., 164.,  48.,  96.,  90., 162., 150., 279.,  92.,\n",
       "         83., 128., 102., 302., 198.,  95.,  53., 134., 144., 232.,  81.,\n",
       "        104.,  59., 246., 297., 258., 229., 275., 281., 179., 200., 200.,\n",
       "        173., 180.,  84., 121., 161.,  99., 109., 115., 268., 274., 158.,\n",
       "        107.,  83., 103., 272.,  85., 280., 336., 281., 118., 317., 235.,\n",
       "         60., 174., 259., 178., 128.,  96., 126., 288.,  88., 292.,  71.,\n",
       "        197., 186.,  25.,  84.,  96., 195.,  53., 217., 172., 131., 214.,\n",
       "         59.,  70., 220., 268., 152.,  47.,  74., 295., 101., 151., 127.,\n",
       "        237., 225.,  81., 151., 107.,  64., 138., 185., 265., 101., 137.,\n",
       "        143., 141.,  79., 292., 178.,  91., 116.,  86., 122.,  72., 129.,\n",
       "        142.,  90., 158.,  39., 196., 222., 277.,  99., 196., 202., 155.,\n",
       "         77., 191.,  70.,  73.,  49.,  65., 263., 248., 296., 214., 185.,\n",
       "         78.,  93., 252., 150.,  77., 208.,  77., 108., 160.,  53., 220.,\n",
       "        154., 259.,  90., 246., 124.,  67.,  72., 257., 262., 275., 177.,\n",
       "         71.,  47., 187., 125.,  78.,  51., 258., 215., 303., 243.,  91.,\n",
       "        150., 310., 153., 346.,  63.,  89.,  50.,  39., 103., 308., 116.,\n",
       "        145.,  74.,  45., 115., 264.,  87., 202., 127., 182., 241.,  66.,\n",
       "         94., 283.,  64., 102., 200., 265.,  94., 230., 181., 156., 233.,\n",
       "         60., 219.,  80.,  68., 332., 248.,  84., 200.,  55.,  85.,  89.,\n",
       "         31., 129.,  83., 275.,  65., 198., 236., 253., 124.,  44., 172.,\n",
       "        114., 142., 109., 180., 144., 163., 147.,  97., 220., 190., 109.,\n",
       "        191., 122., 230., 242., 248., 249., 192., 131., 237.,  78., 135.,\n",
       "        244., 199., 270., 164.,  72.,  96., 306.,  91., 214.,  95., 216.,\n",
       "        263., 178., 113., 200., 139., 139.,  88., 148.,  88., 243.,  71.,\n",
       "         77., 109., 272.,  60.,  54., 221.,  90., 311., 281., 182., 321.,\n",
       "         58., 262., 206., 233., 242., 123., 167.,  63., 197.,  71., 168.,\n",
       "        140., 217., 121., 235., 245.,  40.,  52., 104., 132.,  88.,  69.,\n",
       "        219.,  72., 201., 110.,  51., 277.,  63., 118.,  69., 273., 258.,\n",
       "         43., 198., 242., 232., 175.,  93., 168., 275., 293., 281.,  72.,\n",
       "        140., 189., 181., 209., 136., 261., 113., 131., 174., 257.,  55.,\n",
       "         84.,  42., 146., 212.]), array([233.,  91., 111., 152., 120.,  67., 310.,  94., 183.,  66., 173.,\n",
       "         72.,  49.,  64.,  48., 178., 104., 132., 220.,  57.]))"
      ]
     },
     "execution_count": 59,
     "metadata": {},
     "output_type": "execute_result"
    }
   ],
   "source": [
    "dia_x_test, dia_x_train , dia_y_train , dia_y_test"
   ]
  },
  {
   "cell_type": "code",
   "execution_count": 64,
   "metadata": {},
   "outputs": [
    {
     "data": {
      "text/plain": [
       "LinearRegression(copy_X=0, fit_intercept=True, n_jobs=1, normalize=False)"
      ]
     },
     "execution_count": 64,
     "metadata": {},
     "output_type": "execute_result"
    }
   ],
   "source": [
    "regr = linear_model.LinearRegression(copy_X=0)\n",
    "regr.fit(dia_x_train , dia_y_train)\n",
    "regr"
   ]
  },
  {
   "cell_type": "code",
   "execution_count": 65,
   "metadata": {},
   "outputs": [
    {
     "data": {
      "text/plain": [
       "(array([938.23786125]), 153.36255924170615)"
      ]
     },
     "execution_count": 65,
     "metadata": {},
     "output_type": "execute_result"
    }
   ],
   "source": [
    "regr.coef_ , regr.intercept_"
   ]
  },
  {
   "cell_type": "code",
   "execution_count": 67,
   "metadata": {},
   "outputs": [
    {
     "data": {
      "text/plain": [
       "2563.671641864765"
      ]
     },
     "execution_count": 67,
     "metadata": {},
     "output_type": "execute_result"
    }
   ],
   "source": [
    "np.mean((regr.predict(dia_x_test) - dia_y_test)**2)"
   ]
  },
  {
   "cell_type": "code",
   "execution_count": 68,
   "metadata": {},
   "outputs": [
    {
     "data": {
      "text/plain": [
       "0.4693465664840814"
      ]
     },
     "execution_count": 68,
     "metadata": {},
     "output_type": "execute_result"
    }
   ],
   "source": [
    "regr.score(dia_x_test , dia_y_test)"
   ]
  },
  {
   "cell_type": "code",
   "execution_count": 69,
   "metadata": {},
   "outputs": [
    {
     "data": {
      "text/plain": [
       "[<matplotlib.lines.Line2D at 0x1af598625c0>]"
      ]
     },
     "execution_count": 69,
     "metadata": {},
     "output_type": "execute_result"
    },
    {
     "data": {
      "image/png": "[encoded data removed]",
      "text/plain": [
       "<Figure size 432x288 with 1 Axes>"
      ]
     },
     "metadata": {},
     "output_type": "display_data"
    }
   ],
   "source": [
    "plt.scatter(dia_x_test , dia_y_test , color = 'black')\n",
    "plt.plot(dia_x_test , regr.predict(dia_x_test) , color='blue')"
   ]
  },
  {
   "cell_type": "markdown",
   "metadata": {},
   "source": [
    "# KNN\n"
   ]
  },
  {
   "cell_type": "code",
   "execution_count": null,
   "metadata": {},
   "outputs": [],
   "source": []
  },
  {
   "cell_type": "code",
   "execution_count": 71,
   "metadata": {},
   "outputs": [],
   "source": [
    "import sklearn as sk\n"
   ]
  },
  {
   "cell_type": "code",
   "execution_count": 72,
   "metadata": {},
   "outputs": [],
   "source": [
    "from matplotlib.colors import ListedColormap\n",
    "from sklearn import neighbors, datasets"
   ]
  },
  {
   "cell_type": "code",
   "execution_count": 73,
   "metadata": {},
   "outputs": [],
   "source": [
    "n_neighbors = 15\n",
    "iris = datasets.load_iris()\n",
    "X = iris.data[:,:2]\n",
    "y = iris.target\n",
    "h = .02"
   ]
  },
  {
   "cell_type": "code",
   "execution_count": 77,
   "metadata": {},
   "outputs": [
    {
     "ename": "AttributeError",
     "evalue": "'numpy.ndarray' object has no attribute 'add'",
     "output_type": "error",
     "traceback": [
      "\u001b[1;31m---------------------------------------------------------------------------\u001b[0m",
      "\u001b[1;31mAttributeError\u001b[0m                            Traceback (most recent call last)",
      "\u001b[1;32m<ipython-input-77-c3c20aede818>\u001b[0m in \u001b[0;36m<module>\u001b[1;34m()\u001b[0m\n\u001b[1;32m----> 1\u001b[1;33m \u001b[0my\u001b[0m\u001b[1;33m.\u001b[0m\u001b[0madd\u001b[0m\u001b[1;33m(\u001b[0m\u001b[1;36m3\u001b[0m\u001b[1;33m)\u001b[0m\u001b[1;33m\u001b[0m\u001b[0m\n\u001b[0m",
      "\u001b[1;31mAttributeError\u001b[0m: 'numpy.ndarray' object has no attribute 'add'"
     ]
    }
   ],
   "source": [
    "y.ap(3)"
   ]
  },
  {
   "cell_type": "code",
   "execution_count": 92,
   "metadata": {},
   "outputs": [
    {
     "data": {
      "text/plain": [
       "<matplotlib.collections.PathCollection at 0x1af59b5aeb8>"
      ]
     },
     "execution_count": 92,
     "metadata": {},
     "output_type": "execute_result"
    },
    {
     "data": {
      "image/png": "[encoded data removed]",
      "text/plain": [
       "<Figure size 432x288 with 1 Axes>"
      ]
     },
     "metadata": {},
     "output_type": "display_data"
    }
   ],
   "source": [
    "cmap_bold = ListedColormap(['#FF0000' , '#00FF00' , '#0000FF'])\n",
    "plt.scatter(X[:,0] , X[:,1] , c=y , cmap=cmap_bold)"
   ]
  },
  {
   "cell_type": "code",
   "execution_count": 78,
   "metadata": {},
   "outputs": [
    {
     "data": {
      "text/plain": [
       "KNeighborsClassifier(algorithm='auto', leaf_size=30, metric='minkowski',\n",
       "           metric_params=None, n_jobs=1, n_neighbors=15, p=2,\n",
       "           weights='uniform')"
      ]
     },
     "execution_count": 78,
     "metadata": {},
     "output_type": "execute_result"
    }
   ],
   "source": [
    "clf = neighbors.KNeighborsClassifier(n_neighbors , weights='uniform')\n",
    "clf.fit(X,y)\n",
    "clf"
   ]
  },
  {
   "cell_type": "code",
   "execution_count": 97,
   "metadata": {},
   "outputs": [],
   "source": [
    "new_p = np.array([3.7123 , 4.5123] ).reshape(1, -1)\n",
    "iris_class = clf.predict(new_p)"
   ]
  },
  {
   "cell_type": "code",
   "execution_count": 94,
   "metadata": {},
   "outputs": [
    {
     "data": {
      "text/plain": [
       "array([0])"
      ]
     },
     "execution_count": 94,
     "metadata": {},
     "output_type": "execute_result"
    }
   ],
   "source": [
    "iris_class\n"
   ]
  },
  {
   "cell_type": "code",
   "execution_count": 95,
   "metadata": {},
   "outputs": [
    {
     "data": {
      "text/plain": [
       "array([3.7123, 4.5123])"
      ]
     },
     "execution_count": 95,
     "metadata": {},
     "output_type": "execute_result"
    }
   ],
   "source": [
    "np.array([3.7123 , 4.5123])"
   ]
  },
  {
   "cell_type": "markdown",
   "metadata": {},
   "source": [
    "# Decision Tree\n"
   ]
  },
  {
   "cell_type": "code",
   "execution_count": 111,
   "metadata": {},
   "outputs": [],
   "source": [
    "from random import *\n",
    "import numpy as np\n",
    "from sklearn import linear_model\n",
    "from sklearn import tree\n"
   ]
  },
  {
   "cell_type": "code",
   "execution_count": 113,
   "metadata": {},
   "outputs": [],
   "source": [
    "length = 10\n",
    "x = []\n",
    "y = []\n",
    "for i in range(length):\n",
    "    x.append(i)\n",
    "    y.append(round(random()*10,2))"
   ]
  },
  {
   "cell_type": "code",
   "execution_count": 114,
   "metadata": {},
   "outputs": [],
   "source": [
    "xy_data = []\n",
    "for i in range(length):\n",
    "    xy_data.append([x[i] , y[i]])\n",
    "    "
   ]
  },
  {
   "cell_type": "code",
   "execution_count": 115,
   "metadata": {},
   "outputs": [
    {
     "data": {
      "text/plain": [
       "[[0, 6.01],\n",
       " [1, 1.13],\n",
       " [2, 5.49],\n",
       " [3, 9.74],\n",
       " [4, 7.14],\n",
       " [5, 1.81],\n",
       " [6, 8.72],\n",
       " [7, 4.83],\n",
       " [8, 5.68],\n",
       " [9, 9.2]]"
      ]
     },
     "execution_count": 115,
     "metadata": {},
     "output_type": "execute_result"
    }
   ],
   "source": [
    "xy_data"
   ]
  },
  {
   "cell_type": "code",
   "execution_count": 116,
   "metadata": {},
   "outputs": [],
   "source": [
    "z_data = [[1],[1],[1],[1],[1],[2],[2],[2],[2],[2]]"
   ]
  },
  {
   "cell_type": "code",
   "execution_count": 117,
   "metadata": {},
   "outputs": [
    {
     "data": {
      "text/plain": [
       "DecisionTreeClassifier(class_weight=None, criterion='gini', max_depth=None,\n",
       "            max_features=None, max_leaf_nodes=None,\n",
       "            min_impurity_decrease=0.0, min_impurity_split=None,\n",
       "            min_samples_leaf=1, min_samples_split=2,\n",
       "            min_weight_fraction_leaf=0.0, presort=False, random_state=None,\n",
       "            splitter='best')"
      ]
     },
     "execution_count": 117,
     "metadata": {},
     "output_type": "execute_result"
    }
   ],
   "source": [
    "clf = tree.DecisionTreeClassifier()\n",
    "clf.fit(xy_data , z_data)"
   ]
  },
  {
   "cell_type": "code",
   "execution_count": 118,
   "metadata": {},
   "outputs": [
    {
     "data": {
      "text/plain": [
       "array([1])"
      ]
     },
     "execution_count": 118,
     "metadata": {},
     "output_type": "execute_result"
    }
   ],
   "source": [
    "clf.predict([[3,3.01]])"
   ]
  },
  {
   "cell_type": "code",
   "execution_count": 120,
   "metadata": {},
   "outputs": [
    {
     "data": {
      "text/plain": [
       "array([2])"
      ]
     },
     "execution_count": 120,
     "metadata": {},
     "output_type": "execute_result"
    }
   ],
   "source": [
    "clf.predict(np.array([[7,8.01]]))"
   ]
  },
  {
   "cell_type": "code",
   "execution_count": 1,
   "metadata": {},
   "outputs": [
    {
     "ename": "ModuleNotFoundError",
     "evalue": "No module named 'pydotplus'",
     "output_type": "error",
     "traceback": [
      "\u001b[1;31m---------------------------------------------------------------------------\u001b[0m",
      "\u001b[1;31mModuleNotFoundError\u001b[0m                       Traceback (most recent call last)",
      "\u001b[1;32m<ipython-input-1-9847b5a8383a>\u001b[0m in \u001b[0;36m<module>\u001b[1;34m()\u001b[0m\n\u001b[0;32m      2\u001b[0m \u001b[1;32mfrom\u001b[0m \u001b[0msklearn\u001b[0m \u001b[1;32mimport\u001b[0m \u001b[0mtree\u001b[0m\u001b[1;33m\u001b[0m\u001b[0m\n\u001b[0;32m      3\u001b[0m \u001b[1;32mfrom\u001b[0m \u001b[0msklearn\u001b[0m\u001b[1;33m.\u001b[0m\u001b[0mexternals\u001b[0m\u001b[1;33m.\u001b[0m\u001b[0msix\u001b[0m \u001b[1;32mimport\u001b[0m \u001b[0mStringIO\u001b[0m\u001b[1;33m\u001b[0m\u001b[0m\n\u001b[1;32m----> 4\u001b[1;33m \u001b[1;32mimport\u001b[0m \u001b[0mpydotplus\u001b[0m\u001b[1;33m\u001b[0m\u001b[0m\n\u001b[0m",
      "\u001b[1;31mModuleNotFoundError\u001b[0m: No module named 'pydotplus'"
     ]
    }
   ],
   "source": [
    "from sklearn.datasets import load_iris\n",
    "from sklearn import tree\n",
    "from sklearn.externals.six import StringIO\n",
    "import pydotplus\n"
   ]
  },
  {
   "cell_type": "code",
   "execution_count": null,
   "metadata": {},
   "outputs": [],
   "source": [
    "iris = load_iris()\n",
    "clf = tree.DecisionTreeClassifier()\n",
    "clf = clf.fit(iris.data , iris.target)"
   ]
  },
  {
   "cell_type": "code",
   "execution_count": null,
   "metadata": {},
   "outputs": [],
   "source": [
    "clf"
   ]
  },
  {
   "cell_type": "code",
   "execution_count": 1,
   "metadata": {},
   "outputs": [],
   "source": [
    "import matplotlib.pyplot as plt\n",
    "from sklearn.datasets import fetch_mldata\n",
    "from sklearn.neural_network import MLPClassifier\n",
    "\n"
   ]
  },
  {
   "cell_type": "code",
   "execution_count": 2,
   "metadata": {},
   "outputs": [],
   "source": [
    "mnist = fetch_mldata('MNIST original')"
   ]
  },
  {
   "cell_type": "code",
   "execution_count": 3,
   "metadata": {},
   "outputs": [
    {
     "name": "stdout",
     "output_type": "stream",
     "text": [
      "C:\\Users\\DS\\scikit_learn_data\n"
     ]
    }
   ],
   "source": [
    "from sklearn.datasets.base import get_data_home \n",
    "print (get_data_home())"
   ]
  },
  {
   "cell_type": "code",
   "execution_count": 3,
   "metadata": {},
   "outputs": [
    {
     "data": {
      "text/plain": [
       "{'DESCR': 'mldata.org dataset: mnist-original',\n",
       " 'COL_NAMES': ['label', 'data'],\n",
       " 'target': array([0., 0., 0., ..., 9., 9., 9.]),\n",
       " 'data': array([[0, 0, 0, ..., 0, 0, 0],\n",
       "        [0, 0, 0, ..., 0, 0, 0],\n",
       "        [0, 0, 0, ..., 0, 0, 0],\n",
       "        ...,\n",
       "        [0, 0, 0, ..., 0, 0, 0],\n",
       "        [0, 0, 0, ..., 0, 0, 0],\n",
       "        [0, 0, 0, ..., 0, 0, 0]], dtype=uint8)}"
      ]
     },
     "execution_count": 3,
     "metadata": {},
     "output_type": "execute_result"
    }
   ],
   "source": [
    "mnist"
   ]
  },
  {
   "cell_type": "code",
   "execution_count": 20,
   "metadata": {},
   "outputs": [
    {
     "name": "stdout",
     "output_type": "stream",
     "text": [
      "Iteration 1, loss = 0.32212731\n",
      "Iteration 2, loss = 0.15738787\n",
      "Iteration 3, loss = 0.11647274\n",
      "Iteration 4, loss = 0.09631113\n",
      "Iteration 5, loss = 0.08074513\n",
      "Iteration 6, loss = 0.07163224\n",
      "Iteration 7, loss = 0.06351392\n",
      "Iteration 8, loss = 0.05694146\n",
      "Iteration 9, loss = 0.05213487\n",
      "Iteration 10, loss = 0.04708320\n",
      "Iteration 11, loss = 0.04188246\n",
      "Iteration 12, loss = 0.03864420\n",
      "Iteration 13, loss = 0.03513415\n",
      "Iteration 14, loss = 0.03222310\n",
      "Iteration 15, loss = 0.02956183\n",
      "Iteration 16, loss = 0.02620840\n",
      "Iteration 17, loss = 0.02424569\n",
      "Iteration 18, loss = 0.02129204\n",
      "Iteration 19, loss = 0.02030622\n",
      "Iteration 20, loss = 0.01848272\n",
      "Iteration 21, loss = 0.01671861\n",
      "Iteration 22, loss = 0.01520329\n",
      "Iteration 23, loss = 0.01411466\n",
      "Iteration 24, loss = 0.01292346\n",
      "Iteration 25, loss = 0.01138195\n",
      "Iteration 26, loss = 0.00996422\n",
      "Iteration 27, loss = 0.00846271\n",
      "Iteration 28, loss = 0.00736762\n",
      "Iteration 29, loss = 0.00692193\n",
      "Iteration 30, loss = 0.00544863\n",
      "Iteration 31, loss = 0.00542354\n",
      "Iteration 32, loss = 0.00434346\n",
      "Iteration 33, loss = 0.00406843\n",
      "Iteration 34, loss = 0.00347360\n",
      "Iteration 35, loss = 0.00335075\n",
      "Iteration 36, loss = 0.00274222\n",
      "Iteration 37, loss = 0.00259019\n",
      "Iteration 38, loss = 0.00248061\n",
      "Iteration 39, loss = 0.00222207\n",
      "Iteration 40, loss = 0.00210958\n",
      "Iteration 41, loss = 0.00203355\n",
      "Iteration 42, loss = 0.00193593\n",
      "Iteration 43, loss = 0.00183349\n",
      "Iteration 44, loss = 0.00180691\n",
      "Iteration 45, loss = 0.00170914\n",
      "Iteration 46, loss = 0.00165378\n",
      "Training loss did not improve more than tol=0.000100 for two consecutive epochs. Stopping.\n"
     ]
    },
    {
     "data": {
      "text/plain": [
       "MLPClassifier(activation='relu', alpha=0.0001, batch_size='auto', beta_1=0.9,\n",
       "       beta_2=0.999, early_stopping=False, epsilon=1e-08,\n",
       "       hidden_layer_sizes=(50,), learning_rate='constant',\n",
       "       learning_rate_init=0.1, max_iter=100, momentum=0.9,\n",
       "       nesterovs_momentum=True, power_t=0.5, random_state=1, shuffle=True,\n",
       "       solver='sgd', tol=0.0001, validation_fraction=0.1, verbose=10,\n",
       "       warm_start=False)"
      ]
     },
     "execution_count": 20,
     "metadata": {},
     "output_type": "execute_result"
    }
   ],
   "source": [
    "X , y = mnist.data / 255 , mnist.target\n",
    "X_train , X_test = X[:60000] , X[60000:]\n",
    "y_train , y_test = y[:60000] , y[60000:]\n",
    "\n",
    "mlp = MLPClassifier(hidden_layer_sizes=(50,) , max_iter=100,\n",
    "                    alpha=1e-4,solver='sgd',verbose=10,tol=1e-4,random_state=1,\n",
    "                    learning_rate_init=.1)\n",
    "mlp.fit(X_train,y_train)"
   ]
  },
  {
   "cell_type": "code",
   "execution_count": 21,
   "metadata": {
    "scrolled": true
   },
   "outputs": [
    {
     "name": "stdout",
     "output_type": "stream",
     "text": [
      "1.0\n",
      "0.9737\n"
     ]
    }
   ],
   "source": [
    "print(mlp.score(X_train , y_train))\n",
    "print(mlp.score(X_test , y_test))"
   ]
  },
  {
   "cell_type": "code",
   "execution_count": null,
   "metadata": {},
   "outputs": [],
   "source": []
  }
 ],
 "metadata": {
  "kernelspec": {
   "display_name": "Python 3",
   "language": "python",
   "name": "python3"
  },
  "language_info": {
   "codemirror_mode": {
    "name": "ipython",
    "version": 3
   },
   "file_extension": ".py",
   "mimetype": "text/x-python",
   "name": "python",
   "nbconvert_exporter": "python",
   "pygments_lexer": "ipython3",
   "version": "3.6.5"
  }
 },
 "nbformat": 4,
 "nbformat_minor": 2
}
