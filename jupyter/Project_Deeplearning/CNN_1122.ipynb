{
 "cells": [
  {
   "cell_type": "code",
   "execution_count": 7,
   "metadata": {},
   "outputs": [],
   "source": [
    "import tensorflow as tf\n",
    "# from tensorflow.contrib import c\n",
    "import numpy as np\n",
    "import pandas as pd\n",
    "import matplotlib.pyplot as plt"
   ]
  },
  {
   "cell_type": "code",
   "execution_count": 2,
   "metadata": {},
   "outputs": [],
   "source": [
    "X_train_path = 'satellite/X_train.csv'\n",
    "Y_train_path = 'satellite/y_train.csv'\n",
    "\n",
    "X_train_df = pd.read_csv(X_train_path , header=None)\n",
    "Y_train_df = pd.read_csv(Y_train_path , header=None)"
   ]
  },
  {
   "cell_type": "code",
   "execution_count": 3,
   "metadata": {},
   "outputs": [
    {
     "data": {
      "text/plain": [
       "((2000, 3136), (2000, 4))"
      ]
     },
     "execution_count": 3,
     "metadata": {},
     "output_type": "execute_result"
    }
   ],
   "source": [
    "X_train = X_train_df.values / 255\n",
    "Y_train = Y_train_df.values\n",
    "X_train.shape , Y_train.shape"
   ]
  },
  {
   "cell_type": "code",
   "execution_count": 4,
   "metadata": {},
   "outputs": [
    {
     "name": "stdout",
     "output_type": "stream",
     "text": [
      "(2000, 28, 28, 4)\n"
     ]
    }
   ],
   "source": [
    "n_images = X_train.shape[0]\n",
    "shape = [n_images , 28,28,4]\n",
    "X_train_img = X_train.reshape(shape)\n",
    "print(X_train_img.shape)"
   ]
  },
  {
   "cell_type": "code",
   "execution_count": 13,
   "metadata": {},
   "outputs": [
    {
     "name": "stdout",
     "output_type": "stream",
     "text": [
      "Barren Land:12.5%\n",
      "Trees:12.5%\n",
      "Grassland:25.0%\n",
      "other:50.0%\n"
     ]
    }
   ],
   "source": [
    "ratios = np.sum(Y_train , axis=0)/Y_train.shape[0]\n",
    "labels = ['Barren Land' ,'Trees' , 'Grassland' , 'other']\n",
    "\n",
    "for l,v in zip(labels , ratios*100):\n",
    "    print(\"{}:{:.1f}%\".format(l,v))"
   ]
  },
  {
   "cell_type": "code",
   "execution_count": 12,
   "metadata": {},
   "outputs": [],
   "source": [
    "def to_class_str(labels , idx):\n",
    "    if labels[idx , 0] == 1:\n",
    "        return 'Barren Land'\n",
    "    elif labels[idx , 1] == 1:\n",
    "        return 'Tree'\n",
    "    elif labels[idx , 2] == 1:\n",
    "        return 'Grass'\n",
    "    else :\n",
    "        return 'other'"
   ]
  },
  {
   "cell_type": "code",
   "execution_count": 15,
   "metadata": {},
   "outputs": [
    {
     "data": {
      "image/png": "[encoded data removed]",
      "text/plain": [
       "<Figure size 432x288 with 1 Axes>"
      ]
     },
     "metadata": {},
     "output_type": "display_data"
    },
    {
     "name": "stdout",
     "output_type": "stream",
     "text": [
      "Class : other\n"
     ]
    }
   ],
   "source": [
    "ix = np.random.randint(0 , n_images)\n",
    "plt.imshow(np.squeeze(X_train_img[ix , :,:,0:3]))\n",
    "plt.show()\n",
    "print('Class : ' + to_class_str(Y_train , ix))"
   ]
  },
  {
   "cell_type": "code",
   "execution_count": null,
   "metadata": {},
   "outputs": [],
   "source": []
  }
 ],
 "metadata": {
  "kernelspec": {
   "display_name": "Python 3",
   "language": "python",
   "name": "python3"
  },
  "language_info": {
   "codemirror_mode": {
    "name": "ipython",
    "version": 3
   },
   "file_extension": ".py",
   "mimetype": "text/x-python",
   "name": "python",
   "nbconvert_exporter": "python",
   "pygments_lexer": "ipython3",
   "version": "3.6.5"
  }
 },
 "nbformat": 4,
 "nbformat_minor": 2
}
