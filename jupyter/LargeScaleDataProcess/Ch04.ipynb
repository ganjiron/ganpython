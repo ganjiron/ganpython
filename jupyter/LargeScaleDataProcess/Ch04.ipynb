{
 "cells": [
  {
   "cell_type": "code",
   "execution_count": 1,
   "metadata": {},
   "outputs": [],
   "source": [
    "from pyspark.sql import SparkSession\n",
    "spark = SparkSession.builder.appName(\"Ch04\").getOrCreate()\n",
    "spark.conf.set(\"spark.driver.memory\", \"4g\")\n",
    "sc = spark.sparkContext"
   ]
  },
  {
   "cell_type": "code",
   "execution_count": 2,
   "metadata": {},
   "outputs": [],
   "source": [
    "from pyspark.sql.types import StructType, StructField, IntegerType, DoubleType"
   ]
  },
  {
   "cell_type": "code",
   "execution_count": 3,
   "metadata": {},
   "outputs": [],
   "source": [
    "colNames = [\"Elevation\", \"Aspect\", \"Slope\",\n",
    "\"Horizontal_Distance_To_Hydrology\", \"Vertical_Distance_To_Hydrology\",\n",
    "\"Horizontal_Distance_To_Roadways\",\n",
    "\"Hillshade_9am\", \"Hillshade_Noon\", \"Hillshade_3pm\",\n",
    "\"Horizontal_Distance_To_Fire_Points\"]\n",
    "for i in range(4):\n",
    "    colNames += [\"Wilderness_Area_\"+str(i),]\n",
    "for i in range(40):\n",
    "    colNames += [\"Soil_Type_\"+str(i),]\n",
    "colNames += [\"Cover_Type\",]"
   ]
  },
  {
   "cell_type": "code",
   "execution_count": 4,
   "metadata": {},
   "outputs": [],
   "source": [
    "schema = StructType()\n",
    "for name in colNames:\n",
    "    if name == \"Cover_Type\":\n",
    "        schema.add(StructField(name, DoubleType(), True))\n",
    "    else:\n",
    "        schema.add(StructField(name, IntegerType(), True))"
   ]
  },
  {
   "cell_type": "code",
   "execution_count": 5,
   "metadata": {
    "scrolled": true
   },
   "outputs": [],
   "source": [
    "data = spark.read.csv(\"covtype.data\", header=False, schema=schema)"
   ]
  },
  {
   "cell_type": "code",
   "execution_count": 6,
   "metadata": {
    "scrolled": true
   },
   "outputs": [
    {
     "name": "stdout",
     "output_type": "stream",
     "text": [
      "root\n",
      " |-- Elevation: integer (nullable = true)\n",
      " |-- Aspect: integer (nullable = true)\n",
      " |-- Slope: integer (nullable = true)\n",
      " |-- Horizontal_Distance_To_Hydrology: integer (nullable = true)\n",
      " |-- Vertical_Distance_To_Hydrology: integer (nullable = true)\n",
      " |-- Horizontal_Distance_To_Roadways: integer (nullable = true)\n",
      " |-- Hillshade_9am: integer (nullable = true)\n",
      " |-- Hillshade_Noon: integer (nullable = true)\n",
      " |-- Hillshade_3pm: integer (nullable = true)\n",
      " |-- Horizontal_Distance_To_Fire_Points: integer (nullable = true)\n",
      " |-- Wilderness_Area_0: integer (nullable = true)\n",
      " |-- Wilderness_Area_1: integer (nullable = true)\n",
      " |-- Wilderness_Area_2: integer (nullable = true)\n",
      " |-- Wilderness_Area_3: integer (nullable = true)\n",
      " |-- Soil_Type_0: integer (nullable = true)\n",
      " |-- Soil_Type_1: integer (nullable = true)\n",
      " |-- Soil_Type_2: integer (nullable = true)\n",
      " |-- Soil_Type_3: integer (nullable = true)\n",
      " |-- Soil_Type_4: integer (nullable = true)\n",
      " |-- Soil_Type_5: integer (nullable = true)\n",
      " |-- Soil_Type_6: integer (nullable = true)\n",
      " |-- Soil_Type_7: integer (nullable = true)\n",
      " |-- Soil_Type_8: integer (nullable = true)\n",
      " |-- Soil_Type_9: integer (nullable = true)\n",
      " |-- Soil_Type_10: integer (nullable = true)\n",
      " |-- Soil_Type_11: integer (nullable = true)\n",
      " |-- Soil_Type_12: integer (nullable = true)\n",
      " |-- Soil_Type_13: integer (nullable = true)\n",
      " |-- Soil_Type_14: integer (nullable = true)\n",
      " |-- Soil_Type_15: integer (nullable = true)\n",
      " |-- Soil_Type_16: integer (nullable = true)\n",
      " |-- Soil_Type_17: integer (nullable = true)\n",
      " |-- Soil_Type_18: integer (nullable = true)\n",
      " |-- Soil_Type_19: integer (nullable = true)\n",
      " |-- Soil_Type_20: integer (nullable = true)\n",
      " |-- Soil_Type_21: integer (nullable = true)\n",
      " |-- Soil_Type_22: integer (nullable = true)\n",
      " |-- Soil_Type_23: integer (nullable = true)\n",
      " |-- Soil_Type_24: integer (nullable = true)\n",
      " |-- Soil_Type_25: integer (nullable = true)\n",
      " |-- Soil_Type_26: integer (nullable = true)\n",
      " |-- Soil_Type_27: integer (nullable = true)\n",
      " |-- Soil_Type_28: integer (nullable = true)\n",
      " |-- Soil_Type_29: integer (nullable = true)\n",
      " |-- Soil_Type_30: integer (nullable = true)\n",
      " |-- Soil_Type_31: integer (nullable = true)\n",
      " |-- Soil_Type_32: integer (nullable = true)\n",
      " |-- Soil_Type_33: integer (nullable = true)\n",
      " |-- Soil_Type_34: integer (nullable = true)\n",
      " |-- Soil_Type_35: integer (nullable = true)\n",
      " |-- Soil_Type_36: integer (nullable = true)\n",
      " |-- Soil_Type_37: integer (nullable = true)\n",
      " |-- Soil_Type_38: integer (nullable = true)\n",
      " |-- Soil_Type_39: integer (nullable = true)\n",
      " |-- Cover_Type: double (nullable = true)\n",
      "\n"
     ]
    }
   ],
   "source": [
    "data.printSchema()"
   ]
  },
  {
   "cell_type": "code",
   "execution_count": 7,
   "metadata": {},
   "outputs": [
    {
     "data": {
      "text/plain": [
       "[Row(Elevation=2596, Aspect=51, Slope=3, Horizontal_Distance_To_Hydrology=258, Vertical_Distance_To_Hydrology=0, Horizontal_Distance_To_Roadways=510, Hillshade_9am=221, Hillshade_Noon=232, Hillshade_3pm=148, Horizontal_Distance_To_Fire_Points=6279, Wilderness_Area_0=1, Wilderness_Area_1=0, Wilderness_Area_2=0, Wilderness_Area_3=0, Soil_Type_0=0, Soil_Type_1=0, Soil_Type_2=0, Soil_Type_3=0, Soil_Type_4=0, Soil_Type_5=0, Soil_Type_6=0, Soil_Type_7=0, Soil_Type_8=0, Soil_Type_9=0, Soil_Type_10=0, Soil_Type_11=0, Soil_Type_12=0, Soil_Type_13=0, Soil_Type_14=0, Soil_Type_15=0, Soil_Type_16=0, Soil_Type_17=0, Soil_Type_18=0, Soil_Type_19=0, Soil_Type_20=0, Soil_Type_21=0, Soil_Type_22=0, Soil_Type_23=0, Soil_Type_24=0, Soil_Type_25=0, Soil_Type_26=0, Soil_Type_27=0, Soil_Type_28=1, Soil_Type_29=0, Soil_Type_30=0, Soil_Type_31=0, Soil_Type_32=0, Soil_Type_33=0, Soil_Type_34=0, Soil_Type_35=0, Soil_Type_36=0, Soil_Type_37=0, Soil_Type_38=0, Soil_Type_39=0, Cover_Type=5.0)]"
      ]
     },
     "execution_count": 7,
     "metadata": {},
     "output_type": "execute_result"
    }
   ],
   "source": [
    "data.take(1)"
   ]
  },
  {
   "cell_type": "code",
   "execution_count": 8,
   "metadata": {},
   "outputs": [],
   "source": [
    "from pyspark.ml.linalg import Vectors\n",
    "from pyspark.ml.feature import VectorAssembler"
   ]
  },
  {
   "cell_type": "code",
   "execution_count": 9,
   "metadata": {},
   "outputs": [],
   "source": [
    "(trainData, testData) = data.randomSplit([0.9, 0.1])"
   ]
  },
  {
   "cell_type": "code",
   "execution_count": 10,
   "metadata": {},
   "outputs": [],
   "source": [
    "inputCols = trainData.drop('Cover_Type').columns"
   ]
  },
  {
   "cell_type": "code",
   "execution_count": 11,
   "metadata": {
    "scrolled": true
   },
   "outputs": [
    {
     "name": "stdout",
     "output_type": "stream",
     "text": [
      "+-----------------------------------------------------------------------------------------------------+\n",
      "|featureVector                                                                                        |\n",
      "+-----------------------------------------------------------------------------------------------------+\n",
      "|(54,[0,1,2,3,4,5,6,7,8,9,13,15],[1863.0,37.0,17.0,120.0,18.0,90.0,217.0,202.0,115.0,769.0,1.0,1.0])  |\n",
      "|(54,[0,1,2,5,6,7,8,9,13,18],[1874.0,18.0,14.0,90.0,208.0,209.0,135.0,793.0,1.0,1.0])                 |\n",
      "|(54,[0,1,2,3,4,5,6,7,8,9,13,18],[1879.0,28.0,19.0,30.0,12.0,95.0,209.0,196.0,117.0,778.0,1.0,1.0])   |\n",
      "|(54,[0,1,2,3,4,5,6,7,8,9,13,18],[1889.0,353.0,30.0,95.0,39.0,67.0,153.0,172.0,146.0,600.0,1.0,1.0])  |\n",
      "|(54,[0,1,2,3,4,5,6,7,8,9,13,18],[1896.0,337.0,12.0,30.0,6.0,175.0,195.0,224.0,168.0,732.0,1.0,1.0])  |\n",
      "|(54,[0,1,2,3,4,5,6,7,8,9,13,15],[1898.0,34.0,23.0,175.0,56.0,134.0,210.0,184.0,99.0,765.0,1.0,1.0])  |\n",
      "|(54,[0,1,2,3,4,5,6,7,8,9,13,18],[1899.0,355.0,22.0,153.0,43.0,124.0,178.0,195.0,151.0,819.0,1.0,1.0])|\n",
      "|(54,[0,1,2,3,4,5,6,7,8,9,13,14],[1903.0,5.0,13.0,42.0,4.0,201.0,203.0,214.0,148.0,708.0,1.0,1.0])    |\n",
      "|(54,[0,1,2,3,4,5,6,7,8,9,13,16],[1903.0,67.0,16.0,108.0,36.0,120.0,234.0,207.0,100.0,969.0,1.0,1.0]) |\n",
      "|(54,[0,1,2,3,4,5,6,7,8,9,13,14],[1904.0,51.0,26.0,67.0,30.0,162.0,222.0,175.0,72.0,711.0,1.0,1.0])   |\n",
      "|(54,[0,1,2,3,4,5,6,7,8,9,13,18],[1905.0,19.0,27.0,134.0,58.0,120.0,188.0,171.0,108.0,636.0,1.0,1.0]) |\n",
      "|(54,[0,1,2,3,4,5,6,7,8,9,13,14],[1905.0,33.0,27.0,90.0,46.0,150.0,204.0,171.0,89.0,725.0,1.0,1.0])   |\n",
      "|(54,[0,1,2,3,4,5,6,7,8,9,13,16],[1905.0,77.0,21.0,90.0,38.0,120.0,241.0,196.0,75.0,1025.0,1.0,1.0])  |\n",
      "|(54,[0,1,2,3,4,5,6,7,8,9,13,15],[1906.0,356.0,20.0,150.0,55.0,120.0,184.0,201.0,151.0,726.0,1.0,1.0])|\n",
      "|(54,[0,1,2,3,4,5,6,7,8,9,13,18],[1908.0,323.0,32.0,150.0,52.0,120.0,125.0,190.0,196.0,765.0,1.0,1.0])|\n",
      "|(54,[0,1,2,3,4,5,6,7,8,9,13,15],[1916.0,24.0,25.0,212.0,74.0,175.0,197.0,177.0,105.0,789.0,1.0,1.0]) |\n",
      "|(54,[0,1,2,3,4,5,6,7,8,9,13,18],[1916.0,320.0,24.0,190.0,60.0,162.0,151.0,210.0,195.0,832.0,1.0,1.0])|\n",
      "|(54,[0,1,2,3,4,5,6,7,8,9,13,23],[1918.0,321.0,28.0,42.0,17.0,85.0,139.0,201.0,196.0,402.0,1.0,1.0])  |\n",
      "|(54,[0,1,2,3,4,5,6,7,8,9,13,14],[1919.0,30.0,22.0,67.0,9.0,256.0,208.0,188.0,107.0,661.0,1.0,1.0])   |\n",
      "|(54,[0,1,2,3,4,5,6,7,8,9,13,18],[1919.0,44.0,26.0,162.0,68.0,150.0,216.0,173.0,77.0,706.0,1.0,1.0])  |\n",
      "+-----------------------------------------------------------------------------------------------------+\n",
      "only showing top 20 rows\n",
      "\n"
     ]
    }
   ],
   "source": [
    "assembler = VectorAssembler(\n",
    "    inputCols=inputCols,\n",
    "    outputCol=\"featureVector\")\n",
    "assembledTrainData = assembler.transform(trainData)\n",
    "assembledTrainData.select('featureVector').show(truncate=False)"
   ]
  },
  {
   "cell_type": "code",
   "execution_count": 12,
   "metadata": {
    "scrolled": true
   },
   "outputs": [
    {
     "name": "stdout",
     "output_type": "stream",
     "text": [
      "DecisionTreeClassificationModel (uid=DecisionTreeClassifier_460ab9d08c7d85e9da8c) of depth 5 with 63 nodes\n",
      "  If (feature 0 <= 3038.5)\n",
      "   If (feature 0 <= 2480.5)\n",
      "    If (feature 3 <= 15.0)\n",
      "     If (feature 13 <= 0.5)\n",
      "      If (feature 17 <= 0.5)\n",
      "       Predict: 6.0\n",
      "      Else (feature 17 > 0.5)\n",
      "       Predict: 6.0\n",
      "     Else (feature 13 > 0.5)\n",
      "      If (feature 23 <= 0.5)\n",
      "       Predict: 4.0\n",
      "      Else (feature 23 > 0.5)\n",
      "       Predict: 3.0\n",
      "    Else (feature 3 > 15.0)\n",
      "     If (feature 16 <= 0.5)\n",
      "      If (feature 9 <= 682.0)\n",
      "       Predict: 3.0\n",
      "      Else (feature 9 > 682.0)\n",
      "       Predict: 3.0\n",
      "     Else (feature 16 > 0.5)\n",
      "      If (feature 9 <= 1272.0)\n",
      "       Predict: 3.0\n",
      "      Else (feature 9 > 1272.0)\n",
      "       Predict: 4.0\n",
      "   Else (feature 0 > 2480.5)\n",
      "    If (feature 17 <= 0.5)\n",
      "     If (feature 15 <= 0.5)\n",
      "      If (feature 0 <= 2944.5)\n",
      "       Predict: 2.0\n",
      "      Else (feature 0 > 2944.5)\n",
      "       Predict: 2.0\n",
      "     Else (feature 15 > 0.5)\n",
      "      If (feature 1 <= 73.5)\n",
      "       Predict: 6.0\n",
      "      Else (feature 1 > 73.5)\n",
      "       Predict: 3.0\n",
      "    Else (feature 17 > 0.5)\n",
      "     If (feature 0 <= 2691.5)\n",
      "      If (feature 0 <= 2632.5)\n",
      "       Predict: 3.0\n",
      "      Else (feature 0 > 2632.5)\n",
      "       Predict: 3.0\n",
      "     Else (feature 0 > 2691.5)\n",
      "      If (feature 5 <= 1189.5)\n",
      "       Predict: 5.0\n",
      "      Else (feature 5 > 1189.5)\n",
      "       Predict: 2.0\n",
      "  Else (feature 0 > 3038.5)\n",
      "   If (feature 0 <= 3317.5)\n",
      "    If (feature 7 <= 239.5)\n",
      "     If (feature 0 <= 3123.5)\n",
      "      If (feature 3 <= 191.0)\n",
      "       Predict: 1.0\n",
      "      Else (feature 3 > 191.0)\n",
      "       Predict: 1.0\n",
      "     Else (feature 0 > 3123.5)\n",
      "      If (feature 5 <= 995.5)\n",
      "       Predict: 1.0\n",
      "      Else (feature 5 > 995.5)\n",
      "       Predict: 1.0\n",
      "    Else (feature 7 > 239.5)\n",
      "     If (feature 3 <= 337.0)\n",
      "      If (feature 0 <= 3184.5)\n",
      "       Predict: 1.0\n",
      "      Else (feature 0 > 3184.5)\n",
      "       Predict: 1.0\n",
      "     Else (feature 3 > 337.0)\n",
      "      If (feature 0 <= 3204.5)\n",
      "       Predict: 2.0\n",
      "      Else (feature 0 > 3204.5)\n",
      "       Predict: 1.0\n",
      "   Else (feature 0 > 3317.5)\n",
      "    If (feature 12 <= 0.5)\n",
      "     If (feature 4 <= 33.5)\n",
      "      If (feature 9 <= 2698.5)\n",
      "       Predict: 7.0\n",
      "      Else (feature 9 > 2698.5)\n",
      "       Predict: 1.0\n",
      "     Else (feature 4 > 33.5)\n",
      "      If (feature 10 <= 0.5)\n",
      "       Predict: 1.0\n",
      "      Else (feature 10 > 0.5)\n",
      "       Predict: 1.0\n",
      "    Else (feature 12 > 0.5)\n",
      "     If (feature 45 <= 0.5)\n",
      "      If (feature 0 <= 3375.5)\n",
      "       Predict: 7.0\n",
      "      Else (feature 0 > 3375.5)\n",
      "       Predict: 7.0\n",
      "     Else (feature 45 > 0.5)\n",
      "      If (feature 5 <= 995.5)\n",
      "       Predict: 7.0\n",
      "      Else (feature 5 > 995.5)\n",
      "       Predict: 1.0\n",
      "\n",
      "(54,[0,1,3,4,5,7,9,10,12,13,15,16,17,23,45],[0.8141992872065339,0.0014966065311877955,0.027430687158986618,0.0034840875198186507,0.014509499960863675,0.02536803841663792,0.006521004608128114,0.0033675015056542903,0.011454053521437553,0.0028630216849854745,0.029596787749398282,0.003451679890686579,0.03807620077338568,0.0009007223471295334,0.017280821125166105])\n"
     ]
    }
   ],
   "source": [
    "from pyspark.ml.classification import DecisionTreeClassifier\n",
    "classifier = DecisionTreeClassifier(labelCol=\"Cover_Type\", featuresCol=\"featureVector\", predictionCol=\"prediction\")\n",
    "model = classifier.fit(assembledTrainData)\n",
    "\n",
    "print(model.toDebugString)\n",
    "print(model.featureImportances)"
   ]
  },
  {
   "cell_type": "code",
   "execution_count": 13,
   "metadata": {
    "scrolled": true
   },
   "outputs": [
    {
     "name": "stdout",
     "output_type": "stream",
     "text": [
      "+----------+----------+------------------------------------------------------------------------------------------------------------------+\n",
      "|Cover_Type|prediction|probability                                                                                                       |\n",
      "+----------+----------+------------------------------------------------------------------------------------------------------------------+\n",
      "|6.0       |3.0       |[0.0,6.227813414710095E-5,0.05953789624462851,0.5492931431774304,0.026592763280812108,0.0,0.36451391916298187,0.0]|\n",
      "|6.0       |4.0       |[0.0,0.0,0.022382671480144403,0.24981949458483754,0.6339350180505415,0.0,0.09386281588447654,0.0]                 |\n",
      "|6.0       |3.0       |[0.0,6.227813414710095E-5,0.05953789624462851,0.5492931431774304,0.026592763280812108,0.0,0.36451391916298187,0.0]|\n",
      "|6.0       |3.0       |[0.0,0.0,0.03981780781663238,0.7034969144872172,0.01660299735527476,0.0,0.2400822803408757,0.0]                   |\n",
      "|6.0       |3.0       |[0.0,6.227813414710095E-5,0.05953789624462851,0.5492931431774304,0.026592763280812108,0.0,0.36451391916298187,0.0]|\n",
      "|6.0       |3.0       |[0.0,6.227813414710095E-5,0.05953789624462851,0.5492931431774304,0.026592763280812108,0.0,0.36451391916298187,0.0]|\n",
      "|6.0       |3.0       |[0.0,6.227813414710095E-5,0.05953789624462851,0.5492931431774304,0.026592763280812108,0.0,0.36451391916298187,0.0]|\n",
      "|6.0       |3.0       |[0.0,6.227813414710095E-5,0.05953789624462851,0.5492931431774304,0.026592763280812108,0.0,0.36451391916298187,0.0]|\n",
      "|3.0       |3.0       |[0.0,0.0,0.009017132551848512,0.6762849413886384,0.2466185752930568,0.0,0.06807935076645627,0.0]                  |\n",
      "|6.0       |3.0       |[0.0,6.227813414710095E-5,0.05953789624462851,0.5492931431774304,0.026592763280812108,0.0,0.36451391916298187,0.0]|\n",
      "|6.0       |3.0       |[0.0,0.0,0.03981780781663238,0.7034969144872172,0.01660299735527476,0.0,0.2400822803408757,0.0]                   |\n",
      "|6.0       |3.0       |[0.0,6.227813414710095E-5,0.05953789624462851,0.5492931431774304,0.026592763280812108,0.0,0.36451391916298187,0.0]|\n",
      "|3.0       |3.0       |[0.0,0.0,0.009017132551848512,0.6762849413886384,0.2466185752930568,0.0,0.06807935076645627,0.0]                  |\n",
      "|6.0       |3.0       |[0.0,6.227813414710095E-5,0.05953789624462851,0.5492931431774304,0.026592763280812108,0.0,0.36451391916298187,0.0]|\n",
      "|6.0       |3.0       |[0.0,6.227813414710095E-5,0.05953789624462851,0.5492931431774304,0.026592763280812108,0.0,0.36451391916298187,0.0]|\n",
      "|6.0       |3.0       |[0.0,6.227813414710095E-5,0.05953789624462851,0.5492931431774304,0.026592763280812108,0.0,0.36451391916298187,0.0]|\n",
      "|6.0       |3.0       |[0.0,6.227813414710095E-5,0.05953789624462851,0.5492931431774304,0.026592763280812108,0.0,0.36451391916298187,0.0]|\n",
      "|3.0       |3.0       |[0.0,0.0,0.03981780781663238,0.7034969144872172,0.01660299735527476,0.0,0.2400822803408757,0.0]                   |\n",
      "|6.0       |3.0       |[0.0,0.0,0.03981780781663238,0.7034969144872172,0.01660299735527476,0.0,0.2400822803408757,0.0]                   |\n",
      "|6.0       |3.0       |[0.0,6.227813414710095E-5,0.05953789624462851,0.5492931431774304,0.026592763280812108,0.0,0.36451391916298187,0.0]|\n",
      "+----------+----------+------------------------------------------------------------------------------------------------------------------+\n",
      "only showing top 20 rows\n",
      "\n"
     ]
    }
   ],
   "source": [
    "predictions = model.transform(assembledTrainData)\n",
    "predictions.select([\"Cover_Type\", \"prediction\", \"probability\"]).show(truncate=False)"
   ]
  },
  {
   "cell_type": "code",
   "execution_count": 14,
   "metadata": {},
   "outputs": [],
   "source": [
    "from pyspark.ml.evaluation import MulticlassClassificationEvaluator\n",
    "evaluator = MulticlassClassificationEvaluator(labelCol=\"Cover_Type\", predictionCol=\"prediction\")"
   ]
  },
  {
   "cell_type": "code",
   "execution_count": 15,
   "metadata": {},
   "outputs": [
    {
     "data": {
      "text/plain": [
       "0.7021859752540486"
      ]
     },
     "execution_count": 15,
     "metadata": {},
     "output_type": "execute_result"
    }
   ],
   "source": [
    "evaluator.setMetricName(\"accuracy\").evaluate(predictions)"
   ]
  },
  {
   "cell_type": "code",
   "execution_count": 16,
   "metadata": {},
   "outputs": [
    {
     "data": {
      "text/plain": [
       "0.688128879173654"
      ]
     },
     "execution_count": 16,
     "metadata": {},
     "output_type": "execute_result"
    }
   ],
   "source": [
    "evaluator.setMetricName(\"f1\").evaluate(predictions)"
   ]
  },
  {
   "cell_type": "code",
   "execution_count": 17,
   "metadata": {},
   "outputs": [],
   "source": [
    "#### confusion matrix - not supported in PySpark ML library"
   ]
  },
  {
   "cell_type": "code",
   "execution_count": 18,
   "metadata": {},
   "outputs": [],
   "source": [
    "from pyspark.ml import Pipeline\n",
    "\n",
    "inputCols = trainData.columns[:-1]\n",
    "assembler = VectorAssembler(inputCols=inputCols, outputCol=\"featureVector\")\n",
    "classifier = DecisionTreeClassifier(labelCol=\"Cover_Type\", featuresCol=\"featureVector\", predictionCol=\"prediction\")\n",
    "pipeline = Pipeline(stages=[assembler, classifier])"
   ]
  },
  {
   "cell_type": "code",
   "execution_count": 19,
   "metadata": {},
   "outputs": [],
   "source": [
    "from pyspark.ml.tuning import ParamGridBuilder\n",
    "\n",
    "paramGrid = ParamGridBuilder()\\\n",
    "    .addGrid(classifier, [\"gini\", \"entropy\"])\\\n",
    "    .addGrid(classifier, [1, 20])\\\n",
    "    .addGrid(classifier, [40, 300])\\\n",
    "    .addGrid(classifier, [0.0, 0.05])\\\n",
    "    .build()"
   ]
  },
  {
   "cell_type": "code",
   "execution_count": 20,
   "metadata": {},
   "outputs": [
    {
     "data": {
      "text/plain": [
       "0.7021859752540486"
      ]
     },
     "execution_count": 20,
     "metadata": {},
     "output_type": "execute_result"
    }
   ],
   "source": [
    "multiclassEval = MulticlassClassificationEvaluator(\n",
    "    labelCol=\"Cover_Type\",\n",
    "    predictionCol=\"prediction\",\n",
    "    metricName=\"accuracy\")\n",
    "multiclassEval.evaluate(predictions)"
   ]
  },
  {
   "cell_type": "code",
   "execution_count": 21,
   "metadata": {},
   "outputs": [],
   "source": [
    "from pyspark.ml.tuning import TrainValidationSplit\n",
    "\n",
    "validator = TrainValidationSplit(\n",
    "    estimator=pipeline,\n",
    "    estimatorParamMaps=paramGrid,\n",
    "    evaluator=multiclassEval,\n",
    "    trainRatio=0.9)\n",
    "validatorModel = validator.fit(trainData)"
   ]
  },
  {
   "cell_type": "code",
   "execution_count": 22,
   "metadata": {},
   "outputs": [],
   "source": [
    "bestModel = validatorModel.bestModel"
   ]
  },
  {
   "cell_type": "code",
   "execution_count": 23,
   "metadata": {
    "scrolled": true
   },
   "outputs": [
    {
     "data": {
      "text/plain": [
       "{Param(parent='DecisionTreeClassifier_41f4bd890c1c9c33fdc8', name='cacheNodeIds', doc='If false, the algorithm will pass trees to executors to match instances with nodes. If true, the algorithm will cache node IDs for each instance. Caching can speed up training of deeper trees.'): False,\n",
       " Param(parent='DecisionTreeClassifier_41f4bd890c1c9c33fdc8', name='checkpointInterval', doc='set checkpoint interval (>= 1) or disable checkpoint (-1). E.g. 10 means that the cache will get checkpointed every 10 iterations. Note: this setting will be ignored if the checkpoint directory is not set in the SparkContext'): 10,\n",
       " Param(parent='DecisionTreeClassifier_41f4bd890c1c9c33fdc8', name='featuresCol', doc='features column name'): 'featureVector',\n",
       " Param(parent='DecisionTreeClassifier_41f4bd890c1c9c33fdc8', name='impurity', doc='Criterion used for information gain calculation (case-insensitive). Supported options: entropy, gini'): 'gini',\n",
       " Param(parent='DecisionTreeClassifier_41f4bd890c1c9c33fdc8', name='labelCol', doc='label column name'): 'Cover_Type',\n",
       " Param(parent='DecisionTreeClassifier_41f4bd890c1c9c33fdc8', name='maxBins', doc='Max number of bins for discretizing continuous features.  Must be >=2 and >= number of categories for any categorical feature.'): 32,\n",
       " Param(parent='DecisionTreeClassifier_41f4bd890c1c9c33fdc8', name='maxDepth', doc='Maximum depth of the tree. (>= 0) E.g., depth 0 means 1 leaf node; depth 1 means 1 internal node + 2 leaf nodes.'): 5,\n",
       " Param(parent='DecisionTreeClassifier_41f4bd890c1c9c33fdc8', name='maxMemoryInMB', doc='Maximum memory in MB allocated to histogram aggregation.'): 256,\n",
       " Param(parent='DecisionTreeClassifier_41f4bd890c1c9c33fdc8', name='minInfoGain', doc='Minimum information gain for a split to be considered at a tree node.'): 0.0,\n",
       " Param(parent='DecisionTreeClassifier_41f4bd890c1c9c33fdc8', name='minInstancesPerNode', doc='Minimum number of instances each child must have after split.  If a split causes the left or right child to have fewer than minInstancesPerNode, the split will be discarded as invalid. Should be >= 1.'): 1,\n",
       " Param(parent='DecisionTreeClassifier_41f4bd890c1c9c33fdc8', name='predictionCol', doc='prediction column name'): 'prediction',\n",
       " Param(parent='DecisionTreeClassifier_41f4bd890c1c9c33fdc8', name='probabilityCol', doc='Column name for predicted class conditional probabilities. Note: Not all models output well-calibrated probability estimates! These probabilities should be treated as confidences, not precise probabilities'): 'probability',\n",
       " Param(parent='DecisionTreeClassifier_41f4bd890c1c9c33fdc8', name='rawPredictionCol', doc='raw prediction (a.k.a. confidence) column name'): 'rawPrediction',\n",
       " Param(parent='DecisionTreeClassifier_41f4bd890c1c9c33fdc8', name='seed', doc='random seed'): -5973628266081725150}"
      ]
     },
     "execution_count": 23,
     "metadata": {},
     "output_type": "execute_result"
    }
   ],
   "source": [
    "bestModel.stages[-1].extractParamMap()"
   ]
  },
  {
   "cell_type": "code",
   "execution_count": 24,
   "metadata": {},
   "outputs": [
    {
     "data": {
      "text/plain": [
       "[0.7034838513910752, 0.7034838513910752]"
      ]
     },
     "execution_count": 24,
     "metadata": {},
     "output_type": "execute_result"
    }
   ],
   "source": [
    "paramsAndMetrics = validatorModel.validationMetrics\n",
    "paramsAndMetrics"
   ]
  },
  {
   "cell_type": "code",
   "execution_count": 25,
   "metadata": {},
   "outputs": [
    {
     "data": {
      "text/plain": [
       "0.7029856133656474"
      ]
     },
     "execution_count": 25,
     "metadata": {},
     "output_type": "execute_result"
    }
   ],
   "source": [
    "multiclassEval.evaluate(bestModel.transform(testData))"
   ]
  },
  {
   "cell_type": "markdown",
   "metadata": {},
   "source": [
    "#### undoing the one-hot encoding"
   ]
  },
  {
   "cell_type": "code",
   "execution_count": 26,
   "metadata": {},
   "outputs": [],
   "source": [
    "wildernessCols = []\n",
    "for i in range(4):\n",
    "    wildernessCols += [\"Wilderness_Area_\"+str(i),]"
   ]
  },
  {
   "cell_type": "code",
   "execution_count": 27,
   "metadata": {},
   "outputs": [],
   "source": [
    "wildernessAssembler = VectorAssembler(\n",
    "    inputCols=wildernessCols,\n",
    "    outputCol=\"wilderness\")"
   ]
  },
  {
   "cell_type": "code",
   "execution_count": 28,
   "metadata": {},
   "outputs": [],
   "source": [
    "from pyspark.sql.functions import udf\n",
    "from pyspark.sql.types import ArrayType, DoubleType, StructType\n",
    "\n",
    "unhotudf = udf(lambda x: float(x.toArray().nonzero()[0]), DoubleType())"
   ]
  },
  {
   "cell_type": "code",
   "execution_count": 29,
   "metadata": {
    "scrolled": false
   },
   "outputs": [
    {
     "data": {
      "text/plain": [
       "[Row(Elevation=2596, Aspect=51, Slope=3, Horizontal_Distance_To_Hydrology=258, Vertical_Distance_To_Hydrology=0, Horizontal_Distance_To_Roadways=510, Hillshade_9am=221, Hillshade_Noon=232, Hillshade_3pm=148, Horizontal_Distance_To_Fire_Points=6279, Soil_Type_0=0, Soil_Type_1=0, Soil_Type_2=0, Soil_Type_3=0, Soil_Type_4=0, Soil_Type_5=0, Soil_Type_6=0, Soil_Type_7=0, Soil_Type_8=0, Soil_Type_9=0, Soil_Type_10=0, Soil_Type_11=0, Soil_Type_12=0, Soil_Type_13=0, Soil_Type_14=0, Soil_Type_15=0, Soil_Type_16=0, Soil_Type_17=0, Soil_Type_18=0, Soil_Type_19=0, Soil_Type_20=0, Soil_Type_21=0, Soil_Type_22=0, Soil_Type_23=0, Soil_Type_24=0, Soil_Type_25=0, Soil_Type_26=0, Soil_Type_27=0, Soil_Type_28=1, Soil_Type_29=0, Soil_Type_30=0, Soil_Type_31=0, Soil_Type_32=0, Soil_Type_33=0, Soil_Type_34=0, Soil_Type_35=0, Soil_Type_36=0, Soil_Type_37=0, Soil_Type_38=0, Soil_Type_39=0, Cover_Type=5.0, wilderness=0.0)]"
      ]
     },
     "execution_count": 29,
     "metadata": {},
     "output_type": "execute_result"
    }
   ],
   "source": [
    "withWilderness = wildernessAssembler.transform(data)\n",
    "withWilderness = withWilderness\\\n",
    "    .drop(*wildernessCols)\\\n",
    "    .withColumn(\"wilderness\", unhotudf(withWilderness['wilderness']))\n",
    "withWilderness.take(1)"
   ]
  },
  {
   "cell_type": "code",
   "execution_count": 30,
   "metadata": {
    "scrolled": true
   },
   "outputs": [],
   "source": [
    "soilCols = []\n",
    "for i in range(40):\n",
    "    soilCols += [\"Soil_Type_\"+str(i),]\n"
   ]
  },
  {
   "cell_type": "code",
   "execution_count": 31,
   "metadata": {},
   "outputs": [
    {
     "data": {
      "text/plain": [
       "[Row(Elevation=2596, Aspect=51, Slope=3, Horizontal_Distance_To_Hydrology=258, Vertical_Distance_To_Hydrology=0, Horizontal_Distance_To_Roadways=510, Hillshade_9am=221, Hillshade_Noon=232, Hillshade_3pm=148, Horizontal_Distance_To_Fire_Points=6279, Cover_Type=5.0, wilderness=0.0, soil=28.0)]"
      ]
     },
     "execution_count": 31,
     "metadata": {},
     "output_type": "execute_result"
    }
   ],
   "source": [
    "soilAssembler = VectorAssembler(\n",
    "        inputCols=soilCols,\n",
    "        outputCol=\"soil\")\n",
    "\n",
    "withWilderness = soilAssembler.transform(withWilderness)\n",
    "unencData = withWilderness\\\n",
    "    .drop(*soilCols)\\\n",
    "    .withColumn(\"soil\", unhotudf(withWilderness['soil']))\n",
    "unencData.take(1)"
   ]
  },
  {
   "cell_type": "markdown",
   "metadata": {},
   "source": [
    "#### Decision Tree Classifier with unencoded data"
   ]
  },
  {
   "cell_type": "code",
   "execution_count": 32,
   "metadata": {},
   "outputs": [],
   "source": [
    "(unencTrainData, unencTestData) = unencData.randomSplit([0.9, 0.1])"
   ]
  },
  {
   "cell_type": "code",
   "execution_count": 33,
   "metadata": {},
   "outputs": [],
   "source": [
    "from pyspark.ml.feature import VectorIndexer\n",
    "\n",
    "inputCols = unencTrainData.drop('Cover_Type').columns\n",
    "assembler = VectorAssembler(\n",
    "    inputCols=inputCols,\n",
    "    outputCol=\"featureVector\")\n",
    "indexer = VectorIndexer(\n",
    "    maxCategories=40,\n",
    "    inputCol=\"featureVector\",\n",
    "    outputCol=\"indexedVector\")\n",
    "classifier = DecisionTreeClassifier(\n",
    "    seed=42,\n",
    "    labelCol=\"Cover_Type\",\n",
    "    featuresCol=\"indexedVector\",\n",
    "    predictionCol=\"prediction\")\n",
    "pipeline = Pipeline(stages=[assembler, indexer, classifier])"
   ]
  },
  {
   "cell_type": "markdown",
   "metadata": {},
   "source": [
    "#### Random Forest Classifier"
   ]
  },
  {
   "cell_type": "code",
   "execution_count": 34,
   "metadata": {},
   "outputs": [],
   "source": [
    "from pyspark.ml.classification import RandomForestClassifier\n",
    "classifier = RandomForestClassifier(\n",
    "    seed=42,\n",
    "    maxBins=40,\n",
    "    labelCol=\"Cover_Type\",\n",
    "    featuresCol=\"indexedVector\",\n",
    "    predictionCol=\"prediction\")\n",
    "pipeline = Pipeline(stages=[assembler, indexer, classifier])"
   ]
  },
  {
   "cell_type": "code",
   "execution_count": 35,
   "metadata": {},
   "outputs": [],
   "source": [
    "paramGrid = ParamGridBuilder()\\\n",
    "    .addGrid(classifier.minInfoGain, [0.0, 0.05])\\\n",
    "    .addGrid(classifier.numTrees, [1, 10])\\\n",
    "    .build()"
   ]
  },
  {
   "cell_type": "code",
   "execution_count": 36,
   "metadata": {},
   "outputs": [],
   "source": [
    "multiclassEval = MulticlassClassificationEvaluator(\n",
    "    labelCol=\"Cover_Type\",\n",
    "    predictionCol=\"prediction\",\n",
    "    metricName=\"accuracy\")"
   ]
  },
  {
   "cell_type": "code",
   "execution_count": 37,
   "metadata": {},
   "outputs": [],
   "source": [
    "validator = TrainValidationSplit(\n",
    "    seed=42,\n",
    "    estimator=pipeline,\n",
    "    evaluator=multiclassEval,\n",
    "    estimatorParamMaps=paramGrid,\n",
    "    trainRatio=0.9)"
   ]
  },
  {
   "cell_type": "code",
   "execution_count": 38,
   "metadata": {
    "scrolled": true
   },
   "outputs": [
    {
     "name": "stdout",
     "output_type": "stream",
     "text": [
      "{Param(parent='RandomForestClassifier_4a9c82ae235daf56abeb', name='cacheNodeIds', doc='If false, the algorithm will pass trees to executors to match instances with nodes. If true, the algorithm will cache node IDs for each instance. Caching can speed up training of deeper trees.'): False, Param(parent='RandomForestClassifier_4a9c82ae235daf56abeb', name='checkpointInterval', doc='set checkpoint interval (>= 1) or disable checkpoint (-1). E.g. 10 means that the cache will get checkpointed every 10 iterations. Note: this setting will be ignored if the checkpoint directory is not set in the SparkContext'): 10, Param(parent='RandomForestClassifier_4a9c82ae235daf56abeb', name='featureSubsetStrategy', doc='The number of features to consider for splits at each tree node. Supported options: auto, all, onethird, sqrt, log2, (0.0-1.0], [1-n].'): 'auto', Param(parent='RandomForestClassifier_4a9c82ae235daf56abeb', name='featuresCol', doc='features column name'): 'indexedVector', Param(parent='RandomForestClassifier_4a9c82ae235daf56abeb', name='impurity', doc='Criterion used for information gain calculation (case-insensitive). Supported options: entropy, gini'): 'gini', Param(parent='RandomForestClassifier_4a9c82ae235daf56abeb', name='labelCol', doc='label column name'): 'Cover_Type', Param(parent='RandomForestClassifier_4a9c82ae235daf56abeb', name='maxBins', doc='Max number of bins for discretizing continuous features.  Must be >=2 and >= number of categories for any categorical feature.'): 40, Param(parent='RandomForestClassifier_4a9c82ae235daf56abeb', name='maxDepth', doc='Maximum depth of the tree. (>= 0) E.g., depth 0 means 1 leaf node; depth 1 means 1 internal node + 2 leaf nodes.'): 5, Param(parent='RandomForestClassifier_4a9c82ae235daf56abeb', name='maxMemoryInMB', doc='Maximum memory in MB allocated to histogram aggregation.'): 256, Param(parent='RandomForestClassifier_4a9c82ae235daf56abeb', name='minInfoGain', doc='Minimum information gain for a split to be considered at a tree node.'): 0.0, Param(parent='RandomForestClassifier_4a9c82ae235daf56abeb', name='minInstancesPerNode', doc='Minimum number of instances each child must have after split.  If a split causes the left or right child to have fewer than minInstancesPerNode, the split will be discarded as invalid. Should be >= 1.'): 1, Param(parent='RandomForestClassifier_4a9c82ae235daf56abeb', name='numTrees', doc='Number of trees to train (>= 1)'): 1, Param(parent='RandomForestClassifier_4a9c82ae235daf56abeb', name='predictionCol', doc='prediction column name'): 'prediction', Param(parent='RandomForestClassifier_4a9c82ae235daf56abeb', name='probabilityCol', doc='Column name for predicted class conditional probabilities. Note: Not all models output well-calibrated probability estimates! These probabilities should be treated as confidences, not precise probabilities'): 'probability', Param(parent='RandomForestClassifier_4a9c82ae235daf56abeb', name='rawPredictionCol', doc='raw prediction (a.k.a. confidence) column name'): 'rawPrediction', Param(parent='RandomForestClassifier_4a9c82ae235daf56abeb', name='seed', doc='random seed'): 42, Param(parent='RandomForestClassifier_4a9c82ae235daf56abeb', name='subsamplingRate', doc='Fraction of the training data used for learning each decision tree, in range (0, 1].'): 1.0}\n",
      "Wall time: 1min 53s\n"
     ]
    }
   ],
   "source": [
    "%%time\n",
    "validatorModel = validator.fit(unencTrainData)\n",
    "bestModel = validatorModel.bestModel\n",
    "forestModel = bestModel.stages[-1]\n",
    "print(forestModel.extractParamMap())"
   ]
  },
  {
   "cell_type": "code",
   "execution_count": 39,
   "metadata": {},
   "outputs": [
    {
     "data": {
      "text/plain": [
       "1"
      ]
     },
     "execution_count": 39,
     "metadata": {},
     "output_type": "execute_result"
    }
   ],
   "source": [
    "forestModel.getNumTrees"
   ]
  },
  {
   "cell_type": "code",
   "execution_count": 40,
   "metadata": {},
   "outputs": [
    {
     "data": {
      "text/plain": [
       "[('Elevation', 0.7891159435689964),\n",
       " ('soil', 0.09236359835877292),\n",
       " ('wilderness', 0.052204086226786676),\n",
       " ('Horizontal_Distance_To_Roadways', 0.02522139209595325),\n",
       " ('Hillshade_Noon', 0.020518979723761554),\n",
       " ('Horizontal_Distance_To_Hydrology', 0.013920470691882797),\n",
       " ('Horizontal_Distance_To_Fire_Points', 0.005880381746644224),\n",
       " ('Slope', 0.000775147587202001),\n",
       " ('Aspect', 0.0),\n",
       " ('Vertical_Distance_To_Hydrology', 0.0),\n",
       " ('Hillshade_9am', 0.0),\n",
       " ('Hillshade_3pm', 0.0)]"
      ]
     },
     "execution_count": 40,
     "metadata": {},
     "output_type": "execute_result"
    }
   ],
   "source": [
    "sorted(list(zip(inputCols, forestModel.featureImportances)), key=lambda x: x[1], reverse=True)"
   ]
  },
  {
   "cell_type": "code",
   "execution_count": 41,
   "metadata": {},
   "outputs": [
    {
     "data": {
      "text/plain": [
       "0.6973240386777603"
      ]
     },
     "execution_count": 41,
     "metadata": {},
     "output_type": "execute_result"
    }
   ],
   "source": [
    "testAccuracy = multiclassEval.evaluate(bestModel.transform(unencTestData))\n",
    "testAccuracy"
   ]
  },
  {
   "cell_type": "code",
   "execution_count": 42,
   "metadata": {},
   "outputs": [
    {
     "name": "stdout",
     "output_type": "stream",
     "text": [
      "+---------+------+-----+--------------------------------+------------------------------+-------------------------------+-------------+--------------+-------------+----------------------------------+----------+----+--------------------+--------------------+--------------------+--------------------+----------+\n",
      "|Elevation|Aspect|Slope|Horizontal_Distance_To_Hydrology|Vertical_Distance_To_Hydrology|Horizontal_Distance_To_Roadways|Hillshade_9am|Hillshade_Noon|Hillshade_3pm|Horizontal_Distance_To_Fire_Points|wilderness|soil|       featureVector|       indexedVector|       rawPrediction|         probability|prediction|\n",
      "+---------+------+-----+--------------------------------+------------------------------+-------------------------------+-------------+--------------+-------------+----------------------------------+----------+----+--------------------+--------------------+--------------------+--------------------+----------+\n",
      "|     1896|   337|   12|                              30|                             6|                            175|          195|           224|          168|                               732|       3.0| 4.0|[1896.0,337.0,12....|[1896.0,337.0,12....|[0.0,2.7593818984...|[0.0,2.7593818984...|       3.0|\n",
      "|     1903|    67|   16|                             108|                            36|                            120|          234|           207|          100|                               969|       3.0| 2.0|[1903.0,67.0,16.0...|[1903.0,67.0,16.0...|[0.0,2.7593818984...|[0.0,2.7593818984...|       3.0|\n",
      "|     1905|    77|   21|                              90|                            38|                            120|          241|           196|           75|                              1025|       3.0| 2.0|[1905.0,77.0,21.0...|[1905.0,77.0,21.0...|[0.0,2.7593818984...|[0.0,2.7593818984...|       3.0|\n",
      "|     1927|     4|   36|                             120|                            78|                             95|          149|           147|          116|                               666|       3.0| 4.0|[1927.0,4.0,36.0,...|[1927.0,4.0,36.0,...|[0.0,2.7593818984...|[0.0,2.7593818984...|       3.0|\n",
      "|     1931|   214|    7|                               0|                             0|                             30|          213|           247|            0|                               433|       3.0| 0.0|[1931.0,214.0,7.0...|[1931.0,214.0,7.0...|[0.0,2.7593818984...|[0.0,2.7593818984...|       3.0|\n",
      "|     1946|   334|   25|                              60|                            32|                            108|          155|           198|          178|                               499|       3.0| 9.0|[1946.0,334.0,25....|[1946.0,334.0,25....|[0.0,0.0,0.043269...|[0.0,0.0,0.043269...|       3.0|\n",
      "|     1949|   347|   22|                              60|                            28|                            330|          173|           199|          161|                               708|       3.0| 0.0|[1949.0,347.0,22....|[1949.0,347.0,22....|[0.0,2.7593818984...|[0.0,2.7593818984...|       3.0|\n",
      "|     1962|    69|   22|                              42|                             2|                            300|          237|           190|           72|                               553|       3.0| 0.0|[1962.0,69.0,22.0...|[1962.0,69.0,22.0...|[0.0,2.7593818984...|[0.0,2.7593818984...|       3.0|\n",
      "|     1962|   320|   34|                              90|                            66|                            150|          114|           185|          200|                               408|       3.0| 9.0|[1962.0,320.0,34....|[1962.0,320.0,34....|[0.0,0.0,0.043269...|[0.0,0.0,0.043269...|       3.0|\n",
      "|     1986|    10|   19|                              42|                            14|                            371|          196|           199|          136|                               551|       3.0| 9.0|[1986.0,10.0,19.0...|[1986.0,10.0,19.0...|[0.0,0.0,0.043269...|[0.0,0.0,0.043269...|       3.0|\n",
      "|     2005|   122|   30|                             277|                           102|                            277|          254|           200|           50|                               810|       3.0| 2.0|[2005.0,122.0,30....|[2005.0,122.0,30....|[0.0,2.7593818984...|[0.0,2.7593818984...|       3.0|\n",
      "|     2008|   226|   32|                              30|                            12|                            108|          161|           250|          210|                               295|       3.0| 4.0|[2008.0,226.0,32....|[2008.0,226.0,32....|[0.0,2.7593818984...|[0.0,2.7593818984...|       3.0|\n",
      "|     2014|    59|    4|                               0|                             0|                            488|          223|           231|          143|                               484|       3.0|16.0|[2014.0,59.0,4.0,...|[2014.0,59.0,4.0,...|[0.0,0.0,0.043269...|[0.0,0.0,0.043269...|       3.0|\n",
      "|     2021|   342|   16|                              30|                             2|                            576|          185|           214|          167|                               437|       3.0|16.0|[2021.0,342.0,16....|[2021.0,342.0,16....|[0.0,0.0,0.043269...|[0.0,0.0,0.043269...|       3.0|\n",
      "|     2022|    66|   34|                             134|                            39|                            192|          230|           152|           25|                               577|       3.0| 0.0|[2022.0,66.0,34.0...|[2022.0,66.0,34.0...|[0.0,2.7593818984...|[0.0,2.7593818984...|       3.0|\n",
      "|     2023|   229|    4|                               0|                             0|                            488|          213|           244|          168|                               551|       3.0|16.0|[2023.0,229.0,4.0...|[2023.0,229.0,4.0...|[0.0,0.0,0.043269...|[0.0,0.0,0.043269...|       3.0|\n",
      "|     2027|    64|   32|                             228|                            68|                            268|          229|           156|           34|                               306|       3.0| 4.0|[2027.0,64.0,32.0...|[2027.0,64.0,32.0...|[0.0,2.7593818984...|[0.0,2.7593818984...|       3.0|\n",
      "|     2028|   258|   16|                               0|                             0|                            424|          181|           248|          204|                               607|       3.0|16.0|[2028.0,258.0,16....|[2028.0,258.0,16....|[0.0,0.0,0.043269...|[0.0,0.0,0.043269...|       3.0|\n",
      "|     2032|    31|   10|                              30|                             5|                            451|          218|           218|          135|                               618|       3.0|16.0|[2032.0,31.0,10.0...|[2032.0,31.0,10.0...|[0.0,0.0,0.043269...|[0.0,0.0,0.043269...|       3.0|\n",
      "|     2038|   110|   11|                               0|                             0|                            685|          239|           228|          118|                               690|       3.0| 0.0|[2038.0,110.0,11....|[2038.0,110.0,11....|[0.0,2.7593818984...|[0.0,2.7593818984...|       3.0|\n",
      "+---------+------+-----+--------------------------------+------------------------------+-------------------------------+-------------+--------------+-------------+----------------------------------+----------+----+--------------------+--------------------+--------------------+--------------------+----------+\n",
      "only showing top 20 rows\n",
      "\n"
     ]
    }
   ],
   "source": [
    "bestModel.transform(unencTestData.drop(\"Cover_Type\")).show()"
   ]
  }
 ],
 "metadata": {
  "kernelspec": {
   "display_name": "Python 3",
   "language": "python",
   "name": "python3"
  },
  "language_info": {
   "codemirror_mode": {
    "name": "ipython",
    "version": 3
   },
   "file_extension": ".py",
   "mimetype": "text/x-python",
   "name": "python",
   "nbconvert_exporter": "python",
   "pygments_lexer": "ipython3",
   "version": "3.6.6"
  }
 },
 "nbformat": 4,
 "nbformat_minor": 2
}
