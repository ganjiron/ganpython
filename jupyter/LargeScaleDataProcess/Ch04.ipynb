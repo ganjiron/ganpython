{
 "cells": [
  {
   "cell_type": "code",
   "execution_count": 1,
   "metadata": {},
   "outputs": [],
   "source": [
    "from pyspark.sql import SparkSession\n",
    "spark = SparkSession.builder.appName(\"Ch04\").getOrCreate()\n",
    "spark.conf.set(\"spark.driver.memory\", \"4g\")\n",
    "sc = spark.sparkContext"
   ]
  },
  {
   "cell_type": "code",
   "execution_count": 2,
   "metadata": {},
   "outputs": [],
   "source": [
    "from pyspark.sql.types import StructType, StructField, IntegerType, DoubleType"
   ]
  },
  {
   "cell_type": "code",
   "execution_count": 3,
   "metadata": {},
   "outputs": [],
   "source": [
    "colNames = [\"Elevation\", \"Aspect\", \"Slope\",\n",
    "\"Horizontal_Distance_To_Hydrology\", \"Vertical_Distance_To_Hydrology\",\n",
    "\"Horizontal_Distance_To_Roadways\",\n",
    "\"Hillshade_9am\", \"Hillshade_Noon\", \"Hillshade_3pm\",\n",
    "\"Horizontal_Distance_To_Fire_Points\"]\n",
    "for i in range(4):\n",
    "    colNames += [\"Wilderness_Area_\"+str(i),]\n",
    "for i in range(40):\n",
    "    colNames += [\"Soil_Type_\"+str(i),]\n",
    "colNames += [\"Cover_Type\",]"
   ]
  },
  {
   "cell_type": "code",
   "execution_count": 4,
   "metadata": {},
   "outputs": [],
   "source": [
    "schema = StructType()\n",
    "for name in colNames:\n",
    "    if name == \"Cover_Type\":\n",
    "        schema.add(StructField(name, DoubleType(), True))\n",
    "    else:\n",
    "        schema.add(StructField(name, IntegerType(), True))"
   ]
  },
  {
   "cell_type": "code",
   "execution_count": 5,
   "metadata": {
    "scrolled": true
   },
   "outputs": [],
   "source": [
    "data = spark.read.csv(\"covtype.data\", header=False, schema=schema)"
   ]
  },
  {
   "cell_type": "code",
   "execution_count": 6,
   "metadata": {
    "scrolled": true
   },
   "outputs": [
    {
     "name": "stdout",
     "output_type": "stream",
     "text": [
      "root\n",
      " |-- Elevation: integer (nullable = true)\n",
      " |-- Aspect: integer (nullable = true)\n",
      " |-- Slope: integer (nullable = true)\n",
      " |-- Horizontal_Distance_To_Hydrology: integer (nullable = true)\n",
      " |-- Vertical_Distance_To_Hydrology: integer (nullable = true)\n",
      " |-- Horizontal_Distance_To_Roadways: integer (nullable = true)\n",
      " |-- Hillshade_9am: integer (nullable = true)\n",
      " |-- Hillshade_Noon: integer (nullable = true)\n",
      " |-- Hillshade_3pm: integer (nullable = true)\n",
      " |-- Horizontal_Distance_To_Fire_Points: integer (nullable = true)\n",
      " |-- Wilderness_Area_0: integer (nullable = true)\n",
      " |-- Wilderness_Area_1: integer (nullable = true)\n",
      " |-- Wilderness_Area_2: integer (nullable = true)\n",
      " |-- Wilderness_Area_3: integer (nullable = true)\n",
      " |-- Soil_Type_0: integer (nullable = true)\n",
      " |-- Soil_Type_1: integer (nullable = true)\n",
      " |-- Soil_Type_2: integer (nullable = true)\n",
      " |-- Soil_Type_3: integer (nullable = true)\n",
      " |-- Soil_Type_4: integer (nullable = true)\n",
      " |-- Soil_Type_5: integer (nullable = true)\n",
      " |-- Soil_Type_6: integer (nullable = true)\n",
      " |-- Soil_Type_7: integer (nullable = true)\n",
      " |-- Soil_Type_8: integer (nullable = true)\n",
      " |-- Soil_Type_9: integer (nullable = true)\n",
      " |-- Soil_Type_10: integer (nullable = true)\n",
      " |-- Soil_Type_11: integer (nullable = true)\n",
      " |-- Soil_Type_12: integer (nullable = true)\n",
      " |-- Soil_Type_13: integer (nullable = true)\n",
      " |-- Soil_Type_14: integer (nullable = true)\n",
      " |-- Soil_Type_15: integer (nullable = true)\n",
      " |-- Soil_Type_16: integer (nullable = true)\n",
      " |-- Soil_Type_17: integer (nullable = true)\n",
      " |-- Soil_Type_18: integer (nullable = true)\n",
      " |-- Soil_Type_19: integer (nullable = true)\n",
      " |-- Soil_Type_20: integer (nullable = true)\n",
      " |-- Soil_Type_21: integer (nullable = true)\n",
      " |-- Soil_Type_22: integer (nullable = true)\n",
      " |-- Soil_Type_23: integer (nullable = true)\n",
      " |-- Soil_Type_24: integer (nullable = true)\n",
      " |-- Soil_Type_25: integer (nullable = true)\n",
      " |-- Soil_Type_26: integer (nullable = true)\n",
      " |-- Soil_Type_27: integer (nullable = true)\n",
      " |-- Soil_Type_28: integer (nullable = true)\n",
      " |-- Soil_Type_29: integer (nullable = true)\n",
      " |-- Soil_Type_30: integer (nullable = true)\n",
      " |-- Soil_Type_31: integer (nullable = true)\n",
      " |-- Soil_Type_32: integer (nullable = true)\n",
      " |-- Soil_Type_33: integer (nullable = true)\n",
      " |-- Soil_Type_34: integer (nullable = true)\n",
      " |-- Soil_Type_35: integer (nullable = true)\n",
      " |-- Soil_Type_36: integer (nullable = true)\n",
      " |-- Soil_Type_37: integer (nullable = true)\n",
      " |-- Soil_Type_38: integer (nullable = true)\n",
      " |-- Soil_Type_39: integer (nullable = true)\n",
      " |-- Cover_Type: double (nullable = true)\n",
      "\n"
     ]
    }
   ],
   "source": [
    "data.printSchema()"
   ]
  },
  {
   "cell_type": "code",
   "execution_count": 7,
   "metadata": {},
   "outputs": [
    {
     "data": {
      "text/plain": [
       "[Row(Elevation=2596, Aspect=51, Slope=3, Horizontal_Distance_To_Hydrology=258, Vertical_Distance_To_Hydrology=0, Horizontal_Distance_To_Roadways=510, Hillshade_9am=221, Hillshade_Noon=232, Hillshade_3pm=148, Horizontal_Distance_To_Fire_Points=6279, Wilderness_Area_0=1, Wilderness_Area_1=0, Wilderness_Area_2=0, Wilderness_Area_3=0, Soil_Type_0=0, Soil_Type_1=0, Soil_Type_2=0, Soil_Type_3=0, Soil_Type_4=0, Soil_Type_5=0, Soil_Type_6=0, Soil_Type_7=0, Soil_Type_8=0, Soil_Type_9=0, Soil_Type_10=0, Soil_Type_11=0, Soil_Type_12=0, Soil_Type_13=0, Soil_Type_14=0, Soil_Type_15=0, Soil_Type_16=0, Soil_Type_17=0, Soil_Type_18=0, Soil_Type_19=0, Soil_Type_20=0, Soil_Type_21=0, Soil_Type_22=0, Soil_Type_23=0, Soil_Type_24=0, Soil_Type_25=0, Soil_Type_26=0, Soil_Type_27=0, Soil_Type_28=1, Soil_Type_29=0, Soil_Type_30=0, Soil_Type_31=0, Soil_Type_32=0, Soil_Type_33=0, Soil_Type_34=0, Soil_Type_35=0, Soil_Type_36=0, Soil_Type_37=0, Soil_Type_38=0, Soil_Type_39=0, Cover_Type=5.0)]"
      ]
     },
     "execution_count": 7,
     "metadata": {},
     "output_type": "execute_result"
    }
   ],
   "source": [
    "data.take(1)"
   ]
  },
  {
   "cell_type": "code",
   "execution_count": 8,
   "metadata": {},
   "outputs": [],
   "source": [
    "from pyspark.ml.linalg import Vectors\n",
    "from pyspark.ml.feature import VectorAssembler"
   ]
  },
  {
   "cell_type": "code",
   "execution_count": 9,
   "metadata": {},
   "outputs": [],
   "source": [
    "(trainData, testData) = data.randomSplit([0.9, 0.1])"
   ]
  },
  {
   "cell_type": "code",
   "execution_count": 10,
   "metadata": {},
   "outputs": [],
   "source": [
    "inputCols = trainData.drop('Cover_Type').columns"
   ]
  },
  {
   "cell_type": "code",
   "execution_count": 11,
   "metadata": {
    "scrolled": true
   },
   "outputs": [
    {
     "name": "stdout",
     "output_type": "stream",
     "text": [
      "+-----------------------------------------------------------------------------------------------------+\n",
      "|featureVector                                                                                        |\n",
      "+-----------------------------------------------------------------------------------------------------+\n",
      "|(54,[0,1,2,3,4,5,6,7,8,9,13,15],[1863.0,37.0,17.0,120.0,18.0,90.0,217.0,202.0,115.0,769.0,1.0,1.0])  |\n",
      "|(54,[0,1,2,5,6,7,8,9,13,18],[1874.0,18.0,14.0,90.0,208.0,209.0,135.0,793.0,1.0,1.0])                 |\n",
      "|(54,[0,1,2,3,4,5,6,7,8,9,13,18],[1879.0,28.0,19.0,30.0,12.0,95.0,209.0,196.0,117.0,778.0,1.0,1.0])   |\n",
      "|(54,[0,1,2,3,4,5,6,7,8,9,13,15],[1888.0,33.0,22.0,150.0,46.0,108.0,209.0,185.0,103.0,735.0,1.0,1.0]) |\n",
      "|(54,[0,1,2,3,4,5,6,7,8,9,13,14],[1889.0,28.0,22.0,150.0,23.0,120.0,205.0,185.0,108.0,759.0,1.0,1.0]) |\n",
      "|(54,[0,1,2,3,4,5,6,7,8,9,13,18],[1889.0,353.0,30.0,95.0,39.0,67.0,153.0,172.0,146.0,600.0,1.0,1.0])  |\n",
      "|(54,[0,1,2,3,4,5,6,7,8,9,13,18],[1896.0,337.0,12.0,30.0,6.0,175.0,195.0,224.0,168.0,732.0,1.0,1.0])  |\n",
      "|(54,[0,1,2,3,4,5,6,7,8,9,13,18],[1899.0,355.0,22.0,153.0,43.0,124.0,178.0,195.0,151.0,819.0,1.0,1.0])|\n",
      "|(54,[0,1,2,3,4,5,6,7,8,9,13,14],[1901.0,311.0,9.0,30.0,2.0,190.0,195.0,234.0,179.0,726.0,1.0,1.0])   |\n",
      "|(54,[0,1,2,3,4,5,6,7,8,9,13,14],[1903.0,5.0,13.0,42.0,4.0,201.0,203.0,214.0,148.0,708.0,1.0,1.0])    |\n",
      "|(54,[0,1,2,3,4,5,6,7,8,9,13,16],[1903.0,67.0,16.0,108.0,36.0,120.0,234.0,207.0,100.0,969.0,1.0,1.0]) |\n",
      "|(54,[0,1,2,3,4,5,6,7,8,9,13,18],[1905.0,19.0,27.0,134.0,58.0,120.0,188.0,171.0,108.0,636.0,1.0,1.0]) |\n",
      "|(54,[0,1,2,3,4,5,6,7,8,9,13,14],[1905.0,33.0,27.0,90.0,46.0,150.0,204.0,171.0,89.0,725.0,1.0,1.0])   |\n",
      "|(54,[0,1,2,3,4,5,6,7,8,9,13,16],[1905.0,77.0,21.0,90.0,38.0,120.0,241.0,196.0,75.0,1025.0,1.0,1.0])  |\n",
      "|(54,[0,1,2,3,4,5,6,7,8,9,13,15],[1906.0,356.0,20.0,150.0,55.0,120.0,184.0,201.0,151.0,726.0,1.0,1.0])|\n",
      "|(54,[0,1,2,3,4,5,6,7,8,9,13,18],[1908.0,323.0,32.0,150.0,52.0,120.0,125.0,190.0,196.0,765.0,1.0,1.0])|\n",
      "|(54,[0,1,2,3,4,5,6,7,8,9,13,15],[1916.0,24.0,25.0,212.0,74.0,175.0,197.0,177.0,105.0,789.0,1.0,1.0]) |\n",
      "|(54,[0,1,2,3,4,5,6,7,8,9,13,18],[1916.0,320.0,24.0,190.0,60.0,162.0,151.0,210.0,195.0,832.0,1.0,1.0])|\n",
      "|(54,[0,1,2,3,4,5,6,7,8,9,13,14],[1919.0,30.0,22.0,67.0,9.0,256.0,208.0,188.0,107.0,661.0,1.0,1.0])   |\n",
      "|(54,[0,1,2,3,4,5,6,7,8,9,13,18],[1919.0,44.0,26.0,162.0,68.0,150.0,216.0,173.0,77.0,706.0,1.0,1.0])  |\n",
      "+-----------------------------------------------------------------------------------------------------+\n",
      "only showing top 20 rows\n",
      "\n"
     ]
    }
   ],
   "source": [
    "assembler = VectorAssembler(\n",
    "    inputCols=inputCols,\n",
    "    outputCol=\"featureVector\")\n",
    "assembledTrainData = assembler.transform(trainData)\n",
    "assembledTrainData.select('featureVector').show(truncate=False)"
   ]
  },
  {
   "cell_type": "code",
   "execution_count": 12,
   "metadata": {
    "scrolled": true
   },
   "outputs": [
    {
     "name": "stdout",
     "output_type": "stream",
     "text": [
      "DecisionTreeClassificationModel (uid=DecisionTreeClassifier_4ea6ade6a1df942d064f) of depth 5 with 63 nodes\n",
      "  If (feature 0 <= 3035.5)\n",
      "   If (feature 0 <= 2574.5)\n",
      "    If (feature 10 <= 0.5)\n",
      "     If (feature 0 <= 2456.5)\n",
      "      If (feature 3 <= 15.0)\n",
      "       Predict: 4.0\n",
      "      Else (feature 3 > 15.0)\n",
      "       Predict: 3.0\n",
      "     Else (feature 0 > 2456.5)\n",
      "      If (feature 17 <= 0.5)\n",
      "       Predict: 2.0\n",
      "      Else (feature 17 > 0.5)\n",
      "       Predict: 3.0\n",
      "    Else (feature 10 > 0.5)\n",
      "     If (feature 22 <= 0.5)\n",
      "      If (feature 9 <= 4541.5)\n",
      "       Predict: 2.0\n",
      "      Else (feature 9 > 4541.5)\n",
      "       Predict: 2.0\n",
      "     Else (feature 22 > 0.5)\n",
      "      If (feature 5 <= 1021.0)\n",
      "       Predict: 2.0\n",
      "      Else (feature 5 > 1021.0)\n",
      "       Predict: 1.0\n",
      "   Else (feature 0 > 2574.5)\n",
      "    If (feature 0 <= 2921.5)\n",
      "     If (feature 15 <= 0.5)\n",
      "      If (feature 17 <= 0.5)\n",
      "       Predict: 2.0\n",
      "      Else (feature 17 > 0.5)\n",
      "       Predict: 3.0\n",
      "     Else (feature 15 > 0.5)\n",
      "      If (feature 9 <= 1625.0)\n",
      "       Predict: 3.0\n",
      "      Else (feature 9 > 1625.0)\n",
      "       Predict: 3.0\n",
      "    Else (feature 0 > 2921.5)\n",
      "     If (feature 3 <= 122.0)\n",
      "      If (feature 35 <= 0.5)\n",
      "       Predict: 2.0\n",
      "      Else (feature 35 > 0.5)\n",
      "       Predict: 1.0\n",
      "     Else (feature 3 > 122.0)\n",
      "      If (feature 7 <= 218.5)\n",
      "       Predict: 2.0\n",
      "      Else (feature 7 > 218.5)\n",
      "       Predict: 2.0\n",
      "  Else (feature 0 > 3035.5)\n",
      "   If (feature 0 <= 3316.5)\n",
      "    If (feature 7 <= 239.5)\n",
      "     If (feature 0 <= 3101.5)\n",
      "      If (feature 3 <= 191.0)\n",
      "       Predict: 1.0\n",
      "      Else (feature 3 > 191.0)\n",
      "       Predict: 2.0\n",
      "     Else (feature 0 > 3101.5)\n",
      "      If (feature 5 <= 1021.0)\n",
      "       Predict: 1.0\n",
      "      Else (feature 5 > 1021.0)\n",
      "       Predict: 1.0\n",
      "    Else (feature 7 > 239.5)\n",
      "     If (feature 3 <= 321.0)\n",
      "      If (feature 0 <= 3186.5)\n",
      "       Predict: 1.0\n",
      "      Else (feature 0 > 3186.5)\n",
      "       Predict: 1.0\n",
      "     Else (feature 3 > 321.0)\n",
      "      If (feature 0 <= 3205.5)\n",
      "       Predict: 2.0\n",
      "      Else (feature 0 > 3205.5)\n",
      "       Predict: 1.0\n",
      "   Else (feature 0 > 3316.5)\n",
      "    If (feature 12 <= 0.5)\n",
      "     If (feature 3 <= 280.0)\n",
      "      If (feature 6 <= 206.5)\n",
      "       Predict: 1.0\n",
      "      Else (feature 6 > 206.5)\n",
      "       Predict: 7.0\n",
      "     Else (feature 3 > 280.0)\n",
      "      If (feature 11 <= 0.5)\n",
      "       Predict: 1.0\n",
      "      Else (feature 11 > 0.5)\n",
      "       Predict: 1.0\n",
      "    Else (feature 12 > 0.5)\n",
      "     If (feature 45 <= 0.5)\n",
      "      If (feature 0 <= 3373.5)\n",
      "       Predict: 7.0\n",
      "      Else (feature 0 > 3373.5)\n",
      "       Predict: 7.0\n",
      "     Else (feature 45 > 0.5)\n",
      "      If (feature 5 <= 919.0)\n",
      "       Predict: 7.0\n",
      "      Else (feature 5 > 919.0)\n",
      "       Predict: 1.0\n",
      "\n",
      "(54,[0,3,5,6,7,9,10,11,12,15,17,22,35,45],[0.7827035581933921,0.04893233609138361,0.012760924951947153,0.002453129202411341,0.032714008086572745,0.0013816384342178586,0.03603365817418419,0.00299988782070404,0.011312343481613116,0.020493118309773347,0.027504542804693534,0.000431436466253903,0.003914528866327283,0.01636488911652566])\n"
     ]
    }
   ],
   "source": [
    "from pyspark.ml.classification import DecisionTreeClassifier\n",
    "classifier = DecisionTreeClassifier(labelCol=\"Cover_Type\", featuresCol=\"featureVector\", predictionCol=\"prediction\")\n",
    "model = classifier.fit(assembledTrainData)\n",
    "\n",
    "print(model.toDebugString)\n",
    "print(model.featureImportances)"
   ]
  },
  {
   "cell_type": "code",
   "execution_count": 13,
   "metadata": {
    "scrolled": true
   },
   "outputs": [
    {
     "name": "stdout",
     "output_type": "stream",
     "text": [
      "+----------+----------+-----------------------------------------------------------------------------------------------+\n",
      "|Cover_Type|prediction|probability                                                                                    |\n",
      "+----------+----------+-----------------------------------------------------------------------------------------------+\n",
      "|6.0       |3.0       |[0.0,0.0,0.03572755208860973,0.6286428257859724,0.04937020902981799,0.0,0.2862594130955999,0.0]|\n",
      "|6.0       |4.0       |[0.0,0.0,0.0444064901793339,0.28223740392826646,0.4269854824935952,0.0,0.24637062339880444,0.0]|\n",
      "|6.0       |3.0       |[0.0,0.0,0.03572755208860973,0.6286428257859724,0.04937020902981799,0.0,0.2862594130955999,0.0]|\n",
      "|6.0       |3.0       |[0.0,0.0,0.03572755208860973,0.6286428257859724,0.04937020902981799,0.0,0.2862594130955999,0.0]|\n",
      "|6.0       |3.0       |[0.0,0.0,0.03572755208860973,0.6286428257859724,0.04937020902981799,0.0,0.2862594130955999,0.0]|\n",
      "|6.0       |3.0       |[0.0,0.0,0.03572755208860973,0.6286428257859724,0.04937020902981799,0.0,0.2862594130955999,0.0]|\n",
      "|6.0       |3.0       |[0.0,0.0,0.03572755208860973,0.6286428257859724,0.04937020902981799,0.0,0.2862594130955999,0.0]|\n",
      "|6.0       |3.0       |[0.0,0.0,0.03572755208860973,0.6286428257859724,0.04937020902981799,0.0,0.2862594130955999,0.0]|\n",
      "|6.0       |3.0       |[0.0,0.0,0.03572755208860973,0.6286428257859724,0.04937020902981799,0.0,0.2862594130955999,0.0]|\n",
      "|6.0       |3.0       |[0.0,0.0,0.03572755208860973,0.6286428257859724,0.04937020902981799,0.0,0.2862594130955999,0.0]|\n",
      "|3.0       |3.0       |[0.0,0.0,0.03572755208860973,0.6286428257859724,0.04937020902981799,0.0,0.2862594130955999,0.0]|\n",
      "|6.0       |3.0       |[0.0,0.0,0.03572755208860973,0.6286428257859724,0.04937020902981799,0.0,0.2862594130955999,0.0]|\n",
      "|6.0       |3.0       |[0.0,0.0,0.03572755208860973,0.6286428257859724,0.04937020902981799,0.0,0.2862594130955999,0.0]|\n",
      "|3.0       |3.0       |[0.0,0.0,0.03572755208860973,0.6286428257859724,0.04937020902981799,0.0,0.2862594130955999,0.0]|\n",
      "|6.0       |3.0       |[0.0,0.0,0.03572755208860973,0.6286428257859724,0.04937020902981799,0.0,0.2862594130955999,0.0]|\n",
      "|6.0       |3.0       |[0.0,0.0,0.03572755208860973,0.6286428257859724,0.04937020902981799,0.0,0.2862594130955999,0.0]|\n",
      "|6.0       |3.0       |[0.0,0.0,0.03572755208860973,0.6286428257859724,0.04937020902981799,0.0,0.2862594130955999,0.0]|\n",
      "|6.0       |3.0       |[0.0,0.0,0.03572755208860973,0.6286428257859724,0.04937020902981799,0.0,0.2862594130955999,0.0]|\n",
      "|6.0       |3.0       |[0.0,0.0,0.03572755208860973,0.6286428257859724,0.04937020902981799,0.0,0.2862594130955999,0.0]|\n",
      "|6.0       |3.0       |[0.0,0.0,0.03572755208860973,0.6286428257859724,0.04937020902981799,0.0,0.2862594130955999,0.0]|\n",
      "+----------+----------+-----------------------------------------------------------------------------------------------+\n",
      "only showing top 20 rows\n",
      "\n"
     ]
    }
   ],
   "source": [
    "predictions = model.transform(assembledTrainData)\n",
    "predictions.select([\"Cover_Type\", \"prediction\", \"probability\"]).show(truncate=False)"
   ]
  },
  {
   "cell_type": "code",
   "execution_count": 15,
   "metadata": {},
   "outputs": [],
   "source": [
    "from pyspark.ml.evaluation import MulticlassClassificationEvaluator\n",
    "evaluator = MulticlassClassificationEvaluator(labelCol=\"Cover_Type\", predictionCol=\"prediction\")"
   ]
  },
  {
   "cell_type": "code",
   "execution_count": 16,
   "metadata": {},
   "outputs": [
    {
     "data": {
      "text/plain": [
       "0.6985440542665465"
      ]
     },
     "execution_count": 16,
     "metadata": {},
     "output_type": "execute_result"
    }
   ],
   "source": [
    "evaluator.setMetricName(\"accuracy\").evaluate(predictions)"
   ]
  },
  {
   "cell_type": "code",
   "execution_count": 17,
   "metadata": {},
   "outputs": [
    {
     "data": {
      "text/plain": [
       "0.6801324470946156"
      ]
     },
     "execution_count": 17,
     "metadata": {},
     "output_type": "execute_result"
    }
   ],
   "source": [
    "evaluator.setMetricName(\"f1\").evaluate(predictions)"
   ]
  },
  {
   "cell_type": "code",
   "execution_count": 17,
   "metadata": {},
   "outputs": [],
   "source": [
    "#### confusion matrix - not supported in PySpark ML library"
   ]
  },
  {
   "cell_type": "code",
   "execution_count": 18,
   "metadata": {},
   "outputs": [],
   "source": [
    "from pyspark.ml import Pipeline\n",
    "\n",
    "inputCols = trainData.columns[:-1]\n",
    "assembler = VectorAssembler(inputCols=inputCols, outputCol=\"featureVector\")\n",
    "classifier = DecisionTreeClassifier(labelCol=\"Cover_Type\", featuresCol=\"featureVector\", predictionCol=\"prediction\")\n",
    "pipeline = Pipeline(stages=[assembler, classifier])"
   ]
  },
  {
   "cell_type": "code",
   "execution_count": 22,
   "metadata": {},
   "outputs": [],
   "source": [
    "from pyspark.ml.tuning import ParamGridBuilder\n",
    "\n",
    "paramGrid = ParamGridBuilder()\\\n",
    "    .addGrid(classifier, [\"gini\", \"entropy\"])\\\n",
    "    .addGrid(classifier, [1, 20])\\\n",
    "    .addGrid(classifier, [40, 300])\\\n",
    "    .addGrid(classifier, [0.0, 0.05])\\\n",
    "    .build()"
   ]
  },
  {
   "cell_type": "code",
   "execution_count": 23,
   "metadata": {},
   "outputs": [
    {
     "data": {
      "text/plain": [
       "0.6985440542665465"
      ]
     },
     "execution_count": 23,
     "metadata": {},
     "output_type": "execute_result"
    }
   ],
   "source": [
    "multiclassEval = MulticlassClassificationEvaluator(\n",
    "    labelCol=\"Cover_Type\",\n",
    "    predictionCol=\"prediction\",\n",
    "    metricName=\"accuracy\")\n",
    "multiclassEval.evaluate(predictions)"
   ]
  },
  {
   "cell_type": "code",
   "execution_count": 24,
   "metadata": {},
   "outputs": [],
   "source": [
    "from pyspark.ml.tuning import TrainValidationSplit\n",
    "\n",
    "validator = TrainValidationSplit(\n",
    "    estimator=pipeline,\n",
    "    estimatorParamMaps=paramGrid,\n",
    "    evaluator=multiclassEval,\n",
    "    trainRatio=0.9)\n",
    "validatorModel = validator.fit(trainData)"
   ]
  },
  {
   "cell_type": "code",
   "execution_count": 25,
   "metadata": {},
   "outputs": [],
   "source": [
    "bestModel = validatorModel.bestModel"
   ]
  },
  {
   "cell_type": "code",
   "execution_count": 26,
   "metadata": {
    "scrolled": true
   },
   "outputs": [
    {
     "data": {
      "text/plain": [
       "{Param(parent='DecisionTreeClassifier_433abbefc9420553705f', name='cacheNodeIds', doc='If false, the algorithm will pass trees to executors to match instances with nodes. If true, the algorithm will cache node IDs for each instance. Caching can speed up training of deeper trees.'): False,\n",
       " Param(parent='DecisionTreeClassifier_433abbefc9420553705f', name='checkpointInterval', doc='set checkpoint interval (>= 1) or disable checkpoint (-1). E.g. 10 means that the cache will get checkpointed every 10 iterations. Note: this setting will be ignored if the checkpoint directory is not set in the SparkContext'): 10,\n",
       " Param(parent='DecisionTreeClassifier_433abbefc9420553705f', name='featuresCol', doc='features column name'): 'featureVector',\n",
       " Param(parent='DecisionTreeClassifier_433abbefc9420553705f', name='impurity', doc='Criterion used for information gain calculation (case-insensitive). Supported options: entropy, gini'): 'gini',\n",
       " Param(parent='DecisionTreeClassifier_433abbefc9420553705f', name='labelCol', doc='label column name'): 'Cover_Type',\n",
       " Param(parent='DecisionTreeClassifier_433abbefc9420553705f', name='maxBins', doc='Max number of bins for discretizing continuous features.  Must be >=2 and >= number of categories for any categorical feature.'): 32,\n",
       " Param(parent='DecisionTreeClassifier_433abbefc9420553705f', name='maxDepth', doc='Maximum depth of the tree. (>= 0) E.g., depth 0 means 1 leaf node; depth 1 means 1 internal node + 2 leaf nodes.'): 5,\n",
       " Param(parent='DecisionTreeClassifier_433abbefc9420553705f', name='maxMemoryInMB', doc='Maximum memory in MB allocated to histogram aggregation.'): 256,\n",
       " Param(parent='DecisionTreeClassifier_433abbefc9420553705f', name='minInfoGain', doc='Minimum information gain for a split to be considered at a tree node.'): 0.0,\n",
       " Param(parent='DecisionTreeClassifier_433abbefc9420553705f', name='minInstancesPerNode', doc='Minimum number of instances each child must have after split.  If a split causes the left or right child to have fewer than minInstancesPerNode, the split will be discarded as invalid. Should be >= 1.'): 1,\n",
       " Param(parent='DecisionTreeClassifier_433abbefc9420553705f', name='predictionCol', doc='prediction column name'): 'prediction',\n",
       " Param(parent='DecisionTreeClassifier_433abbefc9420553705f', name='probabilityCol', doc='Column name for predicted class conditional probabilities. Note: Not all models output well-calibrated probability estimates! These probabilities should be treated as confidences, not precise probabilities'): 'probability',\n",
       " Param(parent='DecisionTreeClassifier_433abbefc9420553705f', name='rawPredictionCol', doc='raw prediction (a.k.a. confidence) column name'): 'rawPrediction',\n",
       " Param(parent='DecisionTreeClassifier_433abbefc9420553705f', name='seed', doc='random seed'): 7947444667972363028}"
      ]
     },
     "execution_count": 26,
     "metadata": {},
     "output_type": "execute_result"
    }
   ],
   "source": [
    "bestModel.stages[-1].extractParamMap()"
   ]
  },
  {
   "cell_type": "code",
   "execution_count": 27,
   "metadata": {},
   "outputs": [
    {
     "data": {
      "text/plain": [
       "[0.6981244019138756, 0.6981244019138756]"
      ]
     },
     "execution_count": 27,
     "metadata": {},
     "output_type": "execute_result"
    }
   ],
   "source": [
    "paramsAndMetrics = validatorModel.validationMetrics\n",
    "paramsAndMetrics"
   ]
  },
  {
   "cell_type": "code",
   "execution_count": 28,
   "metadata": {},
   "outputs": [
    {
     "data": {
      "text/plain": [
       "0.7016941588424106"
      ]
     },
     "execution_count": 28,
     "metadata": {},
     "output_type": "execute_result"
    }
   ],
   "source": [
    "multiclassEval.evaluate(bestModel.transform(testData))"
   ]
  },
  {
   "cell_type": "markdown",
   "metadata": {},
   "source": [
    "#### undoing the one-hot encoding"
   ]
  },
  {
   "cell_type": "code",
   "execution_count": 29,
   "metadata": {},
   "outputs": [],
   "source": [
    "wildernessCols = []\n",
    "for i in range(4):\n",
    "    wildernessCols += [\"Wilderness_Area_\"+str(i),]"
   ]
  },
  {
   "cell_type": "code",
   "execution_count": 30,
   "metadata": {},
   "outputs": [],
   "source": [
    "wildernessAssembler = VectorAssembler(\n",
    "    inputCols=wildernessCols,\n",
    "    outputCol=\"wilderness\")"
   ]
  },
  {
   "cell_type": "code",
   "execution_count": 31,
   "metadata": {},
   "outputs": [],
   "source": [
    "from pyspark.sql.functions import udf\n",
    "from pyspark.sql.types import ArrayType, DoubleType, StructType\n",
    "\n",
    "unhotudf = udf(lambda x: float(x.toArray().nonzero()[0]), DoubleType())"
   ]
  },
  {
   "cell_type": "code",
   "execution_count": 32,
   "metadata": {
    "scrolled": false
   },
   "outputs": [
    {
     "data": {
      "text/plain": [
       "[Row(Elevation=2596, Aspect=51, Slope=3, Horizontal_Distance_To_Hydrology=258, Vertical_Distance_To_Hydrology=0, Horizontal_Distance_To_Roadways=510, Hillshade_9am=221, Hillshade_Noon=232, Hillshade_3pm=148, Horizontal_Distance_To_Fire_Points=6279, Soil_Type_0=0, Soil_Type_1=0, Soil_Type_2=0, Soil_Type_3=0, Soil_Type_4=0, Soil_Type_5=0, Soil_Type_6=0, Soil_Type_7=0, Soil_Type_8=0, Soil_Type_9=0, Soil_Type_10=0, Soil_Type_11=0, Soil_Type_12=0, Soil_Type_13=0, Soil_Type_14=0, Soil_Type_15=0, Soil_Type_16=0, Soil_Type_17=0, Soil_Type_18=0, Soil_Type_19=0, Soil_Type_20=0, Soil_Type_21=0, Soil_Type_22=0, Soil_Type_23=0, Soil_Type_24=0, Soil_Type_25=0, Soil_Type_26=0, Soil_Type_27=0, Soil_Type_28=1, Soil_Type_29=0, Soil_Type_30=0, Soil_Type_31=0, Soil_Type_32=0, Soil_Type_33=0, Soil_Type_34=0, Soil_Type_35=0, Soil_Type_36=0, Soil_Type_37=0, Soil_Type_38=0, Soil_Type_39=0, Cover_Type=5.0, wilderness=0.0)]"
      ]
     },
     "execution_count": 32,
     "metadata": {},
     "output_type": "execute_result"
    }
   ],
   "source": [
    "withWilderness = wildernessAssembler.transform(data)\n",
    "withWilderness = withWilderness\\\n",
    "    .drop(*wildernessCols)\\\n",
    "    .withColumn(\"wilderness\", unhotudf(withWilderness['wilderness']))\n",
    "withWilderness.take(1)"
   ]
  },
  {
   "cell_type": "code",
   "execution_count": 33,
   "metadata": {
    "scrolled": true
   },
   "outputs": [],
   "source": [
    "soilCols = []\n",
    "for i in range(40):\n",
    "    soilCols += [\"Soil_Type_\"+str(i),]\n"
   ]
  },
  {
   "cell_type": "code",
   "execution_count": 34,
   "metadata": {},
   "outputs": [
    {
     "data": {
      "text/plain": [
       "[Row(Elevation=2596, Aspect=51, Slope=3, Horizontal_Distance_To_Hydrology=258, Vertical_Distance_To_Hydrology=0, Horizontal_Distance_To_Roadways=510, Hillshade_9am=221, Hillshade_Noon=232, Hillshade_3pm=148, Horizontal_Distance_To_Fire_Points=6279, Cover_Type=5.0, wilderness=0.0, soil=28.0)]"
      ]
     },
     "execution_count": 34,
     "metadata": {},
     "output_type": "execute_result"
    }
   ],
   "source": [
    "soilAssembler = VectorAssembler(\n",
    "        inputCols=soilCols,\n",
    "        outputCol=\"soil\")\n",
    "\n",
    "withWilderness = soilAssembler.transform(withWilderness)\n",
    "unencData = withWilderness\\\n",
    "    .drop(*soilCols)\\\n",
    "    .withColumn(\"soil\", unhotudf(withWilderness['soil']))\n",
    "unencData.take(1)"
   ]
  },
  {
   "cell_type": "markdown",
   "metadata": {},
   "source": [
    "#### Decision Tree Classifier with unencoded data"
   ]
  },
  {
   "cell_type": "code",
   "execution_count": 35,
   "metadata": {},
   "outputs": [],
   "source": [
    "(unencTrainData, unencTestData) = unencData.randomSplit([0.9, 0.1])"
   ]
  },
  {
   "cell_type": "code",
   "execution_count": 36,
   "metadata": {},
   "outputs": [],
   "source": [
    "from pyspark.ml.feature import VectorIndexer\n",
    "\n",
    "inputCols = unencTrainData.drop('Cover_Type').columns\n",
    "assembler = VectorAssembler(\n",
    "    inputCols=inputCols,\n",
    "    outputCol=\"featureVector\")\n",
    "indexer = VectorIndexer(\n",
    "    maxCategories=40,\n",
    "    inputCol=\"featureVector\",\n",
    "    outputCol=\"indexedVector\")\n",
    "classifier = DecisionTreeClassifier(\n",
    "    seed=42,\n",
    "    labelCol=\"Cover_Type\",\n",
    "    featuresCol=\"indexedVector\",\n",
    "    predictionCol=\"prediction\")\n",
    "pipeline = Pipeline(stages=[assembler, indexer, classifier])"
   ]
  },
  {
   "cell_type": "markdown",
   "metadata": {},
   "source": [
    "#### Random Forest Classifier"
   ]
  },
  {
   "cell_type": "code",
   "execution_count": 37,
   "metadata": {},
   "outputs": [],
   "source": [
    "from pyspark.ml.classification import RandomForestClassifier\n",
    "classifier = RandomForestClassifier(\n",
    "    seed=42,\n",
    "    maxBins=40,\n",
    "    labelCol=\"Cover_Type\",\n",
    "    featuresCol=\"indexedVector\",\n",
    "    predictionCol=\"prediction\")\n",
    "pipeline = Pipeline(stages=[assembler, indexer, classifier])"
   ]
  },
  {
   "cell_type": "code",
   "execution_count": 39,
   "metadata": {},
   "outputs": [],
   "source": [
    "paramGrid = ParamGridBuilder()\\\n",
    "    .addGrid(classifier.minInfoGain, [0.0, 0.05])\\\n",
    "    .addGrid(classifier.numTrees, [1, 10])\\\n",
    "    .build()"
   ]
  },
  {
   "cell_type": "code",
   "execution_count": 40,
   "metadata": {},
   "outputs": [],
   "source": [
    "multiclassEval = MulticlassClassificationEvaluator(\n",
    "    labelCol=\"Cover_Type\",\n",
    "    predictionCol=\"prediction\",\n",
    "    metricName=\"accuracy\")"
   ]
  },
  {
   "cell_type": "code",
   "execution_count": 41,
   "metadata": {},
   "outputs": [],
   "source": [
    "validator = TrainValidationSplit(\n",
    "    seed=42,\n",
    "    estimator=pipeline,\n",
    "    evaluator=multiclassEval,\n",
    "    estimatorParamMaps=paramGrid,\n",
    "    trainRatio=0.9)"
   ]
  },
  {
   "cell_type": "code",
   "execution_count": 42,
   "metadata": {
    "scrolled": true
   },
   "outputs": [
    {
     "name": "stdout",
     "output_type": "stream",
     "text": [
      "{Param(parent='RandomForestClassifier_487d8d8c18a1ce62d9c4', name='cacheNodeIds', doc='If false, the algorithm will pass trees to executors to match instances with nodes. If true, the algorithm will cache node IDs for each instance. Caching can speed up training of deeper trees.'): False, Param(parent='RandomForestClassifier_487d8d8c18a1ce62d9c4', name='checkpointInterval', doc='set checkpoint interval (>= 1) or disable checkpoint (-1). E.g. 10 means that the cache will get checkpointed every 10 iterations. Note: this setting will be ignored if the checkpoint directory is not set in the SparkContext'): 10, Param(parent='RandomForestClassifier_487d8d8c18a1ce62d9c4', name='featureSubsetStrategy', doc='The number of features to consider for splits at each tree node. Supported options: auto, all, onethird, sqrt, log2, (0.0-1.0], [1-n].'): 'auto', Param(parent='RandomForestClassifier_487d8d8c18a1ce62d9c4', name='featuresCol', doc='features column name'): 'indexedVector', Param(parent='RandomForestClassifier_487d8d8c18a1ce62d9c4', name='impurity', doc='Criterion used for information gain calculation (case-insensitive). Supported options: entropy, gini'): 'gini', Param(parent='RandomForestClassifier_487d8d8c18a1ce62d9c4', name='labelCol', doc='label column name'): 'Cover_Type', Param(parent='RandomForestClassifier_487d8d8c18a1ce62d9c4', name='maxBins', doc='Max number of bins for discretizing continuous features.  Must be >=2 and >= number of categories for any categorical feature.'): 40, Param(parent='RandomForestClassifier_487d8d8c18a1ce62d9c4', name='maxDepth', doc='Maximum depth of the tree. (>= 0) E.g., depth 0 means 1 leaf node; depth 1 means 1 internal node + 2 leaf nodes.'): 5, Param(parent='RandomForestClassifier_487d8d8c18a1ce62d9c4', name='maxMemoryInMB', doc='Maximum memory in MB allocated to histogram aggregation.'): 256, Param(parent='RandomForestClassifier_487d8d8c18a1ce62d9c4', name='minInfoGain', doc='Minimum information gain for a split to be considered at a tree node.'): 0.0, Param(parent='RandomForestClassifier_487d8d8c18a1ce62d9c4', name='minInstancesPerNode', doc='Minimum number of instances each child must have after split.  If a split causes the left or right child to have fewer than minInstancesPerNode, the split will be discarded as invalid. Should be >= 1.'): 1, Param(parent='RandomForestClassifier_487d8d8c18a1ce62d9c4', name='numTrees', doc='Number of trees to train (>= 1)'): 1, Param(parent='RandomForestClassifier_487d8d8c18a1ce62d9c4', name='predictionCol', doc='prediction column name'): 'prediction', Param(parent='RandomForestClassifier_487d8d8c18a1ce62d9c4', name='probabilityCol', doc='Column name for predicted class conditional probabilities. Note: Not all models output well-calibrated probability estimates! These probabilities should be treated as confidences, not precise probabilities'): 'probability', Param(parent='RandomForestClassifier_487d8d8c18a1ce62d9c4', name='rawPredictionCol', doc='raw prediction (a.k.a. confidence) column name'): 'rawPrediction', Param(parent='RandomForestClassifier_487d8d8c18a1ce62d9c4', name='seed', doc='random seed'): 42, Param(parent='RandomForestClassifier_487d8d8c18a1ce62d9c4', name='subsamplingRate', doc='Fraction of the training data used for learning each decision tree, in range (0, 1].'): 1.0}\n",
      "Wall time: 4min 19s\n"
     ]
    }
   ],
   "source": [
    "%%time\n",
    "validatorModel = validator.fit(unencTrainData)\n",
    "bestModel = validatorModel.bestModel\n",
    "forestModel = bestModel.stages[-1]\n",
    "print(forestModel.extractParamMap())"
   ]
  },
  {
   "cell_type": "code",
   "execution_count": 43,
   "metadata": {},
   "outputs": [
    {
     "data": {
      "text/plain": [
       "1"
      ]
     },
     "execution_count": 43,
     "metadata": {},
     "output_type": "execute_result"
    }
   ],
   "source": [
    "forestModel.getNumTrees"
   ]
  },
  {
   "cell_type": "code",
   "execution_count": 44,
   "metadata": {},
   "outputs": [
    {
     "data": {
      "text/plain": [
       "[('Elevation', 0.7830407302460989),\n",
       " ('soil', 0.11246799802207412),\n",
       " ('wilderness', 0.0360537582305858),\n",
       " ('Horizontal_Distance_To_Roadways', 0.03567176793162674),\n",
       " ('Horizontal_Distance_To_Fire_Points', 0.012947058869423229),\n",
       " ('Hillshade_Noon', 0.009230795355062984),\n",
       " ('Horizontal_Distance_To_Hydrology', 0.008267537972706721),\n",
       " ('Hillshade_3pm', 0.0023203533724215357),\n",
       " ('Aspect', 0.0),\n",
       " ('Slope', 0.0),\n",
       " ('Vertical_Distance_To_Hydrology', 0.0),\n",
       " ('Hillshade_9am', 0.0)]"
      ]
     },
     "execution_count": 44,
     "metadata": {},
     "output_type": "execute_result"
    }
   ],
   "source": [
    "sorted(list(zip(inputCols, forestModel.featureImportances)), key=lambda x: x[1], reverse=True)"
   ]
  },
  {
   "cell_type": "code",
   "execution_count": 45,
   "metadata": {},
   "outputs": [
    {
     "data": {
      "text/plain": [
       "0.699871783913155"
      ]
     },
     "execution_count": 45,
     "metadata": {},
     "output_type": "execute_result"
    }
   ],
   "source": [
    "testAccuracy = multiclassEval.evaluate(bestModel.transform(unencTestData))\n",
    "testAccuracy"
   ]
  },
  {
   "cell_type": "code",
   "execution_count": 46,
   "metadata": {
    "scrolled": true
   },
   "outputs": [
    {
     "name": "stdout",
     "output_type": "stream",
     "text": [
      "+---------+------+-----+--------------------------------+------------------------------+-------------------------------+-------------+--------------+-------------+----------------------------------+----------+----+--------------------+--------------------+--------------------+--------------------+----------+\n",
      "|Elevation|Aspect|Slope|Horizontal_Distance_To_Hydrology|Vertical_Distance_To_Hydrology|Horizontal_Distance_To_Roadways|Hillshade_9am|Hillshade_Noon|Hillshade_3pm|Horizontal_Distance_To_Fire_Points|wilderness|soil|       featureVector|       indexedVector|       rawPrediction|         probability|prediction|\n",
      "+---------+------+-----+--------------------------------+------------------------------+-------------------------------+-------------+--------------+-------------+----------------------------------+----------+----+--------------------+--------------------+--------------------+--------------------+----------+\n",
      "|     1896|   337|   12|                              30|                             6|                            175|          195|           224|          168|                               732|       3.0| 4.0|[1896.0,337.0,12....|[1896.0,337.0,12....|[0.0,5.8997050147...|[0.0,5.8997050147...|       3.0|\n",
      "|     1918|   321|   28|                              42|                            17|                             85|          139|           201|          196|                               402|       3.0| 9.0|[1918.0,321.0,28....|[1918.0,321.0,28....|[0.0,0.0,0.040035...|[0.0,0.0,0.040035...|       3.0|\n",
      "|     1951|    33|   36|                             150|                            96|                            150|          188|           137|           60|                               907|       3.0| 4.0|[1951.0,33.0,36.0...|[1951.0,33.0,36.0...|[0.0,5.8997050147...|[0.0,5.8997050147...|       3.0|\n",
      "|     1962|    87|   20|                             124|                            50|                            124|          245|           203|           79|                               541|       3.0| 2.0|[1962.0,87.0,20.0...|[1962.0,87.0,20.0...|[0.0,5.8997050147...|[0.0,5.8997050147...|       3.0|\n",
      "|     1962|   320|   34|                              90|                            66|                            150|          114|           185|          200|                               408|       3.0| 9.0|[1962.0,320.0,34....|[1962.0,320.0,34....|[0.0,0.0,0.040035...|[0.0,0.0,0.040035...|       3.0|\n",
      "|     1972|    50|   21|                             162|                            12|                            210|          224|           190|           90|                               558|       3.0| 0.0|[1972.0,50.0,21.0...|[1972.0,50.0,21.0...|[0.0,5.8997050147...|[0.0,5.8997050147...|       3.0|\n",
      "|     1978|   346|   37|                             134|                            91|                            150|          124|           154|          151|                               108|       3.0| 9.0|[1978.0,346.0,37....|[1978.0,346.0,37....|[0.0,0.0,0.040035...|[0.0,0.0,0.040035...|       3.0|\n",
      "|     1982|    46|   38|                              42|                            29|                            108|          201|           130|           32|                               324|       3.0| 0.0|[1982.0,46.0,38.0...|[1982.0,46.0,38.0...|[0.0,5.8997050147...|[0.0,5.8997050147...|       3.0|\n",
      "|     1991|   337|   16|                               0|                             0|                            180|          183|           216|          171|                               510|       3.0| 9.0|[1991.0,337.0,16....|[1991.0,337.0,16....|[0.0,0.0,0.184573...|[0.0,0.0,0.184573...|       3.0|\n",
      "|     1993|   291|   41|                             127|                            96|                            150|           78|           197|          240|                               300|       3.0| 9.0|[1993.0,291.0,41....|[1993.0,291.0,41....|[0.0,0.0,0.040035...|[0.0,0.0,0.040035...|       3.0|\n",
      "|     2009|   330|   13|                              30|                             6|                             67|          189|           224|          174|                               738|       3.0|16.0|[2009.0,330.0,13....|[2009.0,330.0,13....|[0.0,0.0,0.040035...|[0.0,0.0,0.040035...|       3.0|\n",
      "|     2020|   358|   25|                               0|                             0|                            531|          174|           186|          143|                               511|       3.0| 9.0|[2020.0,358.0,25....|[2020.0,358.0,25....|[0.0,0.0,0.184573...|[0.0,0.0,0.184573...|       3.0|\n",
      "|     2022|    24|   13|                             391|                            42|                            509|          212|           212|          134|                               421|       3.0| 4.0|[2022.0,24.0,13.0...|[2022.0,24.0,13.0...|[0.0,5.8997050147...|[0.0,5.8997050147...|       3.0|\n",
      "|     2026|   271|   34|                              60|                            23|                            212|          114|           228|          242|                               277|       3.0|16.0|[2026.0,271.0,34....|[2026.0,271.0,34....|[0.0,0.0,0.040035...|[0.0,0.0,0.040035...|       3.0|\n",
      "|     2027|   119|   21|                              30|                             8|                            360|          251|           216|           83|                               430|       3.0| 5.0|[2027.0,119.0,21....|[2027.0,119.0,21....|[0.0,5.8997050147...|[0.0,5.8997050147...|       3.0|\n",
      "|     2029|   107|   34|                             330|                           162|                            360|          254|           178|           23|                               992|       3.0| 2.0|[2029.0,107.0,34....|[2029.0,107.0,34....|[0.0,5.8997050147...|[0.0,5.8997050147...|       3.0|\n",
      "|     2030|    77|   22|                              67|                             9|                            474|          241|           195|           74|                               616|       3.0| 5.0|[2030.0,77.0,22.0...|[2030.0,77.0,22.0...|[0.0,5.8997050147...|[0.0,5.8997050147...|       3.0|\n",
      "|     2032|    81|   10|                               0|                             0|                            488|          234|           222|          118|                               618|       3.0|16.0|[2032.0,81.0,10.0...|[2032.0,81.0,10.0...|[0.0,0.0,0.025541...|[0.0,0.0,0.025541...|       4.0|\n",
      "|     2034|    55|   22|                              30|                            -2|                            547|          228|           188|           83|                               524|       3.0| 9.0|[2034.0,55.0,22.0...|[2034.0,55.0,22.0...|[0.0,0.0,0.040035...|[0.0,0.0,0.040035...|       3.0|\n",
      "|     2039|   329|   31|                              30|                            23|                            270|          131|           186|          186|                               450|       3.0| 9.0|[2039.0,329.0,31....|[2039.0,329.0,31....|[0.0,0.0,0.040035...|[0.0,0.0,0.040035...|       3.0|\n",
      "+---------+------+-----+--------------------------------+------------------------------+-------------------------------+-------------+--------------+-------------+----------------------------------+----------+----+--------------------+--------------------+--------------------+--------------------+----------+\n",
      "only showing top 20 rows\n",
      "\n"
     ]
    }
   ],
   "source": [
    "bestModel.transform(unencTestData.drop(\"Cover_Type\")).show()"
   ]
  },
  {
   "cell_type": "code",
   "execution_count": 47,
   "metadata": {},
   "outputs": [],
   "source": [
    "from pyspark.ml.classification import LogisticRegression"
   ]
  },
  {
   "cell_type": "code",
   "execution_count": 73,
   "metadata": {},
   "outputs": [],
   "source": [
    "(trainData, testData) = data.randomSplit([0.9, 0.1])"
   ]
  },
  {
   "cell_type": "code",
   "execution_count": 74,
   "metadata": {},
   "outputs": [],
   "source": [
    "inputCols = trainData.drop('Cover_Type').columns"
   ]
  },
  {
   "cell_type": "code",
   "execution_count": 75,
   "metadata": {
    "collapsed": true
   },
   "outputs": [
    {
     "name": "stdout",
     "output_type": "stream",
     "text": [
      "+-----------------------------------------------------------------------------------------------------+\n",
      "|featureVector                                                                                        |\n",
      "+-----------------------------------------------------------------------------------------------------+\n",
      "|(54,[0,1,2,3,4,5,6,7,8,9,13,15],[1863.0,37.0,17.0,120.0,18.0,90.0,217.0,202.0,115.0,769.0,1.0,1.0])  |\n",
      "|(54,[0,1,2,5,6,7,8,9,13,18],[1874.0,18.0,14.0,90.0,208.0,209.0,135.0,793.0,1.0,1.0])                 |\n",
      "|(54,[0,1,2,3,4,5,6,7,8,9,13,18],[1879.0,28.0,19.0,30.0,12.0,95.0,209.0,196.0,117.0,778.0,1.0,1.0])   |\n",
      "|(54,[0,1,2,3,4,5,6,7,8,9,13,15],[1888.0,33.0,22.0,150.0,46.0,108.0,209.0,185.0,103.0,735.0,1.0,1.0]) |\n",
      "|(54,[0,1,2,3,4,5,6,7,8,9,13,14],[1889.0,28.0,22.0,150.0,23.0,120.0,205.0,185.0,108.0,759.0,1.0,1.0]) |\n",
      "|(54,[0,1,2,3,4,5,6,7,8,9,13,18],[1896.0,337.0,12.0,30.0,6.0,175.0,195.0,224.0,168.0,732.0,1.0,1.0])  |\n",
      "|(54,[0,1,2,3,4,5,6,7,8,9,13,15],[1898.0,34.0,23.0,175.0,56.0,134.0,210.0,184.0,99.0,765.0,1.0,1.0])  |\n",
      "|(54,[0,1,2,3,4,5,6,7,8,9,13,18],[1899.0,355.0,22.0,153.0,43.0,124.0,178.0,195.0,151.0,819.0,1.0,1.0])|\n",
      "|(54,[0,1,2,3,4,5,6,7,8,9,13,14],[1901.0,311.0,9.0,30.0,2.0,190.0,195.0,234.0,179.0,726.0,1.0,1.0])   |\n",
      "|(54,[0,1,2,3,4,5,6,7,8,9,13,14],[1903.0,5.0,13.0,42.0,4.0,201.0,203.0,214.0,148.0,708.0,1.0,1.0])    |\n",
      "|(54,[0,1,2,3,4,5,6,7,8,9,13,16],[1903.0,67.0,16.0,108.0,36.0,120.0,234.0,207.0,100.0,969.0,1.0,1.0]) |\n",
      "|(54,[0,1,2,3,4,5,6,7,8,9,13,14],[1904.0,51.0,26.0,67.0,30.0,162.0,222.0,175.0,72.0,711.0,1.0,1.0])   |\n",
      "|(54,[0,1,2,3,4,5,6,7,8,9,13,18],[1905.0,19.0,27.0,134.0,58.0,120.0,188.0,171.0,108.0,636.0,1.0,1.0]) |\n",
      "|(54,[0,1,2,3,4,5,6,7,8,9,13,14],[1905.0,33.0,27.0,90.0,46.0,150.0,204.0,171.0,89.0,725.0,1.0,1.0])   |\n",
      "|(54,[0,1,2,3,4,5,6,7,8,9,13,15],[1906.0,356.0,20.0,150.0,55.0,120.0,184.0,201.0,151.0,726.0,1.0,1.0])|\n",
      "|(54,[0,1,2,3,4,5,6,7,8,9,13,18],[1908.0,323.0,32.0,150.0,52.0,120.0,125.0,190.0,196.0,765.0,1.0,1.0])|\n",
      "|(54,[0,1,2,3,4,5,6,7,8,9,13,15],[1916.0,24.0,25.0,212.0,74.0,175.0,197.0,177.0,105.0,789.0,1.0,1.0]) |\n",
      "|(54,[0,1,2,3,4,5,6,7,8,9,13,18],[1916.0,320.0,24.0,190.0,60.0,162.0,151.0,210.0,195.0,832.0,1.0,1.0])|\n",
      "|(54,[0,1,2,3,4,5,6,7,8,9,13,23],[1918.0,321.0,28.0,42.0,17.0,85.0,139.0,201.0,196.0,402.0,1.0,1.0])  |\n",
      "|(54,[0,1,2,3,4,5,6,7,8,9,13,14],[1919.0,30.0,22.0,67.0,9.0,256.0,208.0,188.0,107.0,661.0,1.0,1.0])   |\n",
      "+-----------------------------------------------------------------------------------------------------+\n",
      "only showing top 20 rows\n",
      "\n"
     ]
    }
   ],
   "source": [
    "assembler = VectorAssembler(\n",
    "    inputCols=inputCols,\n",
    "    outputCol=\"featureVector\")\n",
    "assembledTrainData = assembler.transform(trainData)\n",
    "assembledTrainData.select('featureVector').show(truncate=False)"
   ]
  },
  {
   "cell_type": "code",
   "execution_count": 76,
   "metadata": {},
   "outputs": [],
   "source": [
    "inputCols = testData.drop('Cover_Type').columns"
   ]
  },
  {
   "cell_type": "code",
   "execution_count": 77,
   "metadata": {},
   "outputs": [],
   "source": [
    "assembler = VectorAssembler(\n",
    "    inputCols=inputCols,\n",
    "    outputCol=\"featureVector\")\n",
    "assembledTestData = assembler.transform(testData)"
   ]
  },
  {
   "cell_type": "code",
   "execution_count": 60,
   "metadata": {},
   "outputs": [],
   "source": [
    "lr = LogisticRegression(maxIter=10, \n",
    "                        regParam=0.3, \n",
    "                        elasticNetParam=0.8, \n",
    "                        labelCol=\"Cover_Type\",\n",
    "                        featuresCol=\"featureVector\",\n",
    "                        predictionCol=\"prediction\")"
   ]
  },
  {
   "cell_type": "code",
   "execution_count": 61,
   "metadata": {
    "scrolled": true
   },
   "outputs": [],
   "source": [
    "lrModel = lr.fit(assembledTrainData)"
   ]
  },
  {
   "cell_type": "code",
   "execution_count": 62,
   "metadata": {
    "collapsed": true
   },
   "outputs": [
    {
     "name": "stdout",
     "output_type": "stream",
     "text": [
      "+----------+----------+-------------------------------------------------------------------------------------------------------------------------------------------------------------------+\n",
      "|Cover_Type|prediction|probability                                                                                                                                                        |\n",
      "+----------+----------+-------------------------------------------------------------------------------------------------------------------------------------------------------------------+\n",
      "|6.0       |2.0       |[1.911923718971162E-6,0.3642014745902969,0.487820912763859,0.06165824436851518,0.0047233157125177345,0.016397432599075345,0.029913001696554368,0.03528370634546256]|\n",
      "|6.0       |2.0       |[1.911923718971162E-6,0.3642014745902969,0.487820912763859,0.06165824436851518,0.0047233157125177345,0.016397432599075345,0.029913001696554368,0.03528370634546256]|\n",
      "|6.0       |2.0       |[1.911923718971162E-6,0.3642014745902969,0.487820912763859,0.06165824436851518,0.0047233157125177345,0.016397432599075345,0.029913001696554368,0.03528370634546256]|\n",
      "|6.0       |2.0       |[1.911923718971162E-6,0.3642014745902969,0.487820912763859,0.06165824436851518,0.0047233157125177345,0.016397432599075345,0.029913001696554368,0.03528370634546256]|\n",
      "|6.0       |2.0       |[1.911923718971162E-6,0.3642014745902969,0.487820912763859,0.06165824436851518,0.0047233157125177345,0.016397432599075345,0.029913001696554368,0.03528370634546256]|\n",
      "|6.0       |2.0       |[1.911923718971162E-6,0.3642014745902969,0.487820912763859,0.06165824436851518,0.0047233157125177345,0.016397432599075345,0.029913001696554368,0.03528370634546256]|\n",
      "|6.0       |2.0       |[1.911923718971162E-6,0.3642014745902969,0.487820912763859,0.06165824436851518,0.0047233157125177345,0.016397432599075345,0.029913001696554368,0.03528370634546256]|\n",
      "|6.0       |2.0       |[1.911923718971162E-6,0.3642014745902969,0.487820912763859,0.06165824436851518,0.0047233157125177345,0.016397432599075345,0.029913001696554368,0.03528370634546256]|\n",
      "|6.0       |2.0       |[1.911923718971162E-6,0.3642014745902969,0.487820912763859,0.06165824436851518,0.0047233157125177345,0.016397432599075345,0.029913001696554368,0.03528370634546256]|\n",
      "|3.0       |2.0       |[1.911923718971162E-6,0.3642014745902969,0.487820912763859,0.06165824436851518,0.0047233157125177345,0.016397432599075345,0.029913001696554368,0.03528370634546256]|\n",
      "|6.0       |2.0       |[1.911923718971162E-6,0.3642014745902969,0.487820912763859,0.06165824436851518,0.0047233157125177345,0.016397432599075345,0.029913001696554368,0.03528370634546256]|\n",
      "|6.0       |2.0       |[1.911923718971162E-6,0.3642014745902969,0.487820912763859,0.06165824436851518,0.0047233157125177345,0.016397432599075345,0.029913001696554368,0.03528370634546256]|\n",
      "|3.0       |2.0       |[1.911923718971162E-6,0.3642014745902969,0.487820912763859,0.06165824436851518,0.0047233157125177345,0.016397432599075345,0.029913001696554368,0.03528370634546256]|\n",
      "|6.0       |2.0       |[1.911923718971162E-6,0.3642014745902969,0.487820912763859,0.06165824436851518,0.0047233157125177345,0.016397432599075345,0.029913001696554368,0.03528370634546256]|\n",
      "|6.0       |2.0       |[1.911923718971162E-6,0.3642014745902969,0.487820912763859,0.06165824436851518,0.0047233157125177345,0.016397432599075345,0.029913001696554368,0.03528370634546256]|\n",
      "|6.0       |2.0       |[1.911923718971162E-6,0.3642014745902969,0.487820912763859,0.06165824436851518,0.0047233157125177345,0.016397432599075345,0.029913001696554368,0.03528370634546256]|\n",
      "|6.0       |2.0       |[1.911923718971162E-6,0.3642014745902969,0.487820912763859,0.06165824436851518,0.0047233157125177345,0.016397432599075345,0.029913001696554368,0.03528370634546256]|\n",
      "|3.0       |2.0       |[1.911923718971162E-6,0.3642014745902969,0.487820912763859,0.06165824436851518,0.0047233157125177345,0.016397432599075345,0.029913001696554368,0.03528370634546256]|\n",
      "|6.0       |2.0       |[1.911923718971162E-6,0.3642014745902969,0.487820912763859,0.06165824436851518,0.0047233157125177345,0.016397432599075345,0.029913001696554368,0.03528370634546256]|\n",
      "|6.0       |2.0       |[1.911923718971162E-6,0.3642014745902969,0.487820912763859,0.06165824436851518,0.0047233157125177345,0.016397432599075345,0.029913001696554368,0.03528370634546256]|\n",
      "+----------+----------+-------------------------------------------------------------------------------------------------------------------------------------------------------------------+\n",
      "only showing top 20 rows\n",
      "\n"
     ]
    }
   ],
   "source": [
    "predictions = lrModel.transform(assembledTrainData)\n",
    "predictions.select([\"Cover_Type\", \"prediction\", \"probability\"]).show(truncate=False)"
   ]
  },
  {
   "cell_type": "code",
   "execution_count": 63,
   "metadata": {},
   "outputs": [],
   "source": [
    "evaluator = MulticlassClassificationEvaluator(labelCol=\"Cover_Type\", predictionCol=\"prediction\")"
   ]
  },
  {
   "cell_type": "code",
   "execution_count": 64,
   "metadata": {},
   "outputs": [
    {
     "data": {
      "text/plain": [
       "0.4878233568849834"
      ]
     },
     "execution_count": 64,
     "metadata": {},
     "output_type": "execute_result"
    }
   ],
   "source": [
    "evaluator.setMetricName(\"accuracy\").evaluate(predictions)"
   ]
  },
  {
   "cell_type": "code",
   "execution_count": 65,
   "metadata": {},
   "outputs": [
    {
     "data": {
      "text/plain": [
       "0.31989231305088367"
      ]
     },
     "execution_count": 65,
     "metadata": {},
     "output_type": "execute_result"
    }
   ],
   "source": [
    "evaluator.setMetricName(\"f1\").evaluate(predictions)"
   ]
  },
  {
   "cell_type": "code",
   "execution_count": 79,
   "metadata": {
    "collapsed": true
   },
   "outputs": [
    {
     "name": "stdout",
     "output_type": "stream",
     "text": [
      "+----------+----------+-------------------------------------------------------------------------------------------------------------------------------------------------------------------+\n",
      "|Cover_Type|prediction|probability                                                                                                                                                        |\n",
      "+----------+----------+-------------------------------------------------------------------------------------------------------------------------------------------------------------------+\n",
      "|6.0       |2.0       |[1.911923718971162E-6,0.3642014745902969,0.487820912763859,0.06165824436851518,0.0047233157125177345,0.016397432599075345,0.029913001696554368,0.03528370634546256]|\n",
      "|3.0       |2.0       |[1.911923718971162E-6,0.3642014745902969,0.487820912763859,0.06165824436851518,0.0047233157125177345,0.016397432599075345,0.029913001696554368,0.03528370634546256]|\n",
      "|6.0       |2.0       |[1.911923718971162E-6,0.3642014745902969,0.487820912763859,0.06165824436851518,0.0047233157125177345,0.016397432599075345,0.029913001696554368,0.03528370634546256]|\n",
      "|3.0       |2.0       |[1.911923718971162E-6,0.3642014745902969,0.487820912763859,0.06165824436851518,0.0047233157125177345,0.016397432599075345,0.029913001696554368,0.03528370634546256]|\n",
      "|3.0       |2.0       |[1.911923718971162E-6,0.3642014745902969,0.487820912763859,0.06165824436851518,0.0047233157125177345,0.016397432599075345,0.029913001696554368,0.03528370634546256]|\n",
      "|6.0       |2.0       |[1.911923718971162E-6,0.3642014745902969,0.487820912763859,0.06165824436851518,0.0047233157125177345,0.016397432599075345,0.029913001696554368,0.03528370634546256]|\n",
      "|3.0       |2.0       |[1.911923718971162E-6,0.3642014745902969,0.487820912763859,0.06165824436851518,0.0047233157125177345,0.016397432599075345,0.029913001696554368,0.03528370634546256]|\n",
      "|6.0       |2.0       |[1.911923718971162E-6,0.3642014745902969,0.487820912763859,0.06165824436851518,0.0047233157125177345,0.016397432599075345,0.029913001696554368,0.03528370634546256]|\n",
      "|6.0       |2.0       |[1.911923718971162E-6,0.3642014745902969,0.487820912763859,0.06165824436851518,0.0047233157125177345,0.016397432599075345,0.029913001696554368,0.03528370634546256]|\n",
      "|4.0       |2.0       |[1.911923718971162E-6,0.3642014745902969,0.487820912763859,0.06165824436851518,0.0047233157125177345,0.016397432599075345,0.029913001696554368,0.03528370634546256]|\n",
      "|4.0       |2.0       |[1.911923718971162E-6,0.3642014745902969,0.487820912763859,0.06165824436851518,0.0047233157125177345,0.016397432599075345,0.029913001696554368,0.03528370634546256]|\n",
      "|4.0       |2.0       |[1.911923718971162E-6,0.3642014745902969,0.487820912763859,0.06165824436851518,0.0047233157125177345,0.016397432599075345,0.029913001696554368,0.03528370634546256]|\n",
      "|3.0       |2.0       |[1.911923718971162E-6,0.3642014745902969,0.487820912763859,0.06165824436851518,0.0047233157125177345,0.016397432599075345,0.029913001696554368,0.03528370634546256]|\n",
      "|4.0       |2.0       |[1.911923718971162E-6,0.3642014745902969,0.487820912763859,0.06165824436851518,0.0047233157125177345,0.016397432599075345,0.029913001696554368,0.03528370634546256]|\n",
      "|4.0       |2.0       |[1.911923718971162E-6,0.3642014745902969,0.487820912763859,0.06165824436851518,0.0047233157125177345,0.016397432599075345,0.029913001696554368,0.03528370634546256]|\n",
      "|3.0       |2.0       |[1.911923718971162E-6,0.3642014745902969,0.487820912763859,0.06165824436851518,0.0047233157125177345,0.016397432599075345,0.029913001696554368,0.03528370634546256]|\n",
      "|6.0       |2.0       |[1.911923718971162E-6,0.3642014745902969,0.487820912763859,0.06165824436851518,0.0047233157125177345,0.016397432599075345,0.029913001696554368,0.03528370634546256]|\n",
      "|3.0       |2.0       |[1.911923718971162E-6,0.3642014745902969,0.487820912763859,0.06165824436851518,0.0047233157125177345,0.016397432599075345,0.029913001696554368,0.03528370634546256]|\n",
      "|6.0       |2.0       |[1.911923718971162E-6,0.3642014745902969,0.487820912763859,0.06165824436851518,0.0047233157125177345,0.016397432599075345,0.029913001696554368,0.03528370634546256]|\n",
      "|4.0       |2.0       |[1.911923718971162E-6,0.3642014745902969,0.487820912763859,0.06165824436851518,0.0047233157125177345,0.016397432599075345,0.029913001696554368,0.03528370634546256]|\n",
      "+----------+----------+-------------------------------------------------------------------------------------------------------------------------------------------------------------------+\n",
      "only showing top 20 rows\n",
      "\n"
     ]
    }
   ],
   "source": [
    "test = lrModel.transform(assembledTestData)\n",
    "test.select([\"Cover_Type\", \"prediction\", \"probability\"]).show(truncate=False)"
   ]
  },
  {
   "cell_type": "code",
   "execution_count": 80,
   "metadata": {},
   "outputs": [
    {
     "data": {
      "text/plain": [
       "0.48911947212772866"
      ]
     },
     "execution_count": 80,
     "metadata": {},
     "output_type": "execute_result"
    }
   ],
   "source": [
    "evaluator.setMetricName(\"accuracy\").evaluate(test)"
   ]
  },
  {
   "cell_type": "code",
   "execution_count": 81,
   "metadata": {},
   "outputs": [],
   "source": [
    "inputCols = trainData.columns[:-1]\n",
    "assembler = VectorAssembler(inputCols=inputCols, outputCol=\"featureVector\")\n",
    "# classifier = DecisionTreeClassifier(labelCol=\"Cover_Type\", featuresCol=\"featureVector\", predictionCol=\"prediction\")\n",
    "pipeline = Pipeline(stages=[assembler, lr])"
   ]
  },
  {
   "cell_type": "code",
   "execution_count": 83,
   "metadata": {},
   "outputs": [
    {
     "data": {
      "text/plain": [
       "0.48911947212772866"
      ]
     },
     "execution_count": 83,
     "metadata": {},
     "output_type": "execute_result"
    }
   ],
   "source": [
    "multiclassEval = MulticlassClassificationEvaluator(\n",
    "    labelCol=\"Cover_Type\",\n",
    "    predictionCol=\"prediction\",\n",
    "    metricName=\"accuracy\")\n",
    "multiclassEval.evaluate(predictions)"
   ]
  },
  {
   "cell_type": "code",
   "execution_count": 86,
   "metadata": {},
   "outputs": [],
   "source": [
    "paramGrid = ParamGridBuilder()\\\n",
    "    .addGrid(lr, [\"gini\", \"entropy\"])\\\n",
    "    .addGrid(lr, [1, 20])\\\n",
    "    .addGrid(lr, [40, 300])\\\n",
    "    .addGrid(lr, [0.0, 0.05])\\\n",
    "    .build()"
   ]
  },
  {
   "cell_type": "code",
   "execution_count": 87,
   "metadata": {},
   "outputs": [],
   "source": [
    "validator = TrainValidationSplit(\n",
    "    estimator=pipeline,\n",
    "    estimatorParamMaps=paramGrid,\n",
    "    evaluator=multiclassEval,\n",
    "    trainRatio=0.9)\n",
    "validatorModel = validator.fit(trainData)"
   ]
  },
  {
   "cell_type": "code",
   "execution_count": 88,
   "metadata": {},
   "outputs": [],
   "source": [
    "bestModel = validatorModel.bestModel"
   ]
  },
  {
   "cell_type": "code",
   "execution_count": 89,
   "metadata": {},
   "outputs": [
    {
     "data": {
      "text/plain": [
       "{Param(parent='LogisticRegression_4d62b19d0e0e79065969', name='aggregationDepth', doc='suggested depth for treeAggregate (>= 2)'): 2,\n",
       " Param(parent='LogisticRegression_4d62b19d0e0e79065969', name='elasticNetParam', doc='the ElasticNet mixing parameter, in range [0, 1]. For alpha = 0, the penalty is an L2 penalty. For alpha = 1, it is an L1 penalty'): 0.8,\n",
       " Param(parent='LogisticRegression_4d62b19d0e0e79065969', name='family', doc='The name of family which is a description of the label distribution to be used in the model. Supported options: auto, binomial, multinomial.'): 'auto',\n",
       " Param(parent='LogisticRegression_4d62b19d0e0e79065969', name='featuresCol', doc='features column name'): 'featureVector',\n",
       " Param(parent='LogisticRegression_4d62b19d0e0e79065969', name='fitIntercept', doc='whether to fit an intercept term'): True,\n",
       " Param(parent='LogisticRegression_4d62b19d0e0e79065969', name='labelCol', doc='label column name'): 'Cover_Type',\n",
       " Param(parent='LogisticRegression_4d62b19d0e0e79065969', name='maxIter', doc='maximum number of iterations (>= 0)'): 10,\n",
       " Param(parent='LogisticRegression_4d62b19d0e0e79065969', name='predictionCol', doc='prediction column name'): 'prediction',\n",
       " Param(parent='LogisticRegression_4d62b19d0e0e79065969', name='probabilityCol', doc='Column name for predicted class conditional probabilities. Note: Not all models output well-calibrated probability estimates! These probabilities should be treated as confidences, not precise probabilities'): 'probability',\n",
       " Param(parent='LogisticRegression_4d62b19d0e0e79065969', name='rawPredictionCol', doc='raw prediction (a.k.a. confidence) column name'): 'rawPrediction',\n",
       " Param(parent='LogisticRegression_4d62b19d0e0e79065969', name='regParam', doc='regularization parameter (>= 0)'): 0.3,\n",
       " Param(parent='LogisticRegression_4d62b19d0e0e79065969', name='standardization', doc='whether to standardize the training features before fitting the model'): True,\n",
       " Param(parent='LogisticRegression_4d62b19d0e0e79065969', name='threshold', doc='threshold in binary classification prediction, in range [0, 1]'): 0.5,\n",
       " Param(parent='LogisticRegression_4d62b19d0e0e79065969', name='tol', doc='the convergence tolerance for iterative algorithms (>= 0)'): 1e-06}"
      ]
     },
     "execution_count": 89,
     "metadata": {},
     "output_type": "execute_result"
    }
   ],
   "source": [
    "bestModel.stages[-1].extractParamMap()"
   ]
  },
  {
   "cell_type": "code",
   "execution_count": 90,
   "metadata": {},
   "outputs": [
    {
     "data": {
      "text/plain": [
       "[0.49310767345688467, 0.49310767345688467]"
      ]
     },
     "execution_count": 90,
     "metadata": {},
     "output_type": "execute_result"
    }
   ],
   "source": [
    "paramsAndMetrics = validatorModel.validationMetrics\n",
    "paramsAndMetrics"
   ]
  },
  {
   "cell_type": "code",
   "execution_count": 91,
   "metadata": {},
   "outputs": [
    {
     "data": {
      "text/plain": [
       "0.48911947212772866"
      ]
     },
     "execution_count": 91,
     "metadata": {},
     "output_type": "execute_result"
    }
   ],
   "source": [
    "multiclassEval.evaluate(bestModel.transform(testData))"
   ]
  },
  {
   "cell_type": "code",
   "execution_count": null,
   "metadata": {},
   "outputs": [],
   "source": []
  }
 ],
 "metadata": {
  "kernelspec": {
   "display_name": "Python 3",
   "language": "python",
   "name": "python3"
  },
  "language_info": {
   "codemirror_mode": {
    "name": "ipython",
    "version": 3
   },
   "file_extension": ".py",
   "mimetype": "text/x-python",
   "name": "python",
   "nbconvert_exporter": "python",
   "pygments_lexer": "ipython3",
   "version": "3.6.5"
  }
 },
 "nbformat": 4,
 "nbformat_minor": 2
}
