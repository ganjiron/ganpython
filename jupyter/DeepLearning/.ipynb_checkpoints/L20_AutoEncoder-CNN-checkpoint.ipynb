{
 "cells": [
  {
   "cell_type": "code",
   "execution_count": 1,
   "metadata": {},
   "outputs": [
    {
     "name": "stderr",
     "output_type": "stream",
     "text": [
      "C:\\ProgramData\\Anaconda3\\lib\\site-packages\\h5py\\__init__.py:36: FutureWarning: Conversion of the second argument of issubdtype from `float` to `np.floating` is deprecated. In future, it will be treated as `np.float64 == np.dtype(float).type`.\n",
      "  from ._conv import register_converters as _register_converters\n"
     ]
    }
   ],
   "source": [
    "import tensorflow as tf\n",
    "import numpy as np\n",
    "import matplotlib.pyplot as plt"
   ]
  },
  {
   "cell_type": "code",
   "execution_count": 2,
   "metadata": {},
   "outputs": [
    {
     "name": "stdout",
     "output_type": "stream",
     "text": [
      "WARNING:tensorflow:From <ipython-input-2-1d7cb768f08d>:2: read_data_sets (from tensorflow.contrib.learn.python.learn.datasets.mnist) is deprecated and will be removed in a future version.\n",
      "Instructions for updating:\n",
      "Please use alternatives such as official/mnist/dataset.py from tensorflow/models.\n",
      "WARNING:tensorflow:From C:\\ProgramData\\Anaconda3\\lib\\site-packages\\tensorflow\\contrib\\learn\\python\\learn\\datasets\\mnist.py:260: maybe_download (from tensorflow.contrib.learn.python.learn.datasets.base) is deprecated and will be removed in a future version.\n",
      "Instructions for updating:\n",
      "Please write your own downloading logic.\n",
      "WARNING:tensorflow:From C:\\ProgramData\\Anaconda3\\lib\\site-packages\\tensorflow\\contrib\\learn\\python\\learn\\datasets\\mnist.py:262: extract_images (from tensorflow.contrib.learn.python.learn.datasets.mnist) is deprecated and will be removed in a future version.\n",
      "Instructions for updating:\n",
      "Please use tf.data to implement this functionality.\n",
      "Extracting ./mnist/data/train-images-idx3-ubyte.gz\n",
      "WARNING:tensorflow:From C:\\ProgramData\\Anaconda3\\lib\\site-packages\\tensorflow\\contrib\\learn\\python\\learn\\datasets\\mnist.py:267: extract_labels (from tensorflow.contrib.learn.python.learn.datasets.mnist) is deprecated and will be removed in a future version.\n",
      "Instructions for updating:\n",
      "Please use tf.data to implement this functionality.\n",
      "Extracting ./mnist/data/train-labels-idx1-ubyte.gz\n",
      "WARNING:tensorflow:From C:\\ProgramData\\Anaconda3\\lib\\site-packages\\tensorflow\\contrib\\learn\\python\\learn\\datasets\\mnist.py:110: dense_to_one_hot (from tensorflow.contrib.learn.python.learn.datasets.mnist) is deprecated and will be removed in a future version.\n",
      "Instructions for updating:\n",
      "Please use tf.one_hot on tensors.\n",
      "Extracting ./mnist/data/t10k-images-idx3-ubyte.gz\n",
      "Extracting ./mnist/data/t10k-labels-idx1-ubyte.gz\n",
      "WARNING:tensorflow:From C:\\ProgramData\\Anaconda3\\lib\\site-packages\\tensorflow\\contrib\\learn\\python\\learn\\datasets\\mnist.py:290: DataSet.__init__ (from tensorflow.contrib.learn.python.learn.datasets.mnist) is deprecated and will be removed in a future version.\n",
      "Instructions for updating:\n",
      "Please use alternatives such as official/mnist/dataset.py from tensorflow/models.\n"
     ]
    }
   ],
   "source": [
    "from tensorflow.examples.tutorials.mnist import input_data\n",
    "mnist = input_data.read_data_sets('./mnist/data/' , one_hot=True)"
   ]
  },
  {
   "cell_type": "code",
   "execution_count": 3,
   "metadata": {},
   "outputs": [],
   "source": [
    "learning_rate = 0.01\n",
    "training_epoch = 20\n",
    "batch_size = 100\n",
    "n_hidden = 256\n",
    "n_input = 28*28\n",
    "n_channel = 4\n"
   ]
  },
  {
   "cell_type": "code",
   "execution_count": 4,
   "metadata": {},
   "outputs": [],
   "source": [
    "X = tf.placeholder(tf.float32 , [None , 28,28,1])"
   ]
  },
  {
   "cell_type": "code",
   "execution_count": 5,
   "metadata": {},
   "outputs": [],
   "source": [
    "W1 = tf.Variable(tf.random_normal([5,5,1,n_channel] , stddev=0.01))\n",
    "L1 = tf.nn.conv2d(X,W1,strides=[1,2,2,1] , padding='SAME')\n",
    "L1 = tf.nn.relu(L1)\n",
    "W_encode = tf.Variable(tf.random_normal([14*14*n_channel , 256] , stddev=0.01))\n",
    "L2 = tf.reshape(L1 , [-1 , 14*14*n_channel])\n",
    "h = tf.matmul(L2 , W_encode)"
   ]
  },
  {
   "cell_type": "code",
   "execution_count": 6,
   "metadata": {},
   "outputs": [],
   "source": [
    "output_batch = tf.shape(X)[0]\n",
    "deconv_shape = tf.stack([output_batch , 28 , 28 , 1])\n",
    "W_decode = tf.Variable(tf.random_normal([256 , 14*14*n_channel]))\n",
    "L3 = tf.matmul(h , W_decode)\n",
    "W3 = tf.Variable(tf.random_normal([5,5,1,n_channel]))\n",
    "L3 = tf.reshape(L3 , [-1,14,14,n_channel])\n",
    "\n",
    "decoder = tf.nn.conv2d_transpose(L3 , W3 , output_shape=deconv_shape , strides=[1,2,2,1] , padding='SAME')\n",
    "\n",
    "decoder = tf.nn.sigmoid(decoder)"
   ]
  },
  {
   "cell_type": "code",
   "execution_count": 7,
   "metadata": {},
   "outputs": [],
   "source": [
    "cost = tf.reduce_mean(tf.pow(X-decoder,2))\n",
    "opt = tf.train.AdamOptimizer(learning_rate).minimize(cost)"
   ]
  },
  {
   "cell_type": "code",
   "execution_count": 8,
   "metadata": {},
   "outputs": [],
   "source": [
    "sess = tf.Session()\n",
    "init = tf.global_variables_initializer()\n",
    "sess.run(init)"
   ]
  },
  {
   "cell_type": "code",
   "execution_count": 9,
   "metadata": {},
   "outputs": [],
   "source": [
    "total_batch = int(mnist.train.num_examples/batch_size)"
   ]
  },
  {
   "cell_type": "code",
   "execution_count": 10,
   "metadata": {},
   "outputs": [
    {
     "name": "stdout",
     "output_type": "stream",
     "text": [
      "Epoch : 0 \n",
      " Avg.Cost = 0.02775989804924889\n",
      "Epoch : 1 \n",
      " Avg.Cost = 0.010397983980788426\n",
      "Epoch : 2 \n",
      " Avg.Cost = 0.005891958175396377\n",
      "Epoch : 3 \n",
      " Avg.Cost = 0.004425200607881628\n",
      "Epoch : 4 \n",
      " Avg.Cost = 0.003913785433820025\n",
      "Epoch : 5 \n",
      " Avg.Cost = 0.003240803462791849\n",
      "Epoch : 6 \n",
      " Avg.Cost = 0.00263812046286396\n",
      "Epoch : 7 \n",
      " Avg.Cost = 0.0022272397984157907\n",
      "Epoch : 8 \n",
      " Avg.Cost = 0.0020141039771789855\n",
      "Epoch : 9 \n",
      " Avg.Cost = 0.001872361099389805\n",
      "Epoch : 10 \n",
      " Avg.Cost = 0.0017938542535359209\n",
      "Epoch : 11 \n",
      " Avg.Cost = 0.0017474165205335753\n",
      "Epoch : 12 \n",
      " Avg.Cost = 0.001713259735102342\n",
      "Epoch : 13 \n",
      " Avg.Cost = 0.0016731836801310155\n",
      "Epoch : 14 \n",
      " Avg.Cost = 0.0016342196404002607\n",
      "Epoch : 15 \n",
      " Avg.Cost = 0.0016383288641968234\n",
      "Epoch : 16 \n",
      " Avg.Cost = 0.0016140019713731652\n",
      "Epoch : 17 \n",
      " Avg.Cost = 0.0016042719427919524\n",
      "Epoch : 18 \n",
      " Avg.Cost = 0.0015420943902890113\n",
      "Epoch : 19 \n",
      " Avg.Cost = 0.001510924411810596\n"
     ]
    }
   ],
   "source": [
    "for epoch in range(training_epoch):\n",
    "    total_cost = 0\n",
    "    \n",
    "    for i in range(total_batch):\n",
    "        batch_xs , batch_ys = mnist.train.next_batch(batch_size)\n",
    "        _ , cost_val = sess.run([opt , cost] , feed_dict={X:batch_xs.reshape(-1,28,28,1)})\n",
    "        total_cost += cost_val\n",
    "    print('Epoch : {} \\n Avg.Cost = {}'.format(epoch , total_cost/total_batch))"
   ]
  },
  {
   "cell_type": "code",
   "execution_count": 13,
   "metadata": {},
   "outputs": [],
   "source": [
    "n = 4\n",
    "canvas_orig = np.empty((28*n , 28*n))\n",
    "canvas_recon = np.empty((28*n , 28*n))\n",
    "for i in range(n):\n",
    "    batch_x , _ = mnist.test.next_batch(n)\n",
    "    g = sess.run(decoder , feed_dict={X:batch_x.reshape(-1,28,28,1)})\n",
    "    for j in range(n):\n",
    "        canvas_orig[i*28:(i+1)*28 , j*28:(j+1)*28] = batch_x[j].reshape([28,28])\n",
    "    for j in range(n):\n",
    "        canvas_recon[i*28:(i+1)*28 , j*28:(j+1)*28] = g[j].reshape([28,28])"
   ]
  },
  {
   "cell_type": "code",
   "execution_count": 14,
   "metadata": {},
   "outputs": [
    {
     "name": "stdout",
     "output_type": "stream",
     "text": [
      "Origin\n"
     ]
    },
    {
     "data": {
      "image/png": "[encoded data removed]",
      "text/plain": [
       "<Figure size 288x288 with 1 Axes>"
      ]
     },
     "metadata": {},
     "output_type": "display_data"
    },
    {
     "name": "stdout",
     "output_type": "stream",
     "text": [
      "Restructed\n"
     ]
    },
    {
     "data": {
      "image/png": "[encoded data removed]",
      "text/plain": [
       "<Figure size 288x288 with 1 Axes>"
      ]
     },
     "metadata": {},
     "output_type": "display_data"
    }
   ],
   "source": [
    "print('Origin')\n",
    "plt.figure(figsize=(n,n))\n",
    "plt.imshow(canvas_orig , origin='upper' , cmap='gray')\n",
    "plt.show()\n",
    "\n",
    "print('Restructed')\n",
    "plt.figure(figsize=(n,n))\n",
    "plt.imshow(canvas_recon , origin='upper' , cmap='gray')\n",
    "plt.show()"
   ]
  },
  {
   "cell_type": "code",
   "execution_count": 29,
   "metadata": {},
   "outputs": [
    {
     "name": "stdout",
     "output_type": "stream",
     "text": [
      "<bound method RefVariable.read_value of <tf.Variable 'Variable_3:0' shape=(5, 5, 1, 32) dtype=float32_ref>>\n"
     ]
    }
   ],
   "source": [
    "print(W3.read_value)"
   ]
  },
  {
   "cell_type": "code",
   "execution_count": 32,
   "metadata": {},
   "outputs": [
    {
     "ename": "TypeError",
     "evalue": "read_value() takes 1 positional argument but 2 were given",
     "output_type": "error",
     "traceback": [
      "\u001b[1;31m---------------------------------------------------------------------------\u001b[0m",
      "\u001b[1;31mTypeError\u001b[0m                                 Traceback (most recent call last)",
      "\u001b[1;32m<ipython-input-32-d88d60f9fe65>\u001b[0m in \u001b[0;36m<module>\u001b[1;34m()\u001b[0m\n\u001b[1;32m----> 1\u001b[1;33m \u001b[0mW3\u001b[0m\u001b[1;33m.\u001b[0m\u001b[0mread_value\u001b[0m\u001b[1;33m(\u001b[0m\u001b[1;36m0\u001b[0m\u001b[1;33m)\u001b[0m\u001b[1;33m\u001b[0m\u001b[0m\n\u001b[0m",
      "\u001b[1;31mTypeError\u001b[0m: read_value() takes 1 positional argument but 2 were given"
     ]
    }
   ],
   "source": [
    "W3.read_value(0)"
   ]
  },
  {
   "cell_type": "code",
   "execution_count": null,
   "metadata": {},
   "outputs": [],
   "source": []
  }
 ],
 "metadata": {
  "kernelspec": {
   "display_name": "Python 3",
   "language": "python",
   "name": "python3"
  },
  "language_info": {
   "codemirror_mode": {
    "name": "ipython",
    "version": 3
   },
   "file_extension": ".py",
   "mimetype": "text/x-python",
   "name": "python",
   "nbconvert_exporter": "python",
   "pygments_lexer": "ipython3",
   "version": "3.6.5"
  }
 },
 "nbformat": 4,
 "nbformat_minor": 2
}
