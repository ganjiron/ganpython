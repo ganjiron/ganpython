{
 "cells": [
  {
   "cell_type": "code",
   "execution_count": 1,
   "metadata": {},
   "outputs": [
    {
     "name": "stderr",
     "output_type": "stream",
     "text": [
      "C:\\ProgramData\\Anaconda3\\lib\\site-packages\\h5py\\__init__.py:36: FutureWarning: Conversion of the second argument of issubdtype from `float` to `np.floating` is deprecated. In future, it will be treated as `np.float64 == np.dtype(float).type`.\n",
      "  from ._conv import register_converters as _register_converters\n"
     ]
    }
   ],
   "source": [
    "import tensorflow as tf\n",
    "from tensorflow.contrib import rnn"
   ]
  },
  {
   "cell_type": "code",
   "execution_count": 2,
   "metadata": {
    "collapsed": true
   },
   "outputs": [
    {
     "name": "stdout",
     "output_type": "stream",
     "text": [
      "WARNING:tensorflow:From <ipython-input-2-16842befd1cb>:3: load_dataset (from tensorflow.contrib.learn.python.learn.datasets) is deprecated and will be removed in a future version.\n",
      "Instructions for updating:\n",
      "Please use tf.data.\n",
      "WARNING:tensorflow:From C:\\ProgramData\\Anaconda3\\lib\\site-packages\\tensorflow\\contrib\\learn\\python\\learn\\datasets\\__init__.py:80: load_mnist (from tensorflow.contrib.learn.python.learn.datasets.mnist) is deprecated and will be removed in a future version.\n",
      "Instructions for updating:\n",
      "Please use alternatives such as official/mnist/dataset.py from tensorflow/models.\n",
      "WARNING:tensorflow:From C:\\ProgramData\\Anaconda3\\lib\\site-packages\\tensorflow\\contrib\\learn\\python\\learn\\datasets\\mnist.py:300: read_data_sets (from tensorflow.contrib.learn.python.learn.datasets.mnist) is deprecated and will be removed in a future version.\n",
      "Instructions for updating:\n",
      "Please use alternatives such as official/mnist/dataset.py from tensorflow/models.\n",
      "WARNING:tensorflow:From C:\\ProgramData\\Anaconda3\\lib\\site-packages\\tensorflow\\contrib\\learn\\python\\learn\\datasets\\mnist.py:260: maybe_download (from tensorflow.contrib.learn.python.learn.datasets.base) is deprecated and will be removed in a future version.\n",
      "Instructions for updating:\n",
      "Please write your own downloading logic.\n",
      "WARNING:tensorflow:From C:\\ProgramData\\Anaconda3\\lib\\site-packages\\tensorflow\\contrib\\learn\\python\\learn\\datasets\\mnist.py:262: extract_images (from tensorflow.contrib.learn.python.learn.datasets.mnist) is deprecated and will be removed in a future version.\n",
      "Instructions for updating:\n",
      "Please use tf.data to implement this functionality.\n",
      "Extracting MNIST-data\\train-images-idx3-ubyte.gz\n",
      "WARNING:tensorflow:From C:\\ProgramData\\Anaconda3\\lib\\site-packages\\tensorflow\\contrib\\learn\\python\\learn\\datasets\\mnist.py:267: extract_labels (from tensorflow.contrib.learn.python.learn.datasets.mnist) is deprecated and will be removed in a future version.\n",
      "Instructions for updating:\n",
      "Please use tf.data to implement this functionality.\n",
      "Extracting MNIST-data\\train-labels-idx1-ubyte.gz\n",
      "Extracting MNIST-data\\t10k-images-idx3-ubyte.gz\n",
      "Extracting MNIST-data\\t10k-labels-idx1-ubyte.gz\n",
      "WARNING:tensorflow:From C:\\ProgramData\\Anaconda3\\lib\\site-packages\\tensorflow\\contrib\\learn\\python\\learn\\datasets\\mnist.py:290: DataSet.__init__ (from tensorflow.contrib.learn.python.learn.datasets.mnist) is deprecated and will be removed in a future version.\n",
      "Instructions for updating:\n",
      "Please use alternatives such as official/mnist/dataset.py from tensorflow/models.\n"
     ]
    }
   ],
   "source": [
    "# from tensorflow.examples.tutorials.mnist import input_data\n",
    "# mnist = input_data.read_data_sets(\"MNIST_data/\" )\n",
    "mnist = tf.contrib.learn.datasets.load_dataset('mnist')\n",
    "import numpy as np"
   ]
  },
  {
   "cell_type": "code",
   "execution_count": 3,
   "metadata": {},
   "outputs": [],
   "source": [
    "timesteps = 28\n",
    "num_classes = 10\n",
    "num_input = 28\n",
    "\n",
    "X = tf.placeholder(tf.float32 , [None , timesteps , num_input])\n",
    "Y = tf.placeholder(tf.int32 , [None ])"
   ]
  },
  {
   "cell_type": "code",
   "execution_count": 4,
   "metadata": {},
   "outputs": [],
   "source": [
    "x = tf.unstack(X , timesteps ,1)"
   ]
  },
  {
   "cell_type": "code",
   "execution_count": 5,
   "metadata": {},
   "outputs": [],
   "source": [
    "y = tf.one_hot(Y , num_classes)"
   ]
  },
  {
   "cell_type": "code",
   "execution_count": 6,
   "metadata": {},
   "outputs": [],
   "source": [
    "num_hidden = 128 # ht 의 수.\n",
    "lstm_cell = tf.nn.rnn_cell.LSTMCell(num_hidden , forget_bias=1.0 )"
   ]
  },
  {
   "cell_type": "code",
   "execution_count": 7,
   "metadata": {},
   "outputs": [],
   "source": [
    "#outputs = ht,states = Ct\n",
    "outputs,states = tf.nn.static_rnn(lstm_cell , x , dtype=tf.float32)"
   ]
  },
  {
   "cell_type": "code",
   "execution_count": 8,
   "metadata": {},
   "outputs": [],
   "source": [
    "num_units = 256\n",
    "W1 = tf.Variable(tf.random_normal([num_hidden , num_units]))\n",
    "b1 = tf.Variable(tf.random_normal([num_units]))\n",
    "\n",
    "W2 = tf.Variable(tf.random_normal([num_units , num_classes]))\n",
    "b2 = tf.Variable(tf.random_normal([num_classes]))"
   ]
  },
  {
   "cell_type": "code",
   "execution_count": 10,
   "metadata": {},
   "outputs": [],
   "source": [
    "hidden_layer = tf.nn.relu(tf.matmul(outputs[-1] , W1)+b1)\n",
    "logits = tf.matmul(hidden_layer , W2) +b2\n",
    "prediction = tf.nn.softmax(logits)"
   ]
  },
  {
   "cell_type": "code",
   "execution_count": 11,
   "metadata": {},
   "outputs": [],
   "source": [
    "cross_ent = tf.nn.softmax_cross_entropy_with_logits_v2(logits=logits , labels = y)\n",
    "loss_op = tf.reduce_mean(cross_ent)"
   ]
  },
  {
   "cell_type": "code",
   "execution_count": 12,
   "metadata": {},
   "outputs": [],
   "source": [
    "learning_rate = 0.001\n",
    "opt = tf.train.GradientDescentOptimizer(learning_rate)\n",
    "train_op = opt.minimize(loss_op)"
   ]
  },
  {
   "cell_type": "code",
   "execution_count": 13,
   "metadata": {},
   "outputs": [],
   "source": [
    "corr_pred = tf.equal(tf.argmax(prediction , 1) , tf.argmax(y,1))\n",
    "accuracy = tf.reduce_mean(tf.cast(corr_pred, tf.float32))"
   ]
  },
  {
   "cell_type": "code",
   "execution_count": 14,
   "metadata": {},
   "outputs": [],
   "source": [
    "sess = tf.Session()\n",
    "init = tf.global_variables_initializer()\n",
    "sess.run(init)"
   ]
  },
  {
   "cell_type": "code",
   "execution_count": 15,
   "metadata": {},
   "outputs": [],
   "source": [
    "trn_data = mnist.train.images.reshape((-1 , timesteps , num_input))\n",
    "trn_label = mnist.train.labels\n",
    "vld_data = mnist.validation.images.reshape((-1 , timesteps , num_input))\n",
    "vld_label = mnist.validation.labels"
   ]
  },
  {
   "cell_type": "code",
   "execution_count": 16,
   "metadata": {},
   "outputs": [
    {
     "data": {
      "text/plain": [
       "(55000, 28, 28)"
      ]
     },
     "execution_count": 16,
     "metadata": {},
     "output_type": "execute_result"
    }
   ],
   "source": [
    "trn_data.shape"
   ]
  },
  {
   "cell_type": "code",
   "execution_count": 17,
   "metadata": {},
   "outputs": [],
   "source": [
    "def print_step(step , loss , acc):\n",
    "    print('step ' + str(step) + ',minibatch lostt = ' +\\\n",
    "         '{:.4f}'.format(loss) + ', trainging Accuracy=' +\\\n",
    "         '{:.3f}'.format(acc))"
   ]
  },
  {
   "cell_type": "code",
   "execution_count": 21,
   "metadata": {},
   "outputs": [
    {
     "name": "stdout",
     "output_type": "stream",
     "text": [
      "step  100 , Minibatch Loss = 1.0459 , training Accuracy=0.662\n",
      "step  200 , Minibatch Loss = 0.9274 , training Accuracy=0.699\n",
      "step  300 , Minibatch Loss = 0.8938 , training Accuracy=0.703\n",
      "step  400 , Minibatch Loss = 0.8246 , training Accuracy=0.727\n",
      "step  500 , Minibatch Loss = 0.8416 , training Accuracy=0.719\n",
      "step  600 , Minibatch Loss = 0.7585 , training Accuracy=0.745\n",
      "step  700 , Minibatch Loss = 0.7203 , training Accuracy=0.766\n",
      "step  800 , Minibatch Loss = 0.6613 , training Accuracy=0.787\n",
      "step  900 , Minibatch Loss = 0.6490 , training Accuracy=0.799\n",
      "step 1000 , Minibatch Loss = 0.6397 , training Accuracy=0.798\n",
      "fin\n"
     ]
    }
   ],
   "source": [
    "batch_size = 128\n",
    "training_steps = 1000\n",
    "\n",
    "for step  in range(1,training_steps+1):    \n",
    "    batch_x , batch_y = mnist.train.next_batch(batch_size)\n",
    "    batch_x = batch_x.reshape((batch_size , timesteps, num_input))\n",
    "    _ = sess.run(train_op, feed_dict={X:batch_x, Y:batch_y})\n",
    "    if step % 100 == 0:\n",
    "        train_loss , train_acc = sess.run([loss_op , accuracy] , feed_dict={X:trn_data , Y:trn_label})\n",
    "        vld_loss , vld_acc = sess.run([loss_op , accuracy],\n",
    "                                     feed_dict={X:vld_data,\n",
    "                                               Y:vld_label})\n",
    "\n",
    "\n",
    "#             print_step(step , loss , acc)\n",
    "        print_step_2(step , vld_loss , vld_acc)\n",
    "print('fin')"
   ]
  },
  {
   "cell_type": "code",
   "execution_count": 20,
   "metadata": {},
   "outputs": [],
   "source": [
    "def print_step_2(step , loss , acc):\n",
    "    print('step {:4d} , Minibatch Loss = {:.4f} , training Accuracy={:.3f}'.format(step,loss,acc))"
   ]
  },
  {
   "cell_type": "code",
   "execution_count": null,
   "metadata": {},
   "outputs": [],
   "source": []
  }
 ],
 "metadata": {
  "kernelspec": {
   "display_name": "Python 3",
   "language": "python",
   "name": "python3"
  },
  "language_info": {
   "codemirror_mode": {
    "name": "ipython",
    "version": 3
   },
   "file_extension": ".py",
   "mimetype": "text/x-python",
   "name": "python",
   "nbconvert_exporter": "python",
   "pygments_lexer": "ipython3",
   "version": "3.6.5"
  }
 },
 "nbformat": 4,
 "nbformat_minor": 2
}
