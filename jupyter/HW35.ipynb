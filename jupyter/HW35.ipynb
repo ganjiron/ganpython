{
 "cells": [
  {
   "cell_type": "code",
   "execution_count": 1,
   "metadata": {},
   "outputs": [],
   "source": [
    "import re"
   ]
  },
  {
   "cell_type": "code",
   "execution_count": 4,
   "metadata": {},
   "outputs": [
    {
     "name": "stdout",
     "output_type": "stream",
     "text": [
      "['Earth']\n"
     ]
    }
   ],
   "source": [
    "str = 'Earth is the third planet from the sun'\n",
    "result = re.findall(r'^\\w+' , str)\n",
    "print(result)"
   ]
  },
  {
   "cell_type": "code",
   "execution_count": 6,
   "metadata": {},
   "outputs": [
    {
     "name": "stdout",
     "output_type": "stream",
     "text": [
      "['Ea', 'is', 'th', 'th', 'pl', 'fr', 'th', 'su']\n"
     ]
    }
   ],
   "source": [
    "result2 = re.findall(r'\\b\\w{2}' ,str)\n",
    "print(result2)"
   ]
  },
  {
   "cell_type": "code",
   "execution_count": 7,
   "metadata": {},
   "outputs": [
    {
     "name": "stdout",
     "output_type": "stream",
     "text": [
      "['@gmail.com', '@anay.com']\n"
     ]
    }
   ],
   "source": [
    "str = 'abc.test@gmail.com,xyz@test.in,test.first@anay.com,first.test@rest.biz'\n",
    "result3 = re.findall(r'@\\w+[.]com' , str)\n",
    "print(result3)"
   ]
  },
  {
   "cell_type": "code",
   "execution_count": 8,
   "metadata": {},
   "outputs": [
    {
     "name": "stdout",
     "output_type": "stream",
     "text": [
      "['12-05-2007', '11-11-2011', '12-01-2009']\n"
     ]
    }
   ],
   "source": [
    "str = r'\\d{2}-\\d{2}-\\d{4}','Amit 34-3456 12-05-2007,xyz 56-4532 11-11-2011,abc 67-1234 12-01-2009'\n",
    "result4 = re.findall(str[0] , str[1])\n",
    "print(result4)"
   ]
  },
  {
   "cell_type": "code",
   "execution_count": 36,
   "metadata": {},
   "outputs": [
    {
     "name": "stdout",
     "output_type": "stream",
     "text": [
      "['Earth', 'interract', 'oteher', 'object', 'esp', 'and']\n"
     ]
    }
   ],
   "source": [
    "str = \"Earth's gravity interract with oteher object , esp sun and moon\"\n",
    "result5 = re.findall(r'\\b[a|e|i|o|u]\\w*' , str , re.I)\n",
    "print(result5)"
   ]
  },
  {
   "cell_type": "code",
   "execution_count": 38,
   "metadata": {},
   "outputs": [
    {
     "name": "stdout",
     "output_type": "stream",
     "text": [
      "010-256-1354 Match\n",
      "010-1234-5576 Match\n",
      "070-642-0384 No\n",
      "010-290*-1234 No\n",
      "01012312213123 No\n"
     ]
    }
   ],
   "source": [
    "str = ['010-256-1354','010-1234-5576','070-642-0384','010-290*-1234','01012312213123']\n",
    "# phone = re.search(r'010-\\d{3,4}-\\d{4}',str)\n",
    "for phone in str:\n",
    "    print('%s'%phone, end=' ')\n",
    "    if re.search(r'010-\\d{3,4}-\\d{4}',phone):\n",
    "        print('Match')\n",
    "    else:\n",
    "        print('No')"
   ]
  },
  {
   "cell_type": "code",
   "execution_count": null,
   "metadata": {},
   "outputs": [],
   "source": []
  }
 ],
 "metadata": {
  "kernelspec": {
   "display_name": "Python 3",
   "language": "python",
   "name": "python3"
  },
  "language_info": {
   "codemirror_mode": {
    "name": "ipython",
    "version": 3
   },
   "file_extension": ".py",
   "mimetype": "text/x-python",
   "name": "python",
   "nbconvert_exporter": "python",
   "pygments_lexer": "ipython3",
   "version": "3.6.5"
  }
 },
 "nbformat": 4,
 "nbformat_minor": 2
}
