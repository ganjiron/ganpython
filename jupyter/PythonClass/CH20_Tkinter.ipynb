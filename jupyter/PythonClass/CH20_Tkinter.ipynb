{
 "cells": [
  {
   "cell_type": "code",
   "execution_count": 1,
   "metadata": {},
   "outputs": [],
   "source": [
    "from tkinter import *"
   ]
  },
  {
   "cell_type": "code",
   "execution_count": 14,
   "metadata": {},
   "outputs": [
    {
     "ename": "NameError",
     "evalue": "name 'draw' is not defined",
     "output_type": "error",
     "traceback": [
      "\u001b[1;31m---------------------------------------------------------------------------\u001b[0m",
      "\u001b[1;31mNameError\u001b[0m                                 Traceback (most recent call last)",
      "\u001b[1;32m<ipython-input-14-d45441ba5eea>\u001b[0m in \u001b[0;36m<module>\u001b[1;34m()\u001b[0m\n\u001b[0;32m      3\u001b[0m \u001b[0mcanvas\u001b[0m \u001b[1;33m=\u001b[0m \u001b[0mCanvas\u001b[0m\u001b[1;33m(\u001b[0m\u001b[0mroot\u001b[0m \u001b[1;33m,\u001b[0m \u001b[0mwidth\u001b[0m\u001b[1;33m=\u001b[0m\u001b[1;36m400\u001b[0m \u001b[1;33m,\u001b[0m \u001b[0mheight\u001b[0m\u001b[1;33m=\u001b[0m\u001b[1;36m300\u001b[0m\u001b[1;33m)\u001b[0m\u001b[1;33m\u001b[0m\u001b[0m\n\u001b[0;32m      4\u001b[0m \u001b[0mcanvas\u001b[0m\u001b[1;33m.\u001b[0m\u001b[0mpack\u001b[0m\u001b[1;33m(\u001b[0m\u001b[1;33m)\u001b[0m\u001b[1;33m\u001b[0m\u001b[0m\n\u001b[1;32m----> 5\u001b[1;33m \u001b[0mdraw\u001b[0m\u001b[1;33m(\u001b[0m\u001b[0mcanvas\u001b[0m \u001b[1;33m,\u001b[0m \u001b[1;36m400\u001b[0m \u001b[1;33m,\u001b[0m \u001b[1;36m300\u001b[0m\u001b[1;33m)\u001b[0m\u001b[1;33m\u001b[0m\u001b[0m\n\u001b[0m",
      "\u001b[1;31mNameError\u001b[0m: name 'draw' is not defined"
     ]
    }
   ],
   "source": [
    "root = Tk()\n",
    "root.title(\"A simple application\")\n",
    "canvas = Canvas(root , width=400 , height=300)\n",
    "canvas.pack()\n",
    "draw(canvas , 400 , 300)"
   ]
  },
  {
   "cell_type": "code",
   "execution_count": 23,
   "metadata": {},
   "outputs": [],
   "source": [
    "root.mainloop()"
   ]
  },
  {
   "cell_type": "code",
   "execution_count": 24,
   "metadata": {},
   "outputs": [],
   "source": [
    "root = Tk()\n",
    "root.columnconfigure(0 , weight = 1)\n",
    "root.rowconfigure(0,weight = 1)"
   ]
  },
  {
   "cell_type": "code",
   "execution_count": 25,
   "metadata": {},
   "outputs": [],
   "source": [
    "mycanvas = Canvas(root)\n",
    "mycanvas.grid(column=0,row=0,sticky=(N,W,E,S))"
   ]
  },
  {
   "cell_type": "code",
   "execution_count": 26,
   "metadata": {},
   "outputs": [
    {
     "data": {
      "text/plain": [
       "2"
      ]
     },
     "execution_count": 26,
     "metadata": {},
     "output_type": "execute_result"
    }
   ],
   "source": [
    "mycanvas.create_line((10,10,10,100))\n",
    "mycanvas.create_rectangle((100,100,150,150))\n"
   ]
  },
  {
   "cell_type": "code",
   "execution_count": 27,
   "metadata": {},
   "outputs": [],
   "source": [
    "root.mainloop()"
   ]
  },
  {
   "cell_type": "code",
   "execution_count": 28,
   "metadata": {},
   "outputs": [],
   "source": [
    "from tkinter import *"
   ]
  },
  {
   "cell_type": "code",
   "execution_count": 43,
   "metadata": {},
   "outputs": [],
   "source": [
    "def draw(canvas , width , height):\n",
    "    canvas.create_rectangle(0,0,200,150,fill='violet')\n",
    "    canvas.create_rectangle(200,50,350,200,fill='orange', width=5)\n",
    "    canvas.create_rectangle(50,100,150,200,fill='green',outline='red' , width=3)\n",
    "    canvas.create_rectangle(125,25,175,190,fill='purple',width=0)"
   ]
  },
  {
   "cell_type": "code",
   "execution_count": 44,
   "metadata": {},
   "outputs": [],
   "source": [
    "def runDrawing(width = 300 , height=300):\n",
    "    root = Tk()\n",
    "    canvas = Canvas(root , width=width , height=height)\n",
    "    canvas.pack()\n",
    "    draw(canvas , width , height)\n",
    "    root.mainloop()\n",
    "    print('bye!')"
   ]
  },
  {
   "cell_type": "code",
   "execution_count": 47,
   "metadata": {},
   "outputs": [
    {
     "name": "stdout",
     "output_type": "stream",
     "text": [
      "bye!\n"
     ]
    }
   ],
   "source": [
    "runDrawing(400,200)"
   ]
  },
  {
   "cell_type": "code",
   "execution_count": 46,
   "metadata": {},
   "outputs": [],
   "source": [
    "def drawBelgianFlag(canvas, x0, y0, x1, y1):\n",
    "    width = (x1-x0)\n",
    "    canvas.create_rectangle(x0,y0,x0+width/3,y1,fill=\"black\",width=0)\n",
    "    canvas.create_rectangle(x0+width/3, y0, x0+width*2/3, y1, fill=\"yellow\", width=0)\n",
    "    canvas.create_rectangle(x0+width*2/3, y0, x1, y1, fill=\"red\", width=0)\n",
    "\n",
    "\n",
    "def draw(canvas, width, height):\n",
    "    drawBelgianFlag(canvas,25,25,175,150)\n",
    "    drawBelgianFlag(canvas,75,160,125,200)\n",
    "    \n",
    "    flagWidth=30\n",
    "    flagHeight=25\n",
    "    margin=5\n",
    "    for row in range(4):\n",
    "        for col in range(6):\n",
    "            left = 200 + col * flagWidth + margin\n",
    "            top = 50+row*flagHeight+margin\n",
    "            right=left+flagWidth-margin\n",
    "            bottom = top+flagHeight-margin\n",
    "            drawBelgianFlag(canvas, left, top, right, bottom)"
   ]
  },
  {
   "cell_type": "code",
   "execution_count": 48,
   "metadata": {},
   "outputs": [
    {
     "name": "stdout",
     "output_type": "stream",
     "text": [
      "bye!\n"
     ]
    }
   ],
   "source": [
    "runDrawing(400,200)"
   ]
  },
  {
   "cell_type": "code",
   "execution_count": 49,
   "metadata": {},
   "outputs": [
    {
     "name": "stdout",
     "output_type": "stream",
     "text": [
      "bye!\n"
     ]
    }
   ],
   "source": [
    "import math\n",
    "\n",
    "def draw(canvas,width,height):\n",
    "    (cx,cy,r)=(width/2,height/2,min(width,height)/3)\n",
    "    canvas.create_oval(cx-r,cy-r,cx+r,cy+r,fill='yellow')\n",
    "    r*=0.85\n",
    "    for hour in range(12):\n",
    "        hourAngle=math.pi/2-(2*math.pi)*(hour/12)\n",
    "        hourX=cx+r*math.cos(hourAngle)\n",
    "        hourY=cy-r*math.sin(hourAngle)\n",
    "        label=str(hour if(hour>0) else 12)\n",
    "        canvas.create_text(hourX,hourY,text=label,font=\"Arial 16 bold\")\n",
    "        \n",
    "def runDrawing(width=300,height=300):\n",
    "    root=Tk()\n",
    "    canvas=Canvas(root,width=width,height=height)\n",
    "    canvas.pack()\n",
    "    draw(canvas,width,height) \n",
    "    root.mainloop()\n",
    "    print(\"bye!\")\n",
    "\n",
    "runDrawing()"
   ]
  },
  {
   "cell_type": "code",
   "execution_count": 50,
   "metadata": {},
   "outputs": [],
   "source": [
    "from tkinter import *\n",
    "root = Tk()\n",
    "\n",
    "mylabel = Label(root , text='hi')\n",
    "mylabel.pack()\n",
    "\n",
    "mybutton = Button(root,text='press')\n",
    "mybutton.pack()\n",
    "\n",
    "root.mainloop()"
   ]
  },
  {
   "cell_type": "code",
   "execution_count": 1,
   "metadata": {},
   "outputs": [
    {
     "name": "stdout",
     "output_type": "stream",
     "text": [
      "heloo\n",
      "heloo\n",
      "end\n"
     ]
    }
   ],
   "source": [
    "from tkinter import *\n",
    "root = Tk()\n",
    "\n",
    "def hello(event):\n",
    "    print('heloo')\n",
    "def quit(event):\n",
    "    print('end')\n",
    "    root.destroy()\n",
    "#     import sys;\n",
    "#     sys.exit()\n",
    "\n",
    "\n",
    "wbutton = Button(root , text='mouse')\n",
    "wbutton.pack()\n",
    "\n",
    "wbutton.bind('<Button-1>' , hello)\n",
    "wbutton.bind('<Double-Button-1>' , quit)\n",
    "\n",
    "root.mainloop()"
   ]
  },
  {
   "cell_type": "code",
   "execution_count": 8,
   "metadata": {},
   "outputs": [],
   "source": [
    "from tkinter import *\n",
    "lastx , lasty = 0,0\n",
    "\n",
    "def xy(event):\n",
    "    global lastx,lasty\n",
    "    lastx,lasty = event.x , event.y\n",
    "def addLine(event):\n",
    "    global lastx,lasty\n",
    "    canvas.create_line((lastx,lasty,event.x,event.y))\n",
    "    lastx,lasty = event.x , event.y\n",
    "root = Tk()\n",
    "canvas = Canvas(root)\n",
    "canvas.grid(column=0,row=0,sticky=(N,W,E,S))\n",
    "canvas.bind('<Button-1>' , xy)\n",
    "canvas.bind('<B1-Motion>',addLine)\n",
    "root.mainloop()"
   ]
  },
  {
   "cell_type": "code",
   "execution_count": 5,
   "metadata": {},
   "outputs": [],
   "source": [
    "tk = Tk()\n",
    "\n",
    "canvas = Canvas(tk, width=400, height=400)\n",
    "canvas.pack()\n",
    "Arrow = 0\n",
    "\n",
    "def printarrow(event):\n",
    "    global Arrow\n",
    "    canvas.delete(Arrow)\n",
    "    \n",
    "    if event.keysym == 'Up':\n",
    "        Arrow = canvas.create_polygon(210,200,190,200,190,180,180,180,200,160,220,180,210,180,fill='yellow', outline='black')\n",
    "    elif event.keysym == 'Down':\n",
    "        Arrow = canvas.create_polygon(210,200,190,200,190,220,180,220,200,240,220,220,210,220,fill='pink',outline='black')\n",
    "    elif event.keysym == 'Left':\n",
    "        Arrow = canvas.create_polygon(200,190,200,210,180,210,180,220,160,200,180,180,180,190,fill='blue', outline='black')\n",
    "    else:\n",
    "        Arrow = canvas.create_polygon(200,190,200,210,220,210,220,220,240,200,220,180,220,190,fill='white', outline='black')\n",
    "\n",
    "canvas.bind_all('<KeyPress-Up>', printarrow)\n",
    "canvas.bind_all('<KeyPress-Down>', printarrow)\n",
    "canvas.bind_all('<KeyPress-Left>', printarrow)\n",
    "canvas.bind_all('<KeyPress-Right>', printarrow)\n",
    "\n",
    "tk.mainloop()"
   ]
  },
  {
   "cell_type": "code",
   "execution_count": 6,
   "metadata": {},
   "outputs": [
    {
     "name": "stdout",
     "output_type": "stream",
     "text": [
      "Day: 11 Sep 2018 \n",
      " Time: 09: 46: 24 AM\n",
      "\n",
      "Day: 11 Sep 2018 \n",
      " Time: 09: 46: 26 AM\n",
      "\n"
     ]
    }
   ],
   "source": [
    "from tkinter import Tk, Button\n",
    "from time import strftime, localtime\n",
    "\n",
    "def clicked():\n",
    "    time = strftime(\"Day: %d %b %Y \\n Time: %H: %M: %S %p\\n\", localtime())\n",
    "    print(time)\n",
    "    \n",
    "root= Tk()\n",
    "\n",
    "mybutton = Button(root, text='click it', command=clicked)\n",
    "mybutton.pack()\n",
    "root.mainloop()"
   ]
  },
  {
   "cell_type": "code",
   "execution_count": 7,
   "metadata": {},
   "outputs": [
    {
     "data": {
      "text/plain": [
       "time.struct_time(tm_year=2018, tm_mon=9, tm_mday=11, tm_hour=9, tm_min=46, tm_sec=39, tm_wday=1, tm_yday=254, tm_isdst=0)"
      ]
     },
     "execution_count": 7,
     "metadata": {},
     "output_type": "execute_result"
    }
   ],
   "source": [
    "localtime()"
   ]
  },
  {
   "cell_type": "code",
   "execution_count": 11,
   "metadata": {},
   "outputs": [],
   "source": [
    "from tkinter import *\n",
    "def sel():\n",
    "    selection = 'option ' + str(var.get())\n",
    "    mylabel.config(text = selection)\n",
    "    \n",
    "root = Tk()\n",
    "var = IntVar()\n",
    "\n",
    "R1 = Radiobutton(root , text='o1' , variable=var,value=1,command=sel)\n",
    "R1.pack(anchor=W)\n",
    "R2 = Radiobutton(root , text='o2' , variable=var,value=2,command=sel)\n",
    "R2.pack(anchor=W)\n",
    "R3 = Radiobutton(root , text='o3' , variable=var,value=3,command=sel)\n",
    "R3.pack(anchor=W)\n",
    "\n",
    "mylabel = Label(root)\n",
    "mylabel.pack()\n",
    "\n",
    "root.mainloop()"
   ]
  },
  {
   "cell_type": "code",
   "execution_count": 12,
   "metadata": {},
   "outputs": [],
   "source": [
    "from tkinter import * \n",
    "\n",
    "top = Tk()\n",
    "CheckVar1 = IntVar()\n",
    "CheckVar2 = IntVar()\n",
    "\n",
    "C1 = Checkbutton(top, text=\"Music\", variable=CheckVar1, onvalue=1, offvalue=0, height=5, width=20)\n",
    "C2 = Checkbutton(top, text=\"Video\", variable=CheckVar2, onvalue=1, offvalue=0, height=5, width=20)\n",
    "\n",
    "C1.pack()\n",
    "C2.pack()\n",
    "\n",
    "top.mainloop()"
   ]
  },
  {
   "cell_type": "code",
   "execution_count": 16,
   "metadata": {},
   "outputs": [
    {
     "data": {
      "text/plain": [
       "1"
      ]
     },
     "execution_count": 16,
     "metadata": {},
     "output_type": "execute_result"
    }
   ],
   "source": [
    "CheckVar2.get()\n"
   ]
  },
  {
   "cell_type": "code",
   "execution_count": 22,
   "metadata": {},
   "outputs": [],
   "source": [
    "from tkinter import *\n",
    "def donothing():\n",
    "    another_window = Toplevel(root)\n",
    "    button = Button(another_window , text='nothing')\n",
    "    button.pack()\n",
    "root = Tk()\n",
    "top_menubar = Menu(root)\n",
    "\n",
    "filemenu = Menu(top_menubar , tearoff=0)\n",
    "filemenu.add_command(label='new',command=donothing)\n",
    "filemenu.add_command(label='open',command=donothing)\n",
    "filemenu.add_command(label='save',command=donothing)\n",
    "filemenu.add_command(label='save as',command=donothing)\n",
    "filemenu.add_command(label='close',command=donothing)\n",
    "filemenu.add_separator()\n",
    "filemenu.add_command(label='exit',command=donothing)\n",
    "top_menubar.add_cascade(label='file',menu=filemenu)\n",
    "\n",
    "root.config(menu = top_menubar)\n",
    "root.mainloop()"
   ]
  },
  {
   "cell_type": "code",
   "execution_count": 26,
   "metadata": {},
   "outputs": [],
   "source": [
    "from tkinter import *\n",
    "\n",
    "colors=['red' , 'green' , 'yellow' , 'white','black']\n",
    "r = 0\n",
    "for c in colors:\n",
    "    Label(text=c,relief=RIDGE,width=15).grid(row=r,column=0)\n",
    "    Entry(bg=c,relief=SUNKEN,width=10).grid(row=r,column=1)\n",
    "    r +=1\n",
    "mainloop()"
   ]
  },
  {
   "cell_type": "code",
   "execution_count": 32,
   "metadata": {},
   "outputs": [
    {
     "data": {
      "text/plain": [
       "[('Button.button',\n",
       "  {'sticky': 'nswe',\n",
       "   'children': [('Button.focus',\n",
       "     {'sticky': 'nswe',\n",
       "      'children': [('Button.padding',\n",
       "        {'sticky': 'nswe',\n",
       "         'children': [('Button.label', {'sticky': 'nswe'})]})]})]})]"
      ]
     },
     "execution_count": 32,
     "metadata": {},
     "output_type": "execute_result"
    }
   ],
   "source": [
    "from tkinter import ttk\n",
    "s = ttk.Style()\n",
    "s.layout('TButton')"
   ]
  },
  {
   "cell_type": "code",
   "execution_count": 41,
   "metadata": {},
   "outputs": [],
   "source": [
    "from tkinter import *\n",
    "from tkinter import ttk\n",
    "def calculate(*args):\n",
    "    try:\n",
    "        value = float(celsius.get())\n",
    "        fahrenheit.set(value * 9 / 5 + 32)\n",
    "    except ValueError:\n",
    "        pass\n",
    "root = Tk()\n",
    "root.title(\"Celsius to Fahrenheit\") \n",
    "\n",
    "#ttk.Frame()\n",
    "mainframe = ttk.Frame(root, padding=\"3 3 12 12\")\n",
    "mainframe.grid(column=0, row=0)\n",
    "celsius= StringVar()\n",
    "fahrenheit= StringVar()\n",
    "#ttk.Entry\n",
    "cel_entry= ttk.Entry(mainframe, width=7, textvariable=celsius)\n",
    "cel_entry.grid(column=2, row=1)\n",
    "ttk.Label(mainframe, text=\"Celsius\").grid(column=3, row=1)\n",
    "ttk.Label(mainframe, text=\"is equivalent to\").grid(column=1, row=2)\n",
    "ttk.Label(mainframe, textvariable=fahrenheit).grid(column=2, row=2)\n",
    "ttk.Label(mainframe, text=\"Fahrenheit\").grid(column=3, row=2)\n",
    "ttk.Button(mainframe, text=\"Calculate\", command=calculate).grid(column=3, row=3)\n",
    "for child in mainframe.winfo_children():\n",
    "    child.grid_configure(padx=5, pady=5)\n",
    "#entry and run calculate\n",
    "cel_entry.focus()\n",
    "root.bind('<Return>', calculate)\n",
    "mainloop()"
   ]
  },
  {
   "cell_type": "markdown",
   "metadata": {},
   "source": []
  }
 ],
 "metadata": {
  "kernelspec": {
   "display_name": "Python 3",
   "language": "python",
   "name": "python3"
  },
  "language_info": {
   "codemirror_mode": {
    "name": "ipython",
    "version": 3
   },
   "file_extension": ".py",
   "mimetype": "text/x-python",
   "name": "python",
   "nbconvert_exporter": "python",
   "pygments_lexer": "ipython3",
   "version": "3.6.5"
  }
 },
 "nbformat": 4,
 "nbformat_minor": 2
}
