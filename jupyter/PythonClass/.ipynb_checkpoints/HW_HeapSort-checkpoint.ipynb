{
 "cells": [
  {
   "cell_type": "markdown",
   "metadata": {},
   "source": [
    "# Ch23-A (1) version 1"
   ]
  },
  {
   "cell_type": "code",
   "execution_count": 2,
   "metadata": {},
   "outputs": [
    {
     "name": "stdout",
     "output_type": "stream",
     "text": [
      "2 6\n",
      "1 10\n",
      "0 11\n",
      "No matched LEFT parenthesis for 12\n",
      "No matched LEFT parenthesis for 13\n",
      "No matched LEFT parenthesis for 14\n",
      "No matched LEFT parenthesis for 15\n"
     ]
    }
   ],
   "source": [
    "################ Class 정의 #############\n",
    "class stack(): \n",
    "    def __init__(self):\n",
    "        self.items=[]    \n",
    "        \n",
    "    def push(self,item):\n",
    "        self.items.append(item)   \n",
    "        \n",
    "    def pop(self):\n",
    "        return self.items.pop()   \n",
    "    \n",
    "    def isEmpty(self):\n",
    "        if self.items==[]:\n",
    "            return True\n",
    "        else:\n",
    "            return False\n",
    "        \n",
    "################문자열을 받아서 Parenthesis 출력하는 함수#########      \n",
    "def parenthsis(string):\n",
    "    my_stack=stack()\n",
    "    \n",
    "    for i in range(len(string)):\n",
    "        if string[i]==\"(\":\n",
    "            my_stack.push(i)\n",
    "            \n",
    "        elif string[i]==\")\":\n",
    "            try:\n",
    "                print(my_stack.pop(),i)\n",
    "            except IndexError:\n",
    "                print(\"No matched LEFT parenthesis for %d\"%i)\n",
    "                \n",
    "    while not my_stack.isEmpty():\n",
    "        print(\"No matched RUGHT parenthesis for %d\"%my_stack.pop())\n",
    "\n",
    "################ 함수 실행 ######### \n",
    "parenthsis('(((3+2)*16))))))')"
   ]
  },
  {
   "cell_type": "markdown",
   "metadata": {},
   "source": [
    "# Ch23-A (1) version 2"
   ]
  },
  {
   "cell_type": "code",
   "execution_count": 27,
   "metadata": {},
   "outputs": [
    {
     "name": "stdout",
     "output_type": "stream",
     "text": [
      "(2,6) match\n",
      "(1,10) match\n",
      "(0,11) match\n",
      "12 no match (right)\n",
      "13 no match (right)\n",
      "14 no match (right)\n",
      "15 no match (right)\n"
     ]
    }
   ],
   "source": [
    "\n",
    "import queue\n",
    "\n",
    "def paren_v2(lst):\n",
    "\n",
    "    par_stack = queue.LifoQueue()\n",
    "     \n",
    "    for idx in range(len(lst)):     \n",
    "        if lst[idx] == '(':\n",
    "            par_stack.put(idx)\n",
    "        elif lst[idx] == ')':\n",
    "            if not par_stack.empty():\n",
    "                print('(%d,%d) match'%( par_stack.get() , idx)) \n",
    "            else:\n",
    "                print('%d no match (right)' % idx)\n",
    "\n",
    "    while not par_stack.empty():\n",
    "        par_stack.get()\n",
    "        \n",
    "paren_v2('(((3+2)*16))))))')                    "
   ]
  },
  {
   "cell_type": "markdown",
   "metadata": {
    "collapsed": true
   },
   "source": [
    "# Ch23-A (2)"
   ]
  },
  {
   "cell_type": "code",
   "execution_count": 23,
   "metadata": {},
   "outputs": [
    {
     "name": "stdout",
     "output_type": "stream",
     "text": [
      "[1, 2, 3] [4] []\n",
      "[1, 2] [4] [3]\n",
      "[1, 2] [] [3, 4]\n",
      "[1] [3, 4] [2]\n",
      "[3] [1, 4] [2]\n",
      "[] [1, 4] [2, 3]\n",
      "[] [1] [2, 3, 4]\n",
      "[] [2, 3, 4] [1]\n",
      "[2, 3] [1, 4] []\n",
      "[2] [1, 4] [3]\n",
      "[2] [1] [3, 4]\n",
      "[] [3, 4] [1, 2]\n",
      "[3] [4] [1, 2]\n",
      "[] [4] [1, 2, 3]\n",
      "[] [] [1, 2, 3, 4]\n"
     ]
    }
   ],
   "source": [
    "def move_disks(from_stack, mid_stack, to_stack, n):  \n",
    "    if n == 0:\n",
    "        return\n",
    "    elif n == 1:\n",
    "        to_stack.append(from_stack.pop())\n",
    "        print(from_stack,mid_stack,to_stack)\n",
    "    elif n == 2:\n",
    "        mid_stack.append(from_stack.pop())\n",
    "        print(from_stack,mid_stack,to_stack)\n",
    "        to_stack.append(from_stack.pop())\n",
    "        print(from_stack,mid_stack,to_stack)\n",
    "        to_stack.append(mid_stack.pop())\n",
    "        print(from_stack,mid_stack,to_stack)\n",
    "    else:\n",
    "        move_disks(from_stack, to_stack, mid_stack, n-1)\n",
    "        to_stack.append(from_stack.pop())\n",
    "        print(from_stack,mid_stack,to_stack)\n",
    "        move_disks(mid_stack, from_stack, to_stack,n-1)\n",
    "        \n",
    "from_stack = [1,2,3,4]\n",
    "mid_stack = []\n",
    "to_stack = []\n",
    "n = len(from_stack)\n",
    "move_disks(from_stack,mid_stack,to_stack, n)"
   ]
  },
  {
   "cell_type": "markdown",
   "metadata": {},
   "source": [
    "# Ch23-A (3)"
   ]
  },
  {
   "cell_type": "code",
   "execution_count": 150,
   "metadata": {},
   "outputs": [],
   "source": [
    "class MaxHeap():\n",
    "    \n",
    "    # MaxHeap Calss 생성    : temp=MaxHeap() \n",
    "    # Heap 만들기           : temp.buildHeap(lst)\n",
    "    # Heap에 Data 넣기      : temp.insert()\n",
    "    # Heap에서 Root Get     : getMax()\n",
    "    def __init__(self):\n",
    "        self.heapList=[0]              # i//2 이 parent를 지정할 수 있게 1부터 시작해야한다 그래서 0번에 0을 대입 후 사용하지 않음\n",
    "        self.currentSize=0             # 이렇게 하면 i번 요소의 Left_child=2*i , Right_child=2*i+1\n",
    "        \n",
    "    def percUp(self,i):                                                                    # 거슬러 올라가며 Check\n",
    "        while i//2>0:                                                                      # when newly added item go up to root then i//2==0\n",
    "            if self.heapList[i]>self.heapList[i//2]:                                       # if child > parent then swap\n",
    "                self.heapList[i],self.heapList[i//2]=self.heapList[i//2],self.heapList[i]  # swap\n",
    "            i=i//2                                                                         # index parent로 이동\n",
    "            \n",
    "    def insert(self,k):                # 새로운  Data가 들어올때 삽입\n",
    "        self.heapList.append(k)        # 맨뒤에 붙이면 알아서 Tree 끝에 붙음\n",
    "        self.currenSize=self.currentSize+1 # size 1 키움\n",
    "        self.percUp(self.currentSize)  # MaxHeamp 상태를 유지하기 위해서 새로 들어온 Data percUp 해줌 \n",
    "        \n",
    "    def maxChild(self,i):              # Child 중 크기가 더 큰 인덱스를 리턴해 주는 함수\n",
    "        if i*2+1>self.currentSize:     #right child가 없으면 left child index return\n",
    "            return i*2\n",
    "        else:\n",
    "            if self.heapList[i*2]>self.heapList[i*2+1]:\n",
    "                return i*2\n",
    "            else:\n",
    "                return i*2+1\n",
    "        \n",
    "    def percDown(self,i):                                                  # Data를 사용하고 제거 했을때, Heap Tree를 수정해 주어야 함\n",
    "        while (i*2)<=self.currentSize:                                     # left child가 사이즈를 넘어서지 않을때 까지 내려간다\n",
    "            mc=self.maxChild(i)\n",
    "            if self.heapList[i]<self.heapList[mc]:                         # if i's maxchild > i th value then swap\n",
    "                self.heapList[i],self.heapList[mc]=self.heapList[mc],self.heapList[i] # swap\n",
    "            i=mc\n",
    "\n",
    "            \n",
    "    def getMax(self):\n",
    "        returnValue=self.heapList[1]                        # Root가 가장 크다, 따로 저장\n",
    "        self.heapList[1]=self.heapList[self.currentSize]    # 마지막 Leaf Data를 1번으로 올린다\n",
    "        self.currentSize=self.currentSize-1                 # Root Data는 빠질것이기 때문에 사이즈를 1 줄이고\n",
    "        self.heapList.pop()                                 # 마지막 Leaf Data를 1번으로 올렸기 때문에 중복 마지막 Leaf에서 삭제\n",
    "        self.percDown(1)                                    # 마지막 Leaf Data 기준으로 percDown\n",
    "        return returnValue\n",
    "    \n",
    "    def buildHeap(self,lst):\n",
    "        i=len(lst)//2\n",
    "        self.currentSize=len(lst)\n",
    "        self.heapList=[0]+lst[:]\n",
    "        while(i>0):\n",
    "            self.percDown(i)\n",
    "            i=i-1                    \n",
    "            \n",
    "    def printHeap(self):\n",
    "        print(\"MaxHeap=\",self.heapList[1:])\n",
    "        import graphviz as gv\n",
    "        d=gv.Digraph()\n",
    "        a=self.heapList\n",
    "        for i in range(1,len(a)//2+1):\n",
    "            \n",
    "            if i*2+1<len(a):\n",
    "                d.edge(str(a[i]),str(a[i*2]))\n",
    "                d.edge(str(a[i]),str(a[i*2+1]))\n",
    "            elif i*2<len(a):\n",
    "                d.edge(str(a[i]),str(a[i*2]))\n",
    "            else:\n",
    "                break\n",
    "                               \n",
    "        return d\n",
    "        #d.render('temp',view=True)\n",
    "        \n",
    "    def heapSort(self):\n",
    "        temp=[]\n",
    "        for i in range(self.currentSize):\n",
    "            temp.append(self.getMax())\n",
    "        return temp\n",
    "        "
   ]
  },
  {
   "cell_type": "code",
   "execution_count": 154,
   "metadata": {},
   "outputs": [
    {
     "name": "stdout",
     "output_type": "stream",
     "text": [
      "MaxHeap= [80, 45, 65, 35, 17, 15, 12, 20, 2, 4]\n"
     ]
    },
    {
     "data": {
      "image/svg+xml": [
       "<?xml version=\"1.0\" encoding=\"UTF-8\" standalone=\"no\"?>\r\n",
       "<!DOCTYPE svg PUBLIC \"-//W3C//DTD SVG 1.1//EN\"\r\n",
       " \"http://www.w3.org/Graphics/SVG/1.1/DTD/svg11.dtd\">\r\n",
       "<!-- Generated by graphviz version 2.38.0 (20140413.2041)\r\n",
       " -->\r\n",
       "<!-- Title: %3 Pages: 1 -->\r\n",
       "<svg width=\"350pt\" height=\"260pt\"\r\n",
       " viewBox=\"0.00 0.00 350.00 260.00\" xmlns=\"http://www.w3.org/2000/svg\" xmlns:xlink=\"http://www.w3.org/1999/xlink\">\r\n",
       "<g id=\"graph0\" class=\"graph\" transform=\"scale(1 1) rotate(0) translate(4 256)\">\r\n",
       "<title>%3</title>\r\n",
       "<polygon fill=\"white\" stroke=\"none\" points=\"-4,4 -4,-256 346,-256 346,4 -4,4\"/>\r\n",
       "<!-- 80 -->\r\n",
       "<g id=\"node1\" class=\"node\"><title>80</title>\r\n",
       "<ellipse fill=\"none\" stroke=\"black\" cx=\"207\" cy=\"-234\" rx=\"27\" ry=\"18\"/>\r\n",
       "<text text-anchor=\"middle\" x=\"207\" y=\"-230.3\" font-family=\"Times New Roman,serif\" font-size=\"14.00\">80</text>\r\n",
       "</g>\r\n",
       "<!-- 45 -->\r\n",
       "<g id=\"node2\" class=\"node\"><title>45</title>\r\n",
       "<ellipse fill=\"none\" stroke=\"black\" cx=\"171\" cy=\"-162\" rx=\"27\" ry=\"18\"/>\r\n",
       "<text text-anchor=\"middle\" x=\"171\" y=\"-158.3\" font-family=\"Times New Roman,serif\" font-size=\"14.00\">45</text>\r\n",
       "</g>\r\n",
       "<!-- 80&#45;&gt;45 -->\r\n",
       "<g id=\"edge1\" class=\"edge\"><title>80&#45;&gt;45</title>\r\n",
       "<path fill=\"none\" stroke=\"black\" d=\"M198.65,-216.765C194.288,-208.283 188.853,-197.714 183.959,-188.197\"/>\r\n",
       "<polygon fill=\"black\" stroke=\"black\" points=\"186.99,-186.439 179.304,-179.147 180.765,-189.641 186.99,-186.439\"/>\r\n",
       "</g>\r\n",
       "<!-- 65 -->\r\n",
       "<g id=\"node3\" class=\"node\"><title>65</title>\r\n",
       "<ellipse fill=\"none\" stroke=\"black\" cx=\"243\" cy=\"-162\" rx=\"27\" ry=\"18\"/>\r\n",
       "<text text-anchor=\"middle\" x=\"243\" y=\"-158.3\" font-family=\"Times New Roman,serif\" font-size=\"14.00\">65</text>\r\n",
       "</g>\r\n",
       "<!-- 80&#45;&gt;65 -->\r\n",
       "<g id=\"edge2\" class=\"edge\"><title>80&#45;&gt;65</title>\r\n",
       "<path fill=\"none\" stroke=\"black\" d=\"M215.35,-216.765C219.712,-208.283 225.147,-197.714 230.041,-188.197\"/>\r\n",
       "<polygon fill=\"black\" stroke=\"black\" points=\"233.235,-189.641 234.696,-179.147 227.01,-186.439 233.235,-189.641\"/>\r\n",
       "</g>\r\n",
       "<!-- 35 -->\r\n",
       "<g id=\"node4\" class=\"node\"><title>35</title>\r\n",
       "<ellipse fill=\"none\" stroke=\"black\" cx=\"99\" cy=\"-90\" rx=\"27\" ry=\"18\"/>\r\n",
       "<text text-anchor=\"middle\" x=\"99\" y=\"-86.3\" font-family=\"Times New Roman,serif\" font-size=\"14.00\">35</text>\r\n",
       "</g>\r\n",
       "<!-- 45&#45;&gt;35 -->\r\n",
       "<g id=\"edge3\" class=\"edge\"><title>45&#45;&gt;35</title>\r\n",
       "<path fill=\"none\" stroke=\"black\" d=\"M156.43,-146.834C146.25,-136.938 132.476,-123.546 120.969,-112.359\"/>\r\n",
       "<polygon fill=\"black\" stroke=\"black\" points=\"123.405,-109.846 113.796,-105.385 118.526,-114.865 123.405,-109.846\"/>\r\n",
       "</g>\r\n",
       "<!-- 17 -->\r\n",
       "<g id=\"node5\" class=\"node\"><title>17</title>\r\n",
       "<ellipse fill=\"none\" stroke=\"black\" cx=\"171\" cy=\"-90\" rx=\"27\" ry=\"18\"/>\r\n",
       "<text text-anchor=\"middle\" x=\"171\" y=\"-86.3\" font-family=\"Times New Roman,serif\" font-size=\"14.00\">17</text>\r\n",
       "</g>\r\n",
       "<!-- 45&#45;&gt;17 -->\r\n",
       "<g id=\"edge4\" class=\"edge\"><title>45&#45;&gt;17</title>\r\n",
       "<path fill=\"none\" stroke=\"black\" d=\"M171,-143.697C171,-135.983 171,-126.712 171,-118.112\"/>\r\n",
       "<polygon fill=\"black\" stroke=\"black\" points=\"174.5,-118.104 171,-108.104 167.5,-118.104 174.5,-118.104\"/>\r\n",
       "</g>\r\n",
       "<!-- 15 -->\r\n",
       "<g id=\"node6\" class=\"node\"><title>15</title>\r\n",
       "<ellipse fill=\"none\" stroke=\"black\" cx=\"243\" cy=\"-90\" rx=\"27\" ry=\"18\"/>\r\n",
       "<text text-anchor=\"middle\" x=\"243\" y=\"-86.3\" font-family=\"Times New Roman,serif\" font-size=\"14.00\">15</text>\r\n",
       "</g>\r\n",
       "<!-- 65&#45;&gt;15 -->\r\n",
       "<g id=\"edge5\" class=\"edge\"><title>65&#45;&gt;15</title>\r\n",
       "<path fill=\"none\" stroke=\"black\" d=\"M243,-143.697C243,-135.983 243,-126.712 243,-118.112\"/>\r\n",
       "<polygon fill=\"black\" stroke=\"black\" points=\"246.5,-118.104 243,-108.104 239.5,-118.104 246.5,-118.104\"/>\r\n",
       "</g>\r\n",
       "<!-- 12 -->\r\n",
       "<g id=\"node7\" class=\"node\"><title>12</title>\r\n",
       "<ellipse fill=\"none\" stroke=\"black\" cx=\"315\" cy=\"-90\" rx=\"27\" ry=\"18\"/>\r\n",
       "<text text-anchor=\"middle\" x=\"315\" y=\"-86.3\" font-family=\"Times New Roman,serif\" font-size=\"14.00\">12</text>\r\n",
       "</g>\r\n",
       "<!-- 65&#45;&gt;12 -->\r\n",
       "<g id=\"edge6\" class=\"edge\"><title>65&#45;&gt;12</title>\r\n",
       "<path fill=\"none\" stroke=\"black\" d=\"M257.57,-146.834C267.75,-136.938 281.524,-123.546 293.031,-112.359\"/>\r\n",
       "<polygon fill=\"black\" stroke=\"black\" points=\"295.474,-114.865 300.204,-105.385 290.595,-109.846 295.474,-114.865\"/>\r\n",
       "</g>\r\n",
       "<!-- 20 -->\r\n",
       "<g id=\"node8\" class=\"node\"><title>20</title>\r\n",
       "<ellipse fill=\"none\" stroke=\"black\" cx=\"27\" cy=\"-18\" rx=\"27\" ry=\"18\"/>\r\n",
       "<text text-anchor=\"middle\" x=\"27\" y=\"-14.3\" font-family=\"Times New Roman,serif\" font-size=\"14.00\">20</text>\r\n",
       "</g>\r\n",
       "<!-- 35&#45;&gt;20 -->\r\n",
       "<g id=\"edge7\" class=\"edge\"><title>35&#45;&gt;20</title>\r\n",
       "<path fill=\"none\" stroke=\"black\" d=\"M84.4297,-74.8345C74.2501,-64.9376 60.4761,-51.5462 48.9694,-40.3591\"/>\r\n",
       "<polygon fill=\"black\" stroke=\"black\" points=\"51.4055,-37.8461 41.7957,-33.3847 46.5259,-42.865 51.4055,-37.8461\"/>\r\n",
       "</g>\r\n",
       "<!-- 2 -->\r\n",
       "<g id=\"node9\" class=\"node\"><title>2</title>\r\n",
       "<ellipse fill=\"none\" stroke=\"black\" cx=\"99\" cy=\"-18\" rx=\"27\" ry=\"18\"/>\r\n",
       "<text text-anchor=\"middle\" x=\"99\" y=\"-14.3\" font-family=\"Times New Roman,serif\" font-size=\"14.00\">2</text>\r\n",
       "</g>\r\n",
       "<!-- 35&#45;&gt;2 -->\r\n",
       "<g id=\"edge8\" class=\"edge\"><title>35&#45;&gt;2</title>\r\n",
       "<path fill=\"none\" stroke=\"black\" d=\"M99,-71.6966C99,-63.9827 99,-54.7125 99,-46.1124\"/>\r\n",
       "<polygon fill=\"black\" stroke=\"black\" points=\"102.5,-46.1043 99,-36.1043 95.5001,-46.1044 102.5,-46.1043\"/>\r\n",
       "</g>\r\n",
       "<!-- 4 -->\r\n",
       "<g id=\"node10\" class=\"node\"><title>4</title>\r\n",
       "<ellipse fill=\"none\" stroke=\"black\" cx=\"171\" cy=\"-18\" rx=\"27\" ry=\"18\"/>\r\n",
       "<text text-anchor=\"middle\" x=\"171\" y=\"-14.3\" font-family=\"Times New Roman,serif\" font-size=\"14.00\">4</text>\r\n",
       "</g>\r\n",
       "<!-- 17&#45;&gt;4 -->\r\n",
       "<g id=\"edge9\" class=\"edge\"><title>17&#45;&gt;4</title>\r\n",
       "<path fill=\"none\" stroke=\"black\" d=\"M171,-71.6966C171,-63.9827 171,-54.7125 171,-46.1124\"/>\r\n",
       "<polygon fill=\"black\" stroke=\"black\" points=\"174.5,-46.1043 171,-36.1043 167.5,-46.1044 174.5,-46.1043\"/>\r\n",
       "</g>\r\n",
       "</g>\r\n",
       "</svg>\r\n"
      ],
      "text/plain": [
       "<graphviz.dot.Digraph at 0x22ec2632b70>"
      ]
     },
     "execution_count": 154,
     "metadata": {},
     "output_type": "execute_result"
    }
   ],
   "source": [
    "a=MaxHeap()\n",
    "a.buildHeap([15,35,65,20,17,80,12,45,2,4])\n",
    "a.printHeap()\n"
   ]
  },
  {
   "cell_type": "code",
   "execution_count": 143,
   "metadata": {},
   "outputs": [
    {
     "data": {
      "text/plain": [
       "[80, 65, 45, 35, 20, 17, 15, 12, 4, 2]"
      ]
     },
     "execution_count": 143,
     "metadata": {},
     "output_type": "execute_result"
    }
   ],
   "source": [
    "a.heapSort()"
   ]
  },
  {
   "cell_type": "code",
   "execution_count": null,
   "metadata": {
    "collapsed": true
   },
   "outputs": [],
   "source": []
  }
 ],
 "metadata": {
  "kernelspec": {
   "display_name": "Python 3",
   "language": "python",
   "name": "python3"
  },
  "language_info": {
   "codemirror_mode": {
    "name": "ipython",
    "version": 3
   },
   "file_extension": ".py",
   "mimetype": "text/x-python",
   "name": "python",
   "nbconvert_exporter": "python",
   "pygments_lexer": "ipython3",
   "version": "3.6.5"
  }
 },
 "nbformat": 4,
 "nbformat_minor": 2
}
