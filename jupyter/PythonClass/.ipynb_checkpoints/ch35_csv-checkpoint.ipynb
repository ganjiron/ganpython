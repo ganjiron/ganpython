{
 "cells": [
  {
   "cell_type": "code",
   "execution_count": 5,
   "metadata": {},
   "outputs": [],
   "source": [
    "import csv\n",
    "\n",
    "with open('names.csv','w') as csvfile:\n",
    "    field = ['f' , 'l']\n",
    "    writer = csv.DictWriter(csvfile , fieldnames=field)\n",
    "    \n",
    "    writer.writeheader()\n",
    "    writer.writerow({'f':'ganseo' , 'l':'park'})"
   ]
  },
  {
   "cell_type": "code",
   "execution_count": 6,
   "metadata": {},
   "outputs": [
    {
     "name": "stdout",
     "output_type": "stream",
     "text": [
      "f,l\n",
      "\n",
      "ganseo,park\n",
      "\n"
     ]
    }
   ],
   "source": [
    "read = csv.reader(open('names.csv' , newline=''),delimiter=' ', quotechar='|')\n",
    "for r in read:\n",
    "    print(','.join(r))"
   ]
  },
  {
   "cell_type": "code",
   "execution_count": null,
   "metadata": {},
   "outputs": [],
   "source": [
    "import csv\n"
   ]
  }
 ],
 "metadata": {
  "kernelspec": {
   "display_name": "Python 3",
   "language": "python",
   "name": "python3"
  },
  "language_info": {
   "codemirror_mode": {
    "name": "ipython",
    "version": 3
   },
   "file_extension": ".py",
   "mimetype": "text/x-python",
   "name": "python",
   "nbconvert_exporter": "python",
   "pygments_lexer": "ipython3",
   "version": "3.6.5"
  }
 },
 "nbformat": 4,
 "nbformat_minor": 2
}
