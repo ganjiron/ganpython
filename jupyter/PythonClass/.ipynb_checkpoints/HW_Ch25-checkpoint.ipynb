{
 "cells": [
  {
   "cell_type": "code",
   "execution_count": 13,
   "metadata": {},
   "outputs": [
    {
     "data": {
      "text/plain": [
       "'hw25.pdf'"
      ]
     },
     "execution_count": 13,
     "metadata": {},
     "output_type": "execute_result"
    }
   ],
   "source": [
    "# unix.py - http://www.graphviz.org/content/unix\n",
    "\n",
    "from graphviz import Digraph\n",
    "\n",
    "u = Digraph('unix', filename='hw25')\n",
    "u.attr(size='7.5')\n",
    "u.node_attr.update(color='goldenrod2', style='filled')\n",
    "# u.engine = 'dot'\n",
    "u.engine = 'neato'\n",
    "\n",
    "u.edge('7th Edition', '32V')\n",
    "u.edge('7th Edition', 'V7M')\n",
    "u.edge('7th Edition', 'Xenix')\n",
    "u.edge('7th Edition', 'UniPlus+')\n",
    "u.edge('8th Edition', '9th Edition')\n",
    "u.edge('1 BSD', '2 BSD')\n",
    "u.edge('2 BSD', '2.8 BSD')\n",
    "u.edge('2.8 BSD', 'Ultrix-11')\n",
    "u.edge('2.8 BSD', '2.9 BSD')\n",
    "u.edge('32V', '3 BSD')\n",
    "u.edge('3 BSD', '4 BSD')\n",
    "u.edge('4 BSD', '4.1 BSD')\n",
    "u.edge('4.1 BSD', '4.2 BSD')\n",
    "u.edge('4.1 BSD', '2.8 BSD')\n",
    "u.edge('4.1 BSD', '8th Edition')\n",
    "u.edge('4.2 BSD', '4.3 BSD')\n",
    "u.edge('4.2 BSD', 'Ultrix-32')\n",
    "\n",
    "# u.view()\n",
    "u.render()\n",
    "u.view()"
   ]
  },
  {
   "cell_type": "code",
   "execution_count": null,
   "metadata": {},
   "outputs": [],
   "source": []
  }
 ],
 "metadata": {
  "kernelspec": {
   "display_name": "Python 3",
   "language": "python",
   "name": "python3"
  },
  "language_info": {
   "codemirror_mode": {
    "name": "ipython",
    "version": 3
   },
   "file_extension": ".py",
   "mimetype": "text/x-python",
   "name": "python",
   "nbconvert_exporter": "python",
   "pygments_lexer": "ipython3",
   "version": "3.6.5"
  }
 },
 "nbformat": 4,
 "nbformat_minor": 2
}
