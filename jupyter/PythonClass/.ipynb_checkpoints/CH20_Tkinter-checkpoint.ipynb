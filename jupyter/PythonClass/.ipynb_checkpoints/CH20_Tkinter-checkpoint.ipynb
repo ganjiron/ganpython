{
 "cells": [
  {
   "cell_type": "code",
   "execution_count": 1,
   "metadata": {},
   "outputs": [],
   "source": [
    "from tkinter import *"
   ]
  },
  {
   "cell_type": "code",
   "execution_count": 14,
   "metadata": {},
   "outputs": [
    {
     "ename": "NameError",
     "evalue": "name 'draw' is not defined",
     "output_type": "error",
     "traceback": [
      "\u001b[1;31m---------------------------------------------------------------------------\u001b[0m",
      "\u001b[1;31mNameError\u001b[0m                                 Traceback (most recent call last)",
      "\u001b[1;32m<ipython-input-14-d45441ba5eea>\u001b[0m in \u001b[0;36m<module>\u001b[1;34m()\u001b[0m\n\u001b[0;32m      3\u001b[0m \u001b[0mcanvas\u001b[0m \u001b[1;33m=\u001b[0m \u001b[0mCanvas\u001b[0m\u001b[1;33m(\u001b[0m\u001b[0mroot\u001b[0m \u001b[1;33m,\u001b[0m \u001b[0mwidth\u001b[0m\u001b[1;33m=\u001b[0m\u001b[1;36m400\u001b[0m \u001b[1;33m,\u001b[0m \u001b[0mheight\u001b[0m\u001b[1;33m=\u001b[0m\u001b[1;36m300\u001b[0m\u001b[1;33m)\u001b[0m\u001b[1;33m\u001b[0m\u001b[0m\n\u001b[0;32m      4\u001b[0m \u001b[0mcanvas\u001b[0m\u001b[1;33m.\u001b[0m\u001b[0mpack\u001b[0m\u001b[1;33m(\u001b[0m\u001b[1;33m)\u001b[0m\u001b[1;33m\u001b[0m\u001b[0m\n\u001b[1;32m----> 5\u001b[1;33m \u001b[0mdraw\u001b[0m\u001b[1;33m(\u001b[0m\u001b[0mcanvas\u001b[0m \u001b[1;33m,\u001b[0m \u001b[1;36m400\u001b[0m \u001b[1;33m,\u001b[0m \u001b[1;36m300\u001b[0m\u001b[1;33m)\u001b[0m\u001b[1;33m\u001b[0m\u001b[0m\n\u001b[0m",
      "\u001b[1;31mNameError\u001b[0m: name 'draw' is not defined"
     ]
    }
   ],
   "source": [
    "root = Tk()\n",
    "root.title(\"A simple application\")\n",
    "canvas = Canvas(root , width=400 , height=300)\n",
    "canvas.pack()\n",
    "draw(canvas , 400 , 300)"
   ]
  },
  {
   "cell_type": "code",
   "execution_count": 23,
   "metadata": {},
   "outputs": [],
   "source": [
    "root.mainloop()"
   ]
  },
  {
   "cell_type": "code",
   "execution_count": 24,
   "metadata": {},
   "outputs": [],
   "source": [
    "root = Tk()\n",
    "root.columnconfigure(0 , weight = 1)\n",
    "root.rowconfigure(0,weight = 1)"
   ]
  },
  {
   "cell_type": "code",
   "execution_count": 25,
   "metadata": {},
   "outputs": [],
   "source": [
    "mycanvas = Canvas(root)\n",
    "mycanvas.grid(column=0,row=0,sticky=(N,W,E,S))"
   ]
  },
  {
   "cell_type": "code",
   "execution_count": 26,
   "metadata": {},
   "outputs": [
    {
     "data": {
      "text/plain": [
       "2"
      ]
     },
     "execution_count": 26,
     "metadata": {},
     "output_type": "execute_result"
    }
   ],
   "source": [
    "mycanvas.create_line((10,10,10,100))\n",
    "mycanvas.create_rectangle((100,100,150,150))\n"
   ]
  },
  {
   "cell_type": "code",
   "execution_count": 27,
   "metadata": {},
   "outputs": [],
   "source": [
    "root.mainloop()"
   ]
  },
  {
   "cell_type": "code",
   "execution_count": 28,
   "metadata": {},
   "outputs": [],
   "source": [
    "from tkinter import *"
   ]
  },
  {
   "cell_type": "code",
   "execution_count": 43,
   "metadata": {},
   "outputs": [],
   "source": [
    "def draw(canvas , width , height):\n",
    "    canvas.create_rectangle(0,0,200,150,fill='violet')\n",
    "    canvas.create_rectangle(200,50,350,200,fill='orange', width=5)\n",
    "    canvas.create_rectangle(50,100,150,200,fill='green',outline='red' , width=3)\n",
    "    canvas.create_rectangle(125,25,175,190,fill='purple',width=0)"
   ]
  },
  {
   "cell_type": "code",
   "execution_count": 44,
   "metadata": {},
   "outputs": [],
   "source": [
    "def runDrawing(width = 300 , height=300):\n",
    "    root = Tk()\n",
    "    canvas = Canvas(root , width=width , height=height)\n",
    "    canvas.pack()\n",
    "    draw(canvas , width , height)\n",
    "    root.mainloop()\n",
    "    print('bye!')"
   ]
  },
  {
   "cell_type": "code",
   "execution_count": 47,
   "metadata": {},
   "outputs": [
    {
     "name": "stdout",
     "output_type": "stream",
     "text": [
      "bye!\n"
     ]
    }
   ],
   "source": [
    "runDrawing(400,200)"
   ]
  },
  {
   "cell_type": "code",
   "execution_count": 46,
   "metadata": {},
   "outputs": [],
   "source": [
    "def drawBelgianFlag(canvas, x0, y0, x1, y1):\n",
    "    width = (x1-x0)\n",
    "    canvas.create_rectangle(x0,y0,x0+width/3,y1,fill=\"black\",width=0)\n",
    "    canvas.create_rectangle(x0+width/3, y0, x0+width*2/3, y1, fill=\"yellow\", width=0)\n",
    "    canvas.create_rectangle(x0+width*2/3, y0, x1, y1, fill=\"red\", width=0)\n",
    "\n",
    "\n",
    "def draw(canvas, width, height):\n",
    "    drawBelgianFlag(canvas,25,25,175,150)\n",
    "    drawBelgianFlag(canvas,75,160,125,200)\n",
    "    \n",
    "    flagWidth=30\n",
    "    flagHeight=25\n",
    "    margin=5\n",
    "    for row in range(4):\n",
    "        for col in range(6):\n",
    "            left = 200 + col * flagWidth + margin\n",
    "            top = 50+row*flagHeight+margin\n",
    "            right=left+flagWidth-margin\n",
    "            bottom = top+flagHeight-margin\n",
    "            drawBelgianFlag(canvas, left, top, right, bottom)"
   ]
  },
  {
   "cell_type": "code",
   "execution_count": 48,
   "metadata": {},
   "outputs": [
    {
     "name": "stdout",
     "output_type": "stream",
     "text": [
      "bye!\n"
     ]
    }
   ],
   "source": [
    "runDrawing(400,200)"
   ]
  },
  {
   "cell_type": "code",
   "execution_count": 49,
   "metadata": {},
   "outputs": [
    {
     "name": "stdout",
     "output_type": "stream",
     "text": [
      "bye!\n"
     ]
    }
   ],
   "source": [
    "import math\n",
    "\n",
    "def draw(canvas,width,height):\n",
    "    (cx,cy,r)=(width/2,height/2,min(width,height)/3)\n",
    "    canvas.create_oval(cx-r,cy-r,cx+r,cy+r,fill='yellow')\n",
    "    r*=0.85\n",
    "    for hour in range(12):\n",
    "        hourAngle=math.pi/2-(2*math.pi)*(hour/12)\n",
    "        hourX=cx+r*math.cos(hourAngle)\n",
    "        hourY=cy-r*math.sin(hourAngle)\n",
    "        label=str(hour if(hour>0) else 12)\n",
    "        canvas.create_text(hourX,hourY,text=label,font=\"Arial 16 bold\")\n",
    "        \n",
    "def runDrawing(width=300,height=300):\n",
    "    root=Tk()\n",
    "    canvas=Canvas(root,width=width,height=height)\n",
    "    canvas.pack()\n",
    "    draw(canvas,width,height) \n",
    "    root.mainloop()\n",
    "    print(\"bye!\")\n",
    "\n",
    "runDrawing()"
   ]
  },
  {
   "cell_type": "code",
   "execution_count": 50,
   "metadata": {},
   "outputs": [],
   "source": [
    "from tkinter import *\n",
    "root = Tk()\n",
    "\n",
    "mylabel = Label(root , text='hi')\n",
    "mylabel.pack()\n",
    "\n",
    "mybutton = Button(root,text='press')\n",
    "mybutton.pack()\n",
    "\n",
    "root.mainloop()"
   ]
  },
  {
   "cell_type": "code",
   "execution_count": 51,
   "metadata": {},
   "outputs": [
    {
     "name": "stdout",
     "output_type": "stream",
     "text": [
      "heloo\n",
      "heloo\n",
      "end\n"
     ]
    },
    {
     "ename": "SystemExit",
     "evalue": "",
     "output_type": "error",
     "traceback": [
      "An exception has occurred, use %tb to see the full traceback.\n",
      "\u001b[1;31mSystemExit\u001b[0m\n"
     ]
    },
    {
     "name": "stderr",
     "output_type": "stream",
     "text": [
      "C:\\ProgramData\\Anaconda3\\lib\\site-packages\\IPython\\core\\interactiveshell.py:2971: UserWarning: To exit: use 'exit', 'quit', or Ctrl-D.\n",
      "  warn(\"To exit: use 'exit', 'quit', or Ctrl-D.\", stacklevel=1)\n"
     ]
    }
   ],
   "source": [
    "from tkinter import *\n",
    "root = Tk()\n",
    "\n",
    "def hello(event):\n",
    "    print('heloo')\n",
    "def quit(event):\n",
    "    print('end')\n",
    "    import sys;\n",
    "    sys.exit()\n",
    "\n",
    "wbutton = Button(root , text='mouse')\n",
    "wbutton.pack()\n",
    "\n",
    "wbutton.bind('<Button-1>' , hello)\n",
    "wbutton.bind('<Double-Button-1>' , quit)\n",
    "\n",
    "root.mainloop()"
   ]
  },
  {
   "cell_type": "code",
   "execution_count": null,
   "metadata": {},
   "outputs": [],
   "source": []
  }
 ],
 "metadata": {
  "kernelspec": {
   "display_name": "Python 3",
   "language": "python",
   "name": "python3"
  },
  "language_info": {
   "codemirror_mode": {
    "name": "ipython",
    "version": 3
   },
   "file_extension": ".py",
   "mimetype": "text/x-python",
   "name": "python",
   "nbconvert_exporter": "python",
   "pygments_lexer": "ipython3",
   "version": "3.6.5"
  }
 },
 "nbformat": 4,
 "nbformat_minor": 2
}
