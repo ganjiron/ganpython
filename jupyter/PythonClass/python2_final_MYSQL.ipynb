{
 "cells": [
  {
   "cell_type": "markdown",
   "metadata": {},
   "source": [
    "# CH19 #"
   ]
  },
  {
   "cell_type": "markdown",
   "metadata": {},
   "source": [
    "## MySQLdb ##"
   ]
  },
  {
   "cell_type": "code",
   "execution_count": 1,
   "metadata": {},
   "outputs": [],
   "source": [
    "import MySQLdb"
   ]
  },
  {
   "cell_type": "code",
   "execution_count": 2,
   "metadata": {},
   "outputs": [
    {
     "data": {
      "text/plain": [
       "<module 'MySQLdb' from 'C:\\\\Users\\\\ds\\\\AppData\\\\Local\\\\Continuum\\\\anaconda3\\\\lib\\\\site-packages\\\\MySQLdb\\\\__init__.py'>"
      ]
     },
     "execution_count": 2,
     "metadata": {},
     "output_type": "execute_result"
    }
   ],
   "source": [
    "MySQLdb"
   ]
  },
  {
   "cell_type": "code",
   "execution_count": 4,
   "metadata": {},
   "outputs": [],
   "source": [
    "db = MySQLdb.connect(\"localhost\",\"root\",password=\"24tlrksrkehdwkdql##\", db=\"almond\")"
   ]
  },
  {
   "cell_type": "code",
   "execution_count": 5,
   "metadata": {},
   "outputs": [
    {
     "data": {
      "text/plain": [
       "<_mysql.connection open to 'localhost' at f2ae7408>"
      ]
     },
     "execution_count": 5,
     "metadata": {},
     "output_type": "execute_result"
    }
   ],
   "source": [
    "db"
   ]
  },
  {
   "cell_type": "code",
   "execution_count": 30,
   "metadata": {},
   "outputs": [
    {
     "data": {
      "text/plain": [
       "((0, 1, 'root', 0, 0, 'root'),\n",
       " (1, 1, '??', 0, 0, '????1'),\n",
       " (2, 1, '222', 1, 0, '????2'),\n",
       " (3, 1, '333333', 2, 0, '????3'),\n",
       " (4, 1, '444444', 3, 0, '????4'),\n",
       " (5, 1, '1-1 ??', 0, 1, '1-1 ??'),\n",
       " (6, 1, '??1-2', 1, 1, '?? 1-2'),\n",
       " (7, 1, '?? 2-1', 0, 2, '?? 2-1'),\n",
       " (8, 1, '??1-2-1', 0, 6, '??1-2-1'),\n",
       " (11, 1, '??1-1-1', 0, 5, '??1-1-1'),\n",
       " (12, 1, '??1-2-1-1', 0, 8, '??1-2-1-1'))"
      ]
     },
     "execution_count": 30,
     "metadata": {},
     "output_type": "execute_result"
    }
   ],
   "source": [
    "c = db.cursor()\n",
    "\n",
    "c.execute(\"SELECT * FROM almond.almond_api_server_templateitem;\")\n",
    "\n",
    "a = c.fetchall()\n",
    "\n",
    "a"
   ]
  },
  {
   "cell_type": "markdown",
   "metadata": {},
   "source": [
    "db = MySQLdb.connect(host, id, password, db)\n",
    "\n",
    "db: connection object\n",
    "\n",
    "c = db.cursor()\n",
    "\n",
    "c: cursor object\n",
    "\n",
    "\n",
    "c.execute(query): query를 실행함\n",
    "query: SQL query statement\n",
    "\n",
    "c.executemeny([query, ... , query]): 여러 query를 실행함\n",
    "\n",
    "c.fetchone(): query를 실행한 result set의 맨 첫 번째 result를 가져옴\n",
    "\n",
    "c.fetchmany(size=arraysize): query를 실행한 result set의 첫 번째부터 arraysize개 만큼 result를 가져옴. 인자가 없을 경우: 상위 1개만 가져옴\n",
    "\n",
    "c.fetchall(): query를 실행한 결과를 모두 가져옴 \n",
    "\n",
    "* 여러 개의 result set을 가져와야 할 경우에는 tuple(tuple()) 형태로 가져온다\n",
    "* fetchmany()에서 인자를 넣지 않을 경우 또한 tuple(tuple()) 형태로 가져온다\n",
    "\n",
    "c.close(): cursor를 close함\n",
    "\n",
    "\n",
    "db.commit(): execute한 query 중 INSERT, UPDATE, DELETE 등이 반영됨 \n",
    "\n",
    "db.rollback(): execute한 query 중 INSERT, UPDATE, DELETE 를 취소하여 반영 안함\n",
    "\n"
   ]
  },
  {
   "cell_type": "markdown",
   "metadata": {},
   "source": [
    "## SQLite3 ##"
   ]
  },
  {
   "cell_type": "code",
   "execution_count": 17,
   "metadata": {},
   "outputs": [],
   "source": [
    "import sqlite3"
   ]
  },
  {
   "cell_type": "code",
   "execution_count": 18,
   "metadata": {},
   "outputs": [
    {
     "data": {
      "text/plain": [
       "<module 'sqlite3' from 'C:\\\\Users\\\\ds\\\\AppData\\\\Local\\\\Continuum\\\\anaconda3\\\\lib\\\\sqlite3\\\\__init__.py'>"
      ]
     },
     "execution_count": 18,
     "metadata": {},
     "output_type": "execute_result"
    }
   ],
   "source": [
    "sqlite3"
   ]
  },
  {
   "cell_type": "code",
   "execution_count": 33,
   "metadata": {},
   "outputs": [],
   "source": [
    "conn = sqlite3.connect(\"mytest.db\")"
   ]
  },
  {
   "cell_type": "code",
   "execution_count": 34,
   "metadata": {},
   "outputs": [
    {
     "data": {
      "text/plain": [
       "<sqlite3.Connection at 0x1b9f31608f0>"
      ]
     },
     "execution_count": 34,
     "metadata": {},
     "output_type": "execute_result"
    }
   ],
   "source": [
    "conn"
   ]
  },
  {
   "cell_type": "code",
   "execution_count": 35,
   "metadata": {},
   "outputs": [],
   "source": [
    "c = conn.cursor()"
   ]
  },
  {
   "cell_type": "code",
   "execution_count": 36,
   "metadata": {},
   "outputs": [
    {
     "ename": "OperationalError",
     "evalue": "table breakfast already exists",
     "output_type": "error",
     "traceback": [
      "\u001b[1;31m---------------------------------------------------------------------------\u001b[0m",
      "\u001b[1;31mOperationalError\u001b[0m                          Traceback (most recent call last)",
      "\u001b[1;32m<ipython-input-36-7e3ed812d63a>\u001b[0m in \u001b[0;36m<module>\u001b[1;34m()\u001b[0m\n\u001b[1;32m----> 1\u001b[1;33m \u001b[0mc\u001b[0m\u001b[1;33m.\u001b[0m\u001b[0mexecute\u001b[0m\u001b[1;33m(\u001b[0m\u001b[1;34m\"CREATE TABLE breakfast(            name VARCHAR(32) PRIMARY KEY,             spam INTEGER,             eggs INTEGER,             sausage INTEGER,             price FLOAT);\"\u001b[0m\u001b[1;33m)\u001b[0m\u001b[1;33m\u001b[0m\u001b[0m\n\u001b[0m",
      "\u001b[1;31mOperationalError\u001b[0m: table breakfast already exists"
     ]
    }
   ],
   "source": [
    "c.execute(\"CREATE TABLE breakfast(\\\n",
    "            name VARCHAR(32) PRIMARY KEY, \\\n",
    "            spam INTEGER, \\\n",
    "            eggs INTEGER, \\\n",
    "            sausage INTEGER, \\\n",
    "            price FLOAT);\")\n"
   ]
  },
  {
   "cell_type": "markdown",
   "metadata": {},
   "source": [
    "파일을 열어서 확인\n",
    "\n",
    "링크에서 sqlite browser 다운로드:\n",
    "    http://sqlitebrowser.org/\n",
    "\n",
    "\n",
    "jupyter root에서 mytest.db 를 열어 breakfast 테이블이 생성된 것을 확인"
   ]
  },
  {
   "cell_type": "code",
   "execution_count": 37,
   "metadata": {},
   "outputs": [],
   "source": [
    "c.execute(\"INSERT INTO breakfast VALUES\\\n",
    "            (\\\"Spam and sausage Lover's Plate\\\", 5, 1, 8, 7.95)\")\n",
    "menus = [(\"Not so Much Spam Plate\", 3,2,0,3.95),\\\n",
    "         (\"Don't Want ANY SPAM! Plate\", 0,4,3,5.95)]\n",
    "\n",
    "c.executemany(\"INSERT INTO breakfast VALUES(?,?,?,?,?)\", menus)\n",
    "\n",
    "conn.commit()"
   ]
  },
  {
   "cell_type": "code",
   "execution_count": 38,
   "metadata": {},
   "outputs": [
    {
     "data": {
      "text/plain": [
       "[(\"Spam and sausage Lover's Plate\", 5, 1, 8, 7.95),\n",
       " ('Not so Much Spam Plate', 3, 2, 0, 3.95),\n",
       " (\"Don't Want ANY SPAM! Plate\", 0, 4, 3, 5.95)]"
      ]
     },
     "execution_count": 38,
     "metadata": {},
     "output_type": "execute_result"
    }
   ],
   "source": [
    "c.execute(\"SELECT * FROM breakfast\")\n",
    "plates = c.fetchall()\n",
    "plates"
   ]
  },
  {
   "cell_type": "markdown",
   "metadata": {},
   "source": [
    "## PyMySQL ##"
   ]
  },
  {
   "cell_type": "code",
   "execution_count": 39,
   "metadata": {},
   "outputs": [],
   "source": [
    "conn.close()"
   ]
  },
  {
   "cell_type": "code",
   "execution_count": 42,
   "metadata": {},
   "outputs": [],
   "source": [
    "import pymysql"
   ]
  },
  {
   "cell_type": "code",
   "execution_count": 43,
   "metadata": {},
   "outputs": [
    {
     "data": {
      "text/plain": [
       "<pymysql.connections.Connection at 0x1b9f3271cc0>"
      ]
     },
     "execution_count": 43,
     "metadata": {},
     "output_type": "execute_result"
    }
   ],
   "source": [
    "connection  = pymysql.connect(\n",
    "                host='localhost',\n",
    "                user='root',\n",
    "                password='24tlrksrkehdwkdql##',\n",
    "                db='almond',\n",
    "                charset='utf8'\n",
    ")\n",
    "\n",
    "connection"
   ]
  },
  {
   "cell_type": "code",
   "execution_count": 46,
   "metadata": {},
   "outputs": [
    {
     "name": "stdout",
     "output_type": "stream",
     "text": [
      "((0, 1, 'root', 0, 0, 'root'), (1, 1, '응응', 0, 0, '계약조항1'), (2, 1, '222', 1, 0, '계약조항2'), (3, 1, '333333', 2, 0, '계약조항3'), (4, 1, '444444', 3, 0, '계약조항4'), (5, 1, '1-1 내용', 0, 1, '1-1 제목'), (6, 1, '제목1-2', 1, 1, '제목 1-2'), (7, 1, '내용 2-1', 0, 2, '제목 2-1'), (8, 1, '내용1-2-1', 0, 6, '제목1-2-1'), (11, 1, '내용1-1-1', 0, 5, '제목1-1-1'), (12, 1, '내용1-2-1-1', 0, 8, '내용1-2-1-1')) <class 'tuple'>\n"
     ]
    }
   ],
   "source": [
    "with connection.cursor() as cursor:\n",
    "    sql = \"SELECT * FROM almond.almond_api_server_templateitem;\"\n",
    "    cursor.execute(sql)\n",
    "    result = cursor.fetchall()\n",
    "    print(result, type(result))"
   ]
  },
  {
   "cell_type": "code",
   "execution_count": 47,
   "metadata": {},
   "outputs": [],
   "source": [
    "connection.close()"
   ]
  },
  {
   "cell_type": "markdown",
   "metadata": {},
   "source": [
    "# CH20 #"
   ]
  },
  {
   "cell_type": "code",
   "execution_count": 49,
   "metadata": {},
   "outputs": [],
   "source": [
    "from tkinter import *\n",
    "root = Tk()\n",
    "root.title(\"A simple application\")\n",
    "root.mainloop()"
   ]
  },
  {
   "cell_type": "code",
   "execution_count": 53,
   "metadata": {},
   "outputs": [
    {
     "name": "stdout",
     "output_type": "stream",
     "text": [
      "pyimage4\n"
     ]
    },
    {
     "ename": "TclError",
     "evalue": "image \"pyimage4\" doesn't exist",
     "output_type": "error",
     "traceback": [
      "\u001b[1;31m---------------------------------------------------------------------------\u001b[0m",
      "\u001b[1;31mTclError\u001b[0m                                  Traceback (most recent call last)",
      "\u001b[1;32m<ipython-input-53-f04beaceed73>\u001b[0m in \u001b[0;36m<module>\u001b[1;34m()\u001b[0m\n\u001b[0;32m     15\u001b[0m \u001b[0mdogimage\u001b[0m \u001b[1;33m=\u001b[0m \u001b[0mPhotoImage\u001b[0m\u001b[1;33m(\u001b[0m\u001b[0mfile\u001b[0m\u001b[1;33m=\u001b[0m\u001b[1;34m'prance-8.gif'\u001b[0m\u001b[1;33m)\u001b[0m\u001b[1;33m\u001b[0m\u001b[0m\n\u001b[0;32m     16\u001b[0m \u001b[0mprint\u001b[0m\u001b[1;33m(\u001b[0m\u001b[0mdogimage\u001b[0m\u001b[1;33m)\u001b[0m\u001b[1;33m\u001b[0m\u001b[0m\n\u001b[1;32m---> 17\u001b[1;33m \u001b[0mmycanvas\u001b[0m\u001b[1;33m.\u001b[0m\u001b[0mcreate_image\u001b[0m\u001b[1;33m(\u001b[0m\u001b[1;36m200\u001b[0m\u001b[1;33m,\u001b[0m\u001b[1;36m40\u001b[0m\u001b[1;33m,\u001b[0m \u001b[0mimage\u001b[0m\u001b[1;33m=\u001b[0m\u001b[0mdogimage\u001b[0m\u001b[1;33m)\u001b[0m\u001b[1;33m\u001b[0m\u001b[0m\n\u001b[0m\u001b[0;32m     18\u001b[0m \u001b[1;33m\u001b[0m\u001b[0m\n\u001b[0;32m     19\u001b[0m \u001b[0mroot\u001b[0m\u001b[1;33m.\u001b[0m\u001b[0mmainloop\u001b[0m\u001b[1;33m(\u001b[0m\u001b[1;33m)\u001b[0m\u001b[1;33m\u001b[0m\u001b[0m\n",
      "\u001b[1;32m~\\AppData\\Local\\Continuum\\anaconda3\\lib\\tkinter\\__init__.py\u001b[0m in \u001b[0;36mcreate_image\u001b[1;34m(self, *args, **kw)\u001b[0m\n\u001b[0;32m   2484\u001b[0m     \u001b[1;32mdef\u001b[0m \u001b[0mcreate_image\u001b[0m\u001b[1;33m(\u001b[0m\u001b[0mself\u001b[0m\u001b[1;33m,\u001b[0m \u001b[1;33m*\u001b[0m\u001b[0margs\u001b[0m\u001b[1;33m,\u001b[0m \u001b[1;33m**\u001b[0m\u001b[0mkw\u001b[0m\u001b[1;33m)\u001b[0m\u001b[1;33m:\u001b[0m\u001b[1;33m\u001b[0m\u001b[0m\n\u001b[0;32m   2485\u001b[0m         \u001b[1;34m\"\"\"Create image item with coordinates x1,y1.\"\"\"\u001b[0m\u001b[1;33m\u001b[0m\u001b[0m\n\u001b[1;32m-> 2486\u001b[1;33m         \u001b[1;32mreturn\u001b[0m \u001b[0mself\u001b[0m\u001b[1;33m.\u001b[0m\u001b[0m_create\u001b[0m\u001b[1;33m(\u001b[0m\u001b[1;34m'image'\u001b[0m\u001b[1;33m,\u001b[0m \u001b[0margs\u001b[0m\u001b[1;33m,\u001b[0m \u001b[0mkw\u001b[0m\u001b[1;33m)\u001b[0m\u001b[1;33m\u001b[0m\u001b[0m\n\u001b[0m\u001b[0;32m   2487\u001b[0m     \u001b[1;32mdef\u001b[0m \u001b[0mcreate_line\u001b[0m\u001b[1;33m(\u001b[0m\u001b[0mself\u001b[0m\u001b[1;33m,\u001b[0m \u001b[1;33m*\u001b[0m\u001b[0margs\u001b[0m\u001b[1;33m,\u001b[0m \u001b[1;33m**\u001b[0m\u001b[0mkw\u001b[0m\u001b[1;33m)\u001b[0m\u001b[1;33m:\u001b[0m\u001b[1;33m\u001b[0m\u001b[0m\n\u001b[0;32m   2488\u001b[0m         \u001b[1;34m\"\"\"Create line with coordinates x1,y1,...,xn,yn.\"\"\"\u001b[0m\u001b[1;33m\u001b[0m\u001b[0m\n",
      "\u001b[1;32m~\\AppData\\Local\\Continuum\\anaconda3\\lib\\tkinter\\__init__.py\u001b[0m in \u001b[0;36m_create\u001b[1;34m(self, itemType, args, kw)\u001b[0m\n\u001b[0;32m   2475\u001b[0m         return self.tk.getint(self.tk.call(\n\u001b[0;32m   2476\u001b[0m             \u001b[0mself\u001b[0m\u001b[1;33m.\u001b[0m\u001b[0m_w\u001b[0m\u001b[1;33m,\u001b[0m \u001b[1;34m'create'\u001b[0m\u001b[1;33m,\u001b[0m \u001b[0mitemType\u001b[0m\u001b[1;33m,\u001b[0m\u001b[1;33m\u001b[0m\u001b[0m\n\u001b[1;32m-> 2477\u001b[1;33m             *(args + self._options(cnf, kw))))\n\u001b[0m\u001b[0;32m   2478\u001b[0m     \u001b[1;32mdef\u001b[0m \u001b[0mcreate_arc\u001b[0m\u001b[1;33m(\u001b[0m\u001b[0mself\u001b[0m\u001b[1;33m,\u001b[0m \u001b[1;33m*\u001b[0m\u001b[0margs\u001b[0m\u001b[1;33m,\u001b[0m \u001b[1;33m**\u001b[0m\u001b[0mkw\u001b[0m\u001b[1;33m)\u001b[0m\u001b[1;33m:\u001b[0m\u001b[1;33m\u001b[0m\u001b[0m\n\u001b[0;32m   2479\u001b[0m         \u001b[1;34m\"\"\"Create arc shaped region with coordinates x1,y1,x2,y2.\"\"\"\u001b[0m\u001b[1;33m\u001b[0m\u001b[0m\n",
      "\u001b[1;31mTclError\u001b[0m: image \"pyimage4\" doesn't exist"
     ]
    }
   ],
   "source": [
    "root = Tk()\n",
    "root.columnconfigure(0, weight=1)\n",
    "root.rowconfigure(0, weight=1)\n",
    "\n",
    "mycanvas = Canvas(root)\n",
    "mycanvas.grid(column=0,row=0, sticky=(N,W,E,S))\n",
    "\n",
    "mycanvas.create_line((10,10,10,100))\n",
    "mycanvas.create_line((10,10,100,10))\n",
    "mycanvas.create_rectangle(100,100,150,150)\n",
    "mycanvas.create_oval(200,100,250,150)\n",
    "mycanvas.create_polygon(280,150,280,100,350,150,360,100,380,250)\n",
    "mycanvas.create_text(50,200,text='canvas')\n",
    "\n",
    "dogimage = PhotoImage(file='prance-8.gif')\n",
    "print(dogimage)\n",
    "mycanvas.create_image(200,40, image=dogimage)\n",
    "\n",
    "root.mainloop()"
   ]
  },
  {
   "cell_type": "code",
   "execution_count": null,
   "metadata": {},
   "outputs": [],
   "source": []
  }
 ],
 "metadata": {
  "kernelspec": {
   "display_name": "Python 3",
   "language": "python",
   "name": "python3"
  },
  "language_info": {
   "codemirror_mode": {
    "name": "ipython",
    "version": 3
   },
   "file_extension": ".py",
   "mimetype": "text/x-python",
   "name": "python",
   "nbconvert_exporter": "python",
   "pygments_lexer": "ipython3",
   "version": "3.6.5"
  }
 },
 "nbformat": 4,
 "nbformat_minor": 2
}
