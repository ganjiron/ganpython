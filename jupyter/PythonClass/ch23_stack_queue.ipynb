{
 "cells": [
  {
   "cell_type": "code",
   "execution_count": 17,
   "metadata": {},
   "outputs": [],
   "source": [
    "def towerOfHanoi(n,x,y,z):\n",
    "    if (n>0):\n",
    "        towerOfHanoi(n-1,z,y,x)\n",
    "        print(\"from \" +x+\" to \"+ y + \" {} \".format(n))\n",
    "        towerOfHanoi(n-1,z,y,x)\n",
    "\n",
    "        "
   ]
  },
  {
   "cell_type": "code",
   "execution_count": 18,
   "metadata": {},
   "outputs": [
    {
     "name": "stdout",
     "output_type": "stream",
     "text": [
      "from x to y 1 \n",
      "from z to y 2 \n",
      "from x to y 1 \n",
      "from x to y 3 \n",
      "from x to y 1 \n",
      "from z to y 2 \n",
      "from x to y 1 \n"
     ]
    }
   ],
   "source": [
    "x,y,z=\"x\",\"y\",\"z\"\n",
    "towerOfHanoi(3,x,y,z)"
   ]
  },
  {
   "cell_type": "code",
   "execution_count": null,
   "metadata": {},
   "outputs": [],
   "source": []
  }
 ],
 "metadata": {
  "kernelspec": {
   "display_name": "Python 3",
   "language": "python",
   "name": "python3"
  },
  "language_info": {
   "codemirror_mode": {
    "name": "ipython",
    "version": 3
   },
   "file_extension": ".py",
   "mimetype": "text/x-python",
   "name": "python",
   "nbconvert_exporter": "python",
   "pygments_lexer": "ipython3",
   "version": "3.6.5"
  }
 },
 "nbformat": 4,
 "nbformat_minor": 2
}
