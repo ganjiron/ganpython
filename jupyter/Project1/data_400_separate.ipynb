{
 "cells": [
  {
   "cell_type": "code",
   "execution_count": 1,
   "metadata": {},
   "outputs": [],
   "source": [
    "import pandas as pd\n",
    "import matplotlib.pyplot as plt\n",
    "import numpy as np\n",
    "\n"
   ]
  },
  {
   "cell_type": "code",
   "execution_count": 3,
   "metadata": {},
   "outputs": [
    {
     "name": "stdout",
     "output_type": "stream",
     "text": [
      "jog_9 (1/15)\n",
      "sit_13 (2/15)\n",
      "dws_1 (3/15)\n",
      "wlk_8 (4/15)\n",
      "ups_3 (5/15)\n",
      "dws_11 (6/15)\n",
      "jog_16 (7/15)\n",
      "dws_2 (8/15)\n",
      "wlk_7 (9/15)\n",
      "ups_12 (10/15)\n",
      "std_14 (11/15)\n",
      "wlk_15 (12/15)\n",
      "ups_4 (13/15)\n",
      "sit_5 (14/15)\n",
      "std_6 (15/15)\n"
     ]
    }
   ],
   "source": [
    "data = pd.read_csv(\"test_data.csv\")\n",
    "tot = pd.DataFrame()\n",
    "period_length = 400\n",
    "label = []\n",
    "cnt = 1\n",
    "for action_id in set(data['action_id']):\n",
    "    print(action_id, \"(%d/%d)\"%(cnt, len(set(data['action_id']))))\n",
    "    cnt+=1\n",
    "    for user_id in set(  data.loc[data['action_id'].str.match(action_id+\"$\")]['user_id'] ):\n",
    "        t_data = data.loc[(data['action_id'].str.match(action_id+\"$\") ) & (data['user_id'] == user_id)]\n",
    "        t_data = t_data.iloc[:400]\n",
    "        #ret = generate_mean_zero_count(t_data[:period_length])\n",
    "        #ret[\"action_id\"] = t_data.iloc[0][\"action_id\"]\n",
    "        #ret[\"user_id\"] = t_data.iloc[0][\"user_id\"]\n",
    "        #label += [t_data['action_id']] * period_length\n",
    "        #print(ret)\n",
    "        tot = tot.append(t_data, ignore_index=True)\n",
    "tot.to_csv(\"test_data_400.csv\",index=False)"
   ]
  },
  {
   "cell_type": "code",
   "execution_count": 4,
   "metadata": {},
   "outputs": [
    {
     "name": "stdout",
     "output_type": "stream",
     "text": [
      "jog_9 (1/15)\n",
      "sit_13 (2/15)\n",
      "dws_1 (3/15)\n",
      "wlk_8 (4/15)\n",
      "ups_3 (5/15)\n",
      "dws_11 (6/15)\n",
      "jog_16 (7/15)\n",
      "dws_2 (8/15)\n",
      "wlk_7 (9/15)\n",
      "ups_12 (10/15)\n",
      "std_14 (11/15)\n",
      "wlk_15 (12/15)\n",
      "ups_4 (13/15)\n",
      "sit_5 (14/15)\n",
      "std_6 (15/15)\n"
     ]
    }
   ],
   "source": [
    "data = pd.read_csv(\"train_data.csv\")\n",
    "tot = pd.DataFrame()\n",
    "period_length = 400\n",
    "label = []\n",
    "cnt = 1\n",
    "for action_id in set(data['action_id']):\n",
    "    print(action_id, \"(%d/%d)\"%(cnt, len(set(data['action_id']))))\n",
    "    cnt+=1\n",
    "    for user_id in set(  data.loc[data['action_id'].str.match(action_id+\"$\")]['user_id'] ):\n",
    "        t_data = data.loc[(data['action_id'].str.match(action_id+\"$\") ) & (data['user_id'] == user_id)]\n",
    "        t_data = t_data.iloc[:400]\n",
    "        #ret = generate_mean_zero_count(t_data[:period_length])\n",
    "        #ret[\"action_id\"] = t_data.iloc[0][\"action_id\"]\n",
    "        #ret[\"user_id\"] = t_data.iloc[0][\"user_id\"]\n",
    "        #label += [t_data['action_id']] * period_length\n",
    "        #print(ret)\n",
    "        tot = tot.append(t_data, ignore_index=True)\n",
    "tot.to_csv(\"train_data_400.csv\",index=False)"
   ]
  },
  {
   "cell_type": "code",
   "execution_count": null,
   "metadata": {},
   "outputs": [],
   "source": []
  }
 ],
 "metadata": {
  "kernelspec": {
   "display_name": "Python 3",
   "language": "python",
   "name": "python3"
  },
  "language_info": {
   "codemirror_mode": {
    "name": "ipython",
    "version": 3
   },
   "file_extension": ".py",
   "mimetype": "text/x-python",
   "name": "python",
   "nbconvert_exporter": "python",
   "pygments_lexer": "ipython3",
   "version": "3.6.5"
  }
 },
 "nbformat": 4,
 "nbformat_minor": 2
}
