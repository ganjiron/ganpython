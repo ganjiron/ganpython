{
  "nbformat": 4,
  "nbformat_minor": 0,
  "metadata": {
    "colab": {
      "name": "Markdown.ipynb의 사본",
      "provenance": [],
      "collapsed_sections": [],
      "include_colab_link": true
    },
    "kernelspec": {
      "name": "python3",
      "display_name": "Python 3"
    }
  },
  "cells": [
    {
      "cell_type": "markdown",
      "metadata": {
        "id": "view-in-github",
        "colab_type": "text"
      },
      "source": [
        "<a href=\"https://colab.research.google.com/github/ganjiron/ganpython/blob/master/Markdown_ipynb%EC%9D%98_%EC%82%AC%EB%B3%B8.ipynb\" target=\"_parent\"><img src=\"https://colab.research.google.com/assets/colab-badge.svg\" alt=\"Open In Colab\"/></a>"
      ]
    },
    {
      "cell_type": "markdown",
      "metadata": {
        "id": "gFjxw_CFSUk7",
        "colab_type": "text"
      },
      "source": [
        "# Markdown\n",
        "\n",
        "This is just a text document that includes information about writting Markdown Google Colaboratory documents\n",
        "\n",
        "Basic information can be obtained from the [Markdown Guide](https://colab.research.google.com/notebooks/markdown_guide.ipynb)\n",
        "\n",
        "Each cell includes information about a different subject\n",
        "\n",
        "---"
      ]
    },
    {
      "cell_type": "markdown",
      "metadata": {
        "id": "FRJWYaGeTVNr",
        "colab_type": "text"
      },
      "source": [
        "## Headers\n",
        "\n",
        "This cell shows different headers\n",
        "<BR>\n",
        "  \n",
        "\\# Head 1\n",
        "# Head 1\n",
        "\n",
        "\\## Head 2\n",
        "## Head 2\n",
        "\n",
        "\\### Head 3\n",
        "### Head 3\n",
        "\n",
        "---"
      ]
    },
    {
      "cell_type": "markdown",
      "metadata": {
        "id": "7aa-qI7qTvFA",
        "colab_type": "text"
      },
      "source": [
        "## Char formatting\n",
        "\n",
        "To make text **bold** surround it with \\*\\*two asterisks\\*\\*. \n",
        "\n",
        "To make text *italic* use a \\*single asterisk\\* or \\_underscore\\_.\n",
        "\n",
        "\n",
        "_**Bold** inside italics_ and **vice-_versa_** also work. \n",
        "\n",
        "~~Strikethrough~~ uses \\~\\~two tildes\\~\\~ \n",
        "\n",
        "`monospace` (such as code) uses \\`backtick\\` characters as delimiters.\n",
        "\n",
        "---"
      ]
    },
    {
      "cell_type": "markdown",
      "metadata": {
        "id": "rHAZGS2yUmX-",
        "colab_type": "text"
      },
      "source": [
        "## Indentation\n",
        "\n",
        "Blocks are indented with \\>, and multiple levels of indentation are indicated by repetition: \\>\\>\\> indents three levels.\n",
        "\n",
        ">First level\n",
        ">>Second level\n",
        ">>>And so on\n",
        "\n",
        "To separate two paragraphs, leave a intermediate blank line\n",
        "\n",
        "Markdown joins any number of spaces in only one space. To add more spaces use `&nbsp;`\n",
        "\n",
        "---"
      ]
    },
    {
      "cell_type": "markdown",
      "metadata": {
        "id": "zQ21l9WTU2Yn",
        "colab_type": "text"
      },
      "source": [
        "## Lists\n",
        "\n",
        "Unordered lists are \\* or - at the beginning of a line. Lists can be nested by indenting using two spaces for each level of nesting.\n",
        "\n",
        "* First element of unordered list\n",
        "* Second element of unordered list\n",
        ">* Indented element of unordered list (using \\>\\*)\n",
        "\n",
        "Ordered lists are created by typing any number followed by a period at the beginning of a line. \n",
        "\n",
        "1. First element of ordered list\n",
        "2. Second element of ordered list\n",
        ">2.1 Indented element or ordered list\n",
        "\n",
        "---"
      ]
    },
    {
      "cell_type": "markdown",
      "metadata": {
        "id": "PTnW1QLNsE-J",
        "colab_type": "text"
      },
      "source": [
        "## Links\n",
        "\n",
        "[Links](https://research.google.com/colaboratory) are created with \\[brackets around the linked text\\](and-parentheses-around-the-url.html).\n",
        "\n",
        "Naked URLs, like https://google.com, will automatically be linkified.\n",
        "\n",
        "---"
      ]
    },
    {
      "cell_type": "markdown",
      "metadata": {
        "id": "BTjD8xess7ME",
        "colab_type": "text"
      },
      "source": [
        "## Images\n",
        "\n",
        "Images can be included if they are available on internet\n",
        "\n",
        "A '!' character before a link shows the image associated to the link\n",
        "\n",
        "**Example**\n",
        "\n",
        "\\!\\[Pendulum\\](https://raw.githubusercontent.com/R6500/Python-bits/master/Colaboratory/Artwork/Pendulum.png)\n",
        "\n",
        "![Pendulum](https://raw.githubusercontent.com/R6500/Python-bits/master/Colaboratory/Artwork/Pendulum.png)\n",
        "\n",
        "---\n"
      ]
    },
    {
      "cell_type": "markdown",
      "metadata": {
        "id": "GUKezSOQtv41",
        "colab_type": "text"
      },
      "source": [
        "## Horizontal lines\n",
        "\n",
        "Horizontal rules are created with three or more hyphens, underscores, or asterisks (\\-\\-\\-, \\_\\_\\_, or \\*\\*\\*) on their own line.\n",
        "\n",
        "---"
      ]
    },
    {
      "cell_type": "markdown",
      "metadata": {
        "id": "d3wpfbd-uMc8",
        "colab_type": "text"
      },
      "source": [
        "# Tables\n",
        "\n",
        "Tables are created using \\-\\-\\- for the boundary between the column header and columns and \\| between the columns\n",
        "\n",
        "Head is separated to the rest of the tablle with at least three dashes (`---`) at each column\n",
        "\n",
        "The separation line can indicate alignment:\n",
        "\n",
        "\n",
        ">Left|Center|Right\n",
        ">---|---|---\n",
        ">`:---`|`:---:`|`---:`\n",
        "\n",
        "\n",
        "***Example***\n",
        "\n",
        "```\n",
        "Name 1 | Name 2 | Left | Center | Right\n",
        "---|---|:---|:---:|---:\n",
        "1|2|3|4|5\n",
        "6|7|8|9|10\n",
        "```\n",
        "\n",
        ">Name 1 | Name 2 | Left | Center | Right\n",
        ">---|---|:---|:---:|---:\n",
        ">1|2|3|4|5\n",
        ">6|7|8|9|10\n",
        "\n",
        "---"
      ]
    },
    {
      "cell_type": "markdown",
      "metadata": {
        "id": "1oX0LxspxDzj",
        "colab_type": "text"
      },
      "source": [
        "## $\\LaTeX$\n",
        "\n",
        "You can integrate formulas (MathJax) inside text using $\\LaTeX$\n",
        "\n",
        "Inline formulas are surrounded by `$` characters\n",
        "\n",
        ">`$y=x^2$` &nbsp; &nbsp; &nbsp; $y=x^2$\n",
        "\n",
        "You can put formulas centered in their own lines using double `$$` characters like in `$$y=x^2$$`\n",
        "\n",
        "$$y=x^2$$\n",
        "\n",
        "---"
      ]
    },
    {
      "cell_type": "markdown",
      "metadata": {
        "id": "Kjwbs11t-2bE",
        "colab_type": "text"
      },
      "source": [
        "## $\\LaTeX$ Basics\n",
        "\n",
        ">Superscript &nbsp; &nbsp; `$A^B$` &nbsp; &nbsp; $A^B$\n",
        "\n",
        ">Subcript &nbsp; &nbsp; `$A_B$` &nbsp; &nbsp; $A_B$\n",
        "\n",
        ">Vector &nbsp; &nbsp; `$\\vec{A}$` &nbsp; &nbsp; $\\vec{A}$\n",
        "\n",
        ">Fraction &nbsp; &nbsp; `$\\frac{A}{B}$` &nbsp; &nbsp; $\\frac{A}{B}$\n",
        "\n",
        ">Root &nbsp; &nbsp; &nbsp; `$\\sqrt[n]A$` &nbsp; &nbsp; $\\sqrt[n]A$\n",
        "\n",
        ">Sum &nbsp;&nbsp; &nbsp; `$\\sum_A^B$` &nbsp; &nbsp; $\\sum_A^B$\n",
        "\n",
        ">Product &nbsp;&nbsp; &nbsp; `$\\prod_A^B$` &nbsp; &nbsp; $\\prod_A^B$\n",
        "\n",
        ">Integral &nbsp;&nbsp; &nbsp; `$\\int_A^B$` &nbsp; &nbsp; $\\int_A^B$\n",
        "\n",
        ">Block {&nbsp;}&nbsp; &nbsp; `$A^{B+C}$` &nbsp; &nbsp; $A^{B+C}$\n",
        "\n",
        ">Auto sized parenthesis &nbsp;&nbsp; `$\\left( \\frac{\\int_a^bxdx}{2} \\right)$` &nbsp;&nbsp; $\\left( \\frac{\\int_a^bxdx}{2} \\right)$\n",
        "\n",
        "---\n"
      ]
    },
    {
      "cell_type": "markdown",
      "metadata": {
        "id": "QyzEdHpizLK_",
        "colab_type": "text"
      },
      "source": [
        "## $\\LaTeX$ Greek letters\n",
        "\n",
        ">|||||||\n",
        ">------|-------|-------|-------|-------|-------|------|----\n",
        ">$\\alpha$|`\\alpha`|$\\beta$|`\\beta`|$\\gamma$|`\\gamma`|$\\Gamma$|`\\Gamma`\n",
        ">$\\delta$|`\\delta`|$\\Delta$|`\\Delta`|$\\epsilon$|`\\epsilon`|$\\varepsilon$|`\\varepsilon`\n",
        ">$\\zeta$|`\\zeta`|$\\eta$|`\\eta`|$\\theta$|`\\theta`|$\\vartheta$|`\\vartheta`\n",
        ">$\\Theta$|`\\Theta`|$\\iota$|`\\iota`|$\\kappa$|`\\kappa`|$\\lambda$|`\\lambda`\n",
        ">$\\Lambda$|`\\Lambda`|$\\mu$|`\\mu`|$\\nu$|`\\nu`|$\\xi$|`\\xi`\n",
        ">$\\Xi$|`\\Xi`|$\\pi$|`\\pi`|$\\Pi$|`\\Pi`|$\\rho$|`\\rho`\n",
        ">$\\varrho$|`\\varrho`|$\\sigma$|`\\sigma`|$\\Sigma$|`\\Sigma`|$\\tau$|`\\tau`\n",
        ">$\\upsilon$|`\\upsilon`|$\\Upsilon$|`\\Upsilon`|$\\phi$|`\\phi`|$\\varphi$|`\\varphi`\n",
        ">$\\Phi$|`\\Phi`|$\\chi$|`\\chi`|$\\psi$|`\\psi`|$\\Psi$|`\\Psi`\n",
        ">$\\omega$|`\\omega`|$\\Omega$|`\\Omega`||||\n",
        "\n",
        "---"
      ]
    },
    {
      "cell_type": "markdown",
      "metadata": {
        "id": "_aEuh4U93gAm",
        "colab_type": "text"
      },
      "source": [
        "## $\\LaTeX$ Arrows\n",
        "\n",
        ">|||||||\n",
        ">------|-------|-------|-------|-------|-------|------|----\n",
        ">$\\leftarrow$|`\\leftarrow`|$\\Leftarrow$|`\\Leftarrow`|$\\rightarrow$|`\\rightarrow`|$\\Rightarrow$|`\\Rightarrow`\n",
        ">$\\leftrightarrow$|`\\leftrightarrow`|$\\rightleftharpoons$|`\\rightleftharpoons`|$\\uparrow$|`\\uparrow`|$\\downarrow$|`\\downarrow`\n",
        ">$\\Uparrow$|`\\Uparrow`|$\\Downarrow$|`\\Downarrow`|$\\Leftrightarrow$|`\\Leftrightarrow`|$\\Updownarrow$|`\\Updownarrow`\n",
        ">$\\mapsto$|`\\mapsto`|$\\longmapsto$|`\\longmapsto`|$\\nearrow$|`\\nearrow`|$\\searrow$|`\\searrow`\n",
        ">$\\swarrow$|`\\swarrow`|$\\nwarrow$|`\\nwarrow`|$\\leftharpoonup$|`\\leftharpoonup`|$\\rightharpoonup$|`\\rightharpoonup`\n",
        ">$\\leftharpoondown$|`\\leftharpoondown`|$\\rightharpoondown$|`\\rightharpoondown`||||\n",
        "\n",
        "---"
      ]
    },
    {
      "cell_type": "markdown",
      "metadata": {
        "id": "Jrd8xTKW5HJo",
        "colab_type": "text"
      },
      "source": [
        "## $\\LaTeX$ Miscellaneous symbols\n",
        "\n",
        ">|||||||\n",
        ">------|-------|-------|-------|-------|-------|------|----\n",
        ">$\\infty$|`\\infty`|$\\forall$|`\\forall`|$\\Re$|`\\Re`|$\\Im$|`\\Im`\n",
        ">$\\nabla$|`\\nabla`|$\\exists$|`\\exists`|$\\partial$|`\\partial`|$\\nexists$|`\\nexists`\n",
        ">$\\emptyset$|`\\emptyset`|$\\varnothing$|`\\varnothing`|$\\wp$|`\\wp`|$\\complement$|`\\complement`\n",
        ">$\\neg$|`\\neg`|$\\cdots$|`\\cdots`|$\\square$|`\\square`|$\\surd$|`\\surd`\n",
        ">$\\blacksquare$|`\\blacksquare`|$\\triangle$|`\\triangle`|$\\S$|`\\S`||\n",
        "\n",
        "---"
      ]
    },
    {
      "cell_type": "markdown",
      "metadata": {
        "id": "3rCtt7kz6HAI",
        "colab_type": "text"
      },
      "source": [
        "## $\\LaTeX$ Especial operators\n",
        "\n",
        "\n",
        ">|||||||\n",
        ">:----:|-------|:----:|-------|:----:|-------|:----:|----\n",
        ">$\\times$|`\\times`|$\\otimes$|`\\otimes`|$\\div$|`\\div`|$\\cap$|`\\cap`\n",
        ">$\\cup$|`\\cup`|$\\neq$|`\\neq`|$\\leq$|`\\leq`|$\\geq$|`\\geq`\n",
        ">$\\in$|`\\in`|$\\perp$|`\\perp`|$\\notin$|`\\notin`|$\\subset$|`\\subset`\n",
        ">$\\simeq$|`\\simeq`|$\\approx$|`\\approx`|$\\wedge$|`\\wedge`|$\\vee$|`\\vee`\n",
        ">$\\oplus$|`\\oplus`|$\\otimes$|`\\otimes`|$\\Box$|`\\Box`|$\\boxtimes$|`\\boxtimes`\n",
        ">$\\equiv$|`\\equiv`|$\\cong$|`\\cong`|$\\pm$|`\\pm`|$\\mp$|`\\mp`\n",
        ">$\\star$|`\\star`|$\\circ$|`\\circ`|$\\bullet$|`\\bullet`|$\\cdot$|`\\cdot`\n",
        ">$\\wr$|`\\wr`|$\\diamond$|`\\diamond`|$\\odot$|`\\odot`|$\\bigcirc$|`\\bigcirc`\n",
        ">$\\dagger$|`\\dagger`|$\\ddagger$|`\\ddagger`|$\\amalg$|`\\amalg`||\n",
        ">$\\ll$|`\\ll`|$\\gg$|`\\gg`|$\\propto$|`\\propto`|$\\doteq$|`\\doteq`\n",
        "\n",
        "---\n"
      ]
    },
    {
      "cell_type": "markdown",
      "metadata": {
        "id": "bcpGG38aWmVT",
        "colab_type": "text"
      },
      "source": [
        "## $\\LaTeX$ Spaces\n",
        "\n",
        "Sometimes you need to add spaces on a formula\n",
        "\n",
        ">Code | Size | Example\n",
        ">-----|:----:|--------\n",
        ">`\\qquad`|36|$a \\qquad b$\n",
        ">`\\quad`|18|$a \\quad b$\n",
        ">`\\enspace`|9|$a \\enspace b$\n",
        ">`\\;`|5|$a \\; b$\n",
        ">`\\:`|4|$a \\: b$\n",
        ">`\\,`|3|$a \\, b$\n",
        ">`\\!`|-3|$a \\! b$\n"
      ]
    }
  ]
}